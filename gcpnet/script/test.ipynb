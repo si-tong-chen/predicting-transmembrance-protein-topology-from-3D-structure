{
 "cells": [
  {
   "cell_type": "code",
   "execution_count": null,
   "metadata": {},
   "outputs": [],
   "source": [
    "from task import CreateDataBeforeBatch,TMPDataset,CreateLable,MapAtomNode,node_accuracy,ProcessBatch,GaussianSmoothing\n",
    "from data_utils import ProcessRawData,ParseStructure\n",
    "from torch.utils.data import DataLoader\n",
    "import torch\n",
    "import torch.nn as nn\n",
    "import torch.optim as optim\n",
    "from torch.nn import functional as F\n",
    "from gcpnet import GCPNetModel\n",
    "import torch.optim as optim\n",
    "from omegaconf import OmegaConf\n",
    "import numpy as np\n",
    "from task import MapAtomNode,node_accuracy\n",
    "from scipy.ndimage import gaussian_filter1d\n",
    "import warnings\n",
    "warnings.filterwarnings('ignore')\n",
    "from test import TMPTest\n"
   ]
  },
  {
   "cell_type": "code",
   "execution_count": 2,
   "metadata": {},
   "outputs": [],
   "source": [
    "import pickle\n",
    "path = '/work3/s230027/DL/codebase/dataset/parse raw data/cv4.pickle'\n",
    "with open(path, 'rb') as file:\n",
    "    cv4 = pickle.load(file)"
   ]
  },
  {
   "cell_type": "code",
   "execution_count": 3,
   "metadata": {},
   "outputs": [],
   "source": [
    "\n",
    "TM_name_list = cv4[cv4['protein_type'] == 'TM']['uniprot_id_low'].tolist()\n",
    "BETA_name_list = cv4[cv4['protein_type'] == 'BETA']['uniprot_id_low'].tolist()\n",
    "SP_TM_name_list = cv4[cv4['protein_type'] == 'SP+TM']['uniprot_id_low'].tolist()"
   ]
  },
  {
   "cell_type": "code",
   "execution_count": 4,
   "metadata": {},
   "outputs": [],
   "source": [
    "file_name = \"DeepTMHMM.3line\"\n",
    "path='/work3/s230027/DL/codebase/'\n",
    "batch_size=100\n",
    "setup = 'setup1' # choose crossvalidation (total 5)\n",
    "processsor= CreateDataBeforeBatch(path)\n",
    "train_data_dict_before_batch,val_data_dict_before_batch,test_data_dict_before_batch=processsor.get_data(setup)\n",
    "\n",
    "TM_test={}\n",
    "for name in TM_name_list:\n",
    "    TM_test[name]=test_data_dict_before_batch[name]\n",
    "\n",
    "BETA_test={}\n",
    "for name in BETA_name_list:\n",
    "    BETA_test[name]=test_data_dict_before_batch[name]\n",
    "\n",
    "SP_TM_test={}\n",
    "for name in SP_TM_name_list:\n",
    "    SP_TM_test[name] = test_data_dict_before_batch[name]\n"
   ]
  },
  {
   "cell_type": "code",
   "execution_count": null,
   "metadata": {},
   "outputs": [],
   "source": [
    "\n",
    "file_name = \"DeepTMHMM.3line\"\n",
    "path='/work3/s230027/DL/codebase/'\n",
    "modelpath='/work3/s230027/DL/result/gcpnet/CVsetup1_model_major_voting_size1_epoch20.pth'\n",
    "batch_size=1"
   ]
  },
  {
   "cell_type": "code",
   "execution_count": 5,
   "metadata": {},
   "outputs": [
    {
     "name": "stdout",
     "output_type": "stream",
     "text": [
      "Node acc: 0.38253774472966645\n",
      "Node binary acc: 0.4297083089716105\n",
      "Avg atom acc: 0.38566868972055374\n",
      "Total atom acc: 1360.2987012987012\n",
      "Correct topology without Gaussian smoothing: 0.0\n",
      "Node acc before smoothing: 0.38253774472966645\n",
      "Before smoothing correct topology: 0.0 \n",
      "\n",
      "Node acc after Gaussian smoothing: 0.3827617863366293\n",
      "After Gaussian smoothing correct topology: 0.0 \n",
      "\n"
     ]
    }
   ],
   "source": [
    "##TM\n",
    "processor=TMPTest(TM_test,file_name,path,batch_size,5,setup='setup1',modelpath=modelpath)\n",
    "processor.printresult()"
   ]
  },
  {
   "cell_type": "code",
   "execution_count": 6,
   "metadata": {},
   "outputs": [
    {
     "name": "stdout",
     "output_type": "stream",
     "text": [
      "Node acc: 0.21994157645853893\n",
      "Node binary acc: 0.23343890208498286\n",
      "Avg atom acc: 0.22267544511230725\n",
      "Total atom acc: 1416.6\n",
      "Correct topology without Gaussian smoothing: 0.0\n",
      "Node acc before smoothing: 0.21994157645853893\n",
      "Before smoothing correct topology: 0.0 \n",
      "\n",
      "Node acc after Gaussian smoothing: 0.22011942967590584\n",
      "After Gaussian smoothing correct topology: 0.0 \n",
      "\n"
     ]
    }
   ],
   "source": [
    "##SP_TM\n",
    "processor=TMPTest(SP_TM_test,file_name,path,batch_size,5,setup='setup1',modelpath=modelpath)\n",
    "processor.printresult()"
   ]
  },
  {
   "cell_type": "code",
   "execution_count": 7,
   "metadata": {},
   "outputs": [
    {
     "name": "stdout",
     "output_type": "stream",
     "text": [
      "Node acc: 0.0006105413463995653\n",
      "Node binary acc: 0.00031443244942878104\n",
      "Avg atom acc: 0.0013800501206371974\n",
      "Total atom acc: 4.1875\n",
      "Correct topology without Gaussian smoothing: 0.0\n",
      "Node acc before smoothing: 0.0006105413463995653\n",
      "Before smoothing correct topology: 0.0 \n",
      "\n",
      "Node acc after Gaussian smoothing: 0.0\n",
      "After Gaussian smoothing correct topology: 0.0 \n",
      "\n"
     ]
    }
   ],
   "source": [
    "##BETA\n",
    "processor=TMPTest(BETA_test,file_name,path,batch_size,3,setup='setup1',modelpath=modelpath)\n",
    "processor.printresult()"
   ]
  },
  {
   "cell_type": "code",
   "execution_count": 8,
   "metadata": {},
   "outputs": [
    {
     "name": "stdout",
     "output_type": "stream",
     "text": [
      "Node acc: 0.6069055560119212\n",
      "Node binary acc: 0.6794101413792616\n",
      "Avg atom acc: 0.605660504639066\n",
      "Total atom acc: 2655.056258790436\n",
      "Correct topology without Gaussian smoothing: 0.3319268635724332\n",
      "Node acc before smoothing: 0.6069055560119212\n",
      "Before smoothing correct topology: 0.3319268635724332 \n",
      "\n",
      "Node acc after Gaussian smoothing: 0.6074191928852863\n",
      "After Gaussian smoothing correct topology: 0.559774964838256 \n",
      "\n"
     ]
    }
   ],
   "source": [
    "# all the test data\n",
    "processor=TMPTest(test_data_dict_before_batch,file_name,path,batch_size,3,setup='setup1',modelpath=modelpath)\n",
    "processor.printresult()"
   ]
  },
  {
   "cell_type": "code",
   "execution_count": null,
   "metadata": {},
   "outputs": [],
   "source": []
  }
 ],
 "metadata": {
  "kernelspec": {
   "display_name": "Python 3 (ipykernel)",
   "language": "python",
   "name": "python3"
  }
 },
 "nbformat": 4,
 "nbformat_minor": 2
}

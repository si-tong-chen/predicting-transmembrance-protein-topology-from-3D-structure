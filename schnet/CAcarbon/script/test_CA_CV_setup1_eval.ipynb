{
 "cells": [
  {
   "cell_type": "code",
   "execution_count": 1,
   "id": "1e1259db-f48d-4399-95e4-6b86aea96a3f",
   "metadata": {},
   "outputs": [
    {
     "data": {
      "text/html": [
       "<pre style=\"white-space:pre;overflow-x:auto;line-height:normal;font-family:Menlo,'DejaVu Sans Mono',consolas,'Courier New',monospace\"><span style=\"color: #7fbfbf; text-decoration-color: #7fbfbf\">[12/19/23 06:00:04] </span><span style=\"color: #800000; text-decoration-color: #800000\">WARNING </span> To use the Graphein submodule                                         <a href=\"file:///zhome/6e/5/146981/.local/lib/python3.9/site-packages/graphein/protein/features/sequence/embeddings.py\" target=\"_blank\"><span style=\"color: #7f7f7f; text-decoration-color: #7f7f7f\">embeddings.py</span></a><span style=\"color: #7f7f7f; text-decoration-color: #7f7f7f\">:</span><a href=\"file:///zhome/6e/5/146981/.local/lib/python3.9/site-packages/graphein/protein/features/sequence/embeddings.py#44\" target=\"_blank\"><span style=\"color: #7f7f7f; text-decoration-color: #7f7f7f\">44</span></a>\n",
       "<span style=\"color: #7fbfbf; text-decoration-color: #7fbfbf\">                    </span>         graphein.protein.features.sequence.embeddings, you need to install:   <span style=\"color: #7f7f7f; text-decoration-color: #7f7f7f\">                </span>\n",
       "<span style=\"color: #7fbfbf; text-decoration-color: #7fbfbf\">                    </span>         biovec                                                                <span style=\"color: #7f7f7f; text-decoration-color: #7f7f7f\">                </span>\n",
       "<span style=\"color: #7fbfbf; text-decoration-color: #7fbfbf\">                    </span>         biovec cannot be installed via conda                                  <span style=\"color: #7f7f7f; text-decoration-color: #7f7f7f\">                </span>\n",
       "<span style=\"color: #7fbfbf; text-decoration-color: #7fbfbf\">                    </span>         Alternatively, you can install graphein with the extras:              <span style=\"color: #7f7f7f; text-decoration-color: #7f7f7f\">                </span>\n",
       "<span style=\"color: #7fbfbf; text-decoration-color: #7fbfbf\">                    </span>                                                                               <span style=\"color: #7f7f7f; text-decoration-color: #7f7f7f\">                </span>\n",
       "<span style=\"color: #7fbfbf; text-decoration-color: #7fbfbf\">                    </span>         pip install graphein<span style=\"font-weight: bold\">[</span>extras<span style=\"font-weight: bold\">]</span>                                          <span style=\"color: #7f7f7f; text-decoration-color: #7f7f7f\">                </span>\n",
       "</pre>\n"
      ],
      "text/plain": [
       "\u001b[2;36m[12/19/23 06:00:04]\u001b[0m\u001b[2;36m \u001b[0m\u001b[31mWARNING \u001b[0m To use the Graphein submodule                                         \u001b]8;id=3197;file:///zhome/6e/5/146981/.local/lib/python3.9/site-packages/graphein/protein/features/sequence/embeddings.py\u001b\\\u001b[2membeddings.py\u001b[0m\u001b]8;;\u001b\\\u001b[2m:\u001b[0m\u001b]8;id=223617;file:///zhome/6e/5/146981/.local/lib/python3.9/site-packages/graphein/protein/features/sequence/embeddings.py#44\u001b\\\u001b[2m44\u001b[0m\u001b]8;;\u001b\\\n",
       "\u001b[2;36m                    \u001b[0m         graphein.protein.features.sequence.embeddings, you need to install:   \u001b[2m                \u001b[0m\n",
       "\u001b[2;36m                    \u001b[0m         biovec                                                                \u001b[2m                \u001b[0m\n",
       "\u001b[2;36m                    \u001b[0m         biovec cannot be installed via conda                                  \u001b[2m                \u001b[0m\n",
       "\u001b[2;36m                    \u001b[0m         Alternatively, you can install graphein with the extras:              \u001b[2m                \u001b[0m\n",
       "\u001b[2;36m                    \u001b[0m                                                                               \u001b[2m                \u001b[0m\n",
       "\u001b[2;36m                    \u001b[0m         pip install graphein\u001b[1m[\u001b[0mextras\u001b[1m]\u001b[0m                                          \u001b[2m                \u001b[0m\n"
      ]
     },
     "metadata": {},
     "output_type": "display_data"
    },
    {
     "data": {
      "text/html": [
       "<pre style=\"white-space:pre;overflow-x:auto;line-height:normal;font-family:Menlo,'DejaVu Sans Mono',consolas,'Courier New',monospace\"><span style=\"color: #7fbfbf; text-decoration-color: #7fbfbf\">[12/19/23 06:00:05] </span><span style=\"color: #800000; text-decoration-color: #800000\">WARNING </span> To use the Graphein submodule graphein.protein.visualisation, you  <a href=\"file:///zhome/6e/5/146981/.local/lib/python3.9/site-packages/graphein/protein/visualisation.py\" target=\"_blank\"><span style=\"color: #7f7f7f; text-decoration-color: #7f7f7f\">visualisation.py</span></a><span style=\"color: #7f7f7f; text-decoration-color: #7f7f7f\">:</span><a href=\"file:///zhome/6e/5/146981/.local/lib/python3.9/site-packages/graphein/protein/visualisation.py#35\" target=\"_blank\"><span style=\"color: #7f7f7f; text-decoration-color: #7f7f7f\">35</span></a>\n",
       "<span style=\"color: #7fbfbf; text-decoration-color: #7fbfbf\">                    </span>         need to install: pytorch3d                                         <span style=\"color: #7f7f7f; text-decoration-color: #7f7f7f\">                   </span>\n",
       "<span style=\"color: #7fbfbf; text-decoration-color: #7fbfbf\">                    </span>         To do so, use the following command: conda install -c pytorch3d    <span style=\"color: #7f7f7f; text-decoration-color: #7f7f7f\">                   </span>\n",
       "<span style=\"color: #7fbfbf; text-decoration-color: #7fbfbf\">                    </span>         pytorch3d                                                          <span style=\"color: #7f7f7f; text-decoration-color: #7f7f7f\">                   </span>\n",
       "</pre>\n"
      ],
      "text/plain": [
       "\u001b[2;36m[12/19/23 06:00:05]\u001b[0m\u001b[2;36m \u001b[0m\u001b[31mWARNING \u001b[0m To use the Graphein submodule graphein.protein.visualisation, you  \u001b]8;id=617978;file:///zhome/6e/5/146981/.local/lib/python3.9/site-packages/graphein/protein/visualisation.py\u001b\\\u001b[2mvisualisation.py\u001b[0m\u001b]8;;\u001b\\\u001b[2m:\u001b[0m\u001b]8;id=685762;file:///zhome/6e/5/146981/.local/lib/python3.9/site-packages/graphein/protein/visualisation.py#35\u001b\\\u001b[2m35\u001b[0m\u001b]8;;\u001b\\\n",
       "\u001b[2;36m                    \u001b[0m         need to install: pytorch3d                                         \u001b[2m                   \u001b[0m\n",
       "\u001b[2;36m                    \u001b[0m         To do so, use the following command: conda install -c pytorch3d    \u001b[2m                   \u001b[0m\n",
       "\u001b[2;36m                    \u001b[0m         pytorch3d                                                          \u001b[2m                   \u001b[0m\n"
      ]
     },
     "metadata": {},
     "output_type": "display_data"
    },
    {
     "data": {
      "text/html": [
       "<pre style=\"white-space:pre;overflow-x:auto;line-height:normal;font-family:Menlo,'DejaVu Sans Mono',consolas,'Courier New',monospace\"><span style=\"color: #7fbfbf; text-decoration-color: #7fbfbf\">                    </span><span style=\"color: #800000; text-decoration-color: #800000\">WARNING </span> To use the Graphein submodule graphein.protein.meshes, you need to        <a href=\"file:///zhome/6e/5/146981/.local/lib/python3.9/site-packages/graphein/protein/meshes.py\" target=\"_blank\"><span style=\"color: #7f7f7f; text-decoration-color: #7f7f7f\">meshes.py</span></a><span style=\"color: #7f7f7f; text-decoration-color: #7f7f7f\">:</span><a href=\"file:///zhome/6e/5/146981/.local/lib/python3.9/site-packages/graphein/protein/meshes.py#29\" target=\"_blank\"><span style=\"color: #7f7f7f; text-decoration-color: #7f7f7f\">29</span></a>\n",
       "<span style=\"color: #7fbfbf; text-decoration-color: #7fbfbf\">                    </span>         install: pytorch3d                                                        <span style=\"color: #7f7f7f; text-decoration-color: #7f7f7f\">            </span>\n",
       "<span style=\"color: #7fbfbf; text-decoration-color: #7fbfbf\">                    </span>         To do so, use the following command: conda install -c pytorch3d pytorch3d <span style=\"color: #7f7f7f; text-decoration-color: #7f7f7f\">            </span>\n",
       "</pre>\n"
      ],
      "text/plain": [
       "\u001b[2;36m                   \u001b[0m\u001b[2;36m \u001b[0m\u001b[31mWARNING \u001b[0m To use the Graphein submodule graphein.protein.meshes, you need to        \u001b]8;id=293420;file:///zhome/6e/5/146981/.local/lib/python3.9/site-packages/graphein/protein/meshes.py\u001b\\\u001b[2mmeshes.py\u001b[0m\u001b]8;;\u001b\\\u001b[2m:\u001b[0m\u001b]8;id=791356;file:///zhome/6e/5/146981/.local/lib/python3.9/site-packages/graphein/protein/meshes.py#29\u001b\\\u001b[2m29\u001b[0m\u001b]8;;\u001b\\\n",
       "\u001b[2;36m                    \u001b[0m         install: pytorch3d                                                        \u001b[2m            \u001b[0m\n",
       "\u001b[2;36m                    \u001b[0m         To do so, use the following command: conda install -c pytorch3d pytorch3d \u001b[2m            \u001b[0m\n"
      ]
     },
     "metadata": {},
     "output_type": "display_data"
    }
   ],
   "source": [
    "from task import CreateDataLabel,MapAtomNode,node_accuracy\n",
    "from schnet import SchNetModel\n",
    "import numpy as np\n",
    "import torch\n",
    "import torch.nn as nn\n",
    "import torch.optim as optim\n",
    "import torch.nn.functional as F\n",
    "import wandb\n",
    "import seaborn as sns"
   ]
  },
  {
   "cell_type": "code",
   "execution_count": 2,
   "id": "f6ae7c11",
   "metadata": {},
   "outputs": [
    {
     "data": {
      "text/html": [
       "<pre style=\"white-space:pre;overflow-x:auto;line-height:normal;font-family:Menlo,'DejaVu Sans Mono',consolas,'Courier New',monospace\"><span style=\"color: #7fbfbf; text-decoration-color: #7fbfbf\">[12/19/23 06:00:06] </span><span style=\"color: #000080; text-decoration-color: #000080\">INFO    </span> Amending traindata                                                          <a href=\"file:///work3/s194408/Project/schnet_CAcarbon/task.py\" target=\"_blank\"><span style=\"color: #7f7f7f; text-decoration-color: #7f7f7f\">task.py</span></a><span style=\"color: #7f7f7f; text-decoration-color: #7f7f7f\">:</span><a href=\"file:///work3/s194408/Project/schnet_CAcarbon/task.py#78\" target=\"_blank\"><span style=\"color: #7f7f7f; text-decoration-color: #7f7f7f\">78</span></a>\n",
       "</pre>\n"
      ],
      "text/plain": [
       "\u001b[2;36m[12/19/23 06:00:06]\u001b[0m\u001b[2;36m \u001b[0m\u001b[34mINFO    \u001b[0m Amending traindata                                                          \u001b]8;id=895342;file:///work3/s194408/Project/schnet_CAcarbon/task.py\u001b\\\u001b[2mtask.py\u001b[0m\u001b]8;;\u001b\\\u001b[2m:\u001b[0m\u001b]8;id=192496;file:///work3/s194408/Project/schnet_CAcarbon/task.py#78\u001b\\\u001b[2m78\u001b[0m\u001b]8;;\u001b\\\n"
      ]
     },
     "metadata": {},
     "output_type": "display_data"
    },
    {
     "data": {
      "text/html": [
       "<pre style=\"white-space:pre;overflow-x:auto;line-height:normal;font-family:Menlo,'DejaVu Sans Mono',consolas,'Courier New',monospace\"><span style=\"color: #7fbfbf; text-decoration-color: #7fbfbf\">[12/19/23 06:00:07] </span><span style=\"color: #000080; text-decoration-color: #000080\">INFO    </span> Found <span style=\"color: #008080; text-decoration-color: #008080; font-weight: bold\">2381</span> examples in train                                         <a href=\"file:///work3/s194408/Project/schnet_CAcarbon/data_utils.py\" target=\"_blank\"><span style=\"color: #7f7f7f; text-decoration-color: #7f7f7f\">data_utils.py</span></a><span style=\"color: #7f7f7f; text-decoration-color: #7f7f7f\">:</span><a href=\"file:///work3/s194408/Project/schnet_CAcarbon/data_utils.py#307\" target=\"_blank\"><span style=\"color: #7f7f7f; text-decoration-color: #7f7f7f\">307</span></a>\n",
       "</pre>\n"
      ],
      "text/plain": [
       "\u001b[2;36m[12/19/23 06:00:07]\u001b[0m\u001b[2;36m \u001b[0m\u001b[34mINFO    \u001b[0m Found \u001b[1;36m2381\u001b[0m examples in train                                         \u001b]8;id=538628;file:///work3/s194408/Project/schnet_CAcarbon/data_utils.py\u001b\\\u001b[2mdata_utils.py\u001b[0m\u001b]8;;\u001b\\\u001b[2m:\u001b[0m\u001b]8;id=561758;file:///work3/s194408/Project/schnet_CAcarbon/data_utils.py#307\u001b\\\u001b[2m307\u001b[0m\u001b]8;;\u001b\\\n"
      ]
     },
     "metadata": {},
     "output_type": "display_data"
    },
    {
     "name": "stderr",
     "output_type": "stream",
     "text": [
      "Structure Analysis Using Geometric: 100%|███| 2381/2381 [01:12<00:00, 32.79it/s]\n",
      "Finding dismatch and processing ...: 100%|█| 2381/2381 [00:09<00:00, 242.93it/s]\n"
     ]
    },
    {
     "data": {
      "text/html": [
       "<pre style=\"white-space:pre;overflow-x:auto;line-height:normal;font-family:Menlo,'DejaVu Sans Mono',consolas,'Courier New',monospace\"><span style=\"color: #7fbfbf; text-decoration-color: #7fbfbf\">[12/19/23 06:04:41] </span><span style=\"color: #000080; text-decoration-color: #000080\">INFO    </span> Have finshed finding dismatch and processing, after processing not   <a href=\"file:///work3/s194408/Project/schnet_CAcarbon/data_utils.py\" target=\"_blank\"><span style=\"color: #7f7f7f; text-decoration-color: #7f7f7f\">data_utils.py</span></a><span style=\"color: #7f7f7f; text-decoration-color: #7f7f7f\">:</span><a href=\"file:///work3/s194408/Project/schnet_CAcarbon/data_utils.py#143\" target=\"_blank\"><span style=\"color: #7f7f7f; text-decoration-color: #7f7f7f\">143</span></a>\n",
       "<span style=\"color: #7fbfbf; text-decoration-color: #7fbfbf\">                    </span>         founded dismatch                                                     <span style=\"color: #7f7f7f; text-decoration-color: #7f7f7f\">                 </span>\n",
       "</pre>\n"
      ],
      "text/plain": [
       "\u001b[2;36m[12/19/23 06:04:41]\u001b[0m\u001b[2;36m \u001b[0m\u001b[34mINFO    \u001b[0m Have finshed finding dismatch and processing, after processing not   \u001b]8;id=889616;file:///work3/s194408/Project/schnet_CAcarbon/data_utils.py\u001b\\\u001b[2mdata_utils.py\u001b[0m\u001b]8;;\u001b\\\u001b[2m:\u001b[0m\u001b]8;id=421479;file:///work3/s194408/Project/schnet_CAcarbon/data_utils.py#143\u001b\\\u001b[2m143\u001b[0m\u001b]8;;\u001b\\\n",
       "\u001b[2;36m                    \u001b[0m         founded dismatch                                                     \u001b[2m                 \u001b[0m\n"
      ]
     },
     "metadata": {},
     "output_type": "display_data"
    },
    {
     "data": {
      "text/html": [
       "<pre style=\"white-space:pre;overflow-x:auto;line-height:normal;font-family:Menlo,'DejaVu Sans Mono',consolas,'Courier New',monospace\"><span style=\"color: #7fbfbf; text-decoration-color: #7fbfbf\">                    </span><span style=\"color: #000080; text-decoration-color: #000080\">INFO    </span> Processing train data                                                       <a href=\"file:///work3/s194408/Project/schnet_CAcarbon/task.py\" target=\"_blank\"><span style=\"color: #7f7f7f; text-decoration-color: #7f7f7f\">task.py</span></a><span style=\"color: #7f7f7f; text-decoration-color: #7f7f7f\">:</span><a href=\"file:///work3/s194408/Project/schnet_CAcarbon/task.py#82\" target=\"_blank\"><span style=\"color: #7f7f7f; text-decoration-color: #7f7f7f\">82</span></a>\n",
       "</pre>\n"
      ],
      "text/plain": [
       "\u001b[2;36m                   \u001b[0m\u001b[2;36m \u001b[0m\u001b[34mINFO    \u001b[0m Processing train data                                                       \u001b]8;id=718269;file:///work3/s194408/Project/schnet_CAcarbon/task.py\u001b\\\u001b[2mtask.py\u001b[0m\u001b]8;;\u001b\\\u001b[2m:\u001b[0m\u001b]8;id=499971;file:///work3/s194408/Project/schnet_CAcarbon/task.py#82\u001b\\\u001b[2m82\u001b[0m\u001b]8;;\u001b\\\n"
      ]
     },
     "metadata": {},
     "output_type": "display_data"
    },
    {
     "name": "stderr",
     "output_type": "stream",
     "text": [
      "Structure Analysis Using Geometric: 100%|███| 2381/2381 [01:09<00:00, 34.16it/s]\n"
     ]
    },
    {
     "data": {
      "text/html": [
       "<pre style=\"white-space:pre;overflow-x:auto;line-height:normal;font-family:Menlo,'DejaVu Sans Mono',consolas,'Courier New',monospace\"><span style=\"color: #7fbfbf; text-decoration-color: #7fbfbf\">[12/19/23 06:09:26] </span><span style=\"color: #000080; text-decoration-color: #000080\">INFO    </span> Processing train labels                                                     <a href=\"file:///work3/s194408/Project/schnet_CAcarbon/task.py\" target=\"_blank\"><span style=\"color: #7f7f7f; text-decoration-color: #7f7f7f\">task.py</span></a><span style=\"color: #7f7f7f; text-decoration-color: #7f7f7f\">:</span><a href=\"file:///work3/s194408/Project/schnet_CAcarbon/task.py#87\" target=\"_blank\"><span style=\"color: #7f7f7f; text-decoration-color: #7f7f7f\">87</span></a>\n",
       "</pre>\n"
      ],
      "text/plain": [
       "\u001b[2;36m[12/19/23 06:09:26]\u001b[0m\u001b[2;36m \u001b[0m\u001b[34mINFO    \u001b[0m Processing train labels                                                     \u001b]8;id=589749;file:///work3/s194408/Project/schnet_CAcarbon/task.py\u001b\\\u001b[2mtask.py\u001b[0m\u001b]8;;\u001b\\\u001b[2m:\u001b[0m\u001b]8;id=808140;file:///work3/s194408/Project/schnet_CAcarbon/task.py#87\u001b\\\u001b[2m87\u001b[0m\u001b]8;;\u001b\\\n"
      ]
     },
     "metadata": {},
     "output_type": "display_data"
    },
    {
     "data": {
      "text/html": [
       "<pre style=\"white-space:pre;overflow-x:auto;line-height:normal;font-family:Menlo,'DejaVu Sans Mono',consolas,'Courier New',monospace\"><span style=\"color: #7fbfbf; text-decoration-color: #7fbfbf\">[12/19/23 06:09:27] </span><span style=\"color: #000080; text-decoration-color: #000080\">INFO    </span> Found <span style=\"color: #008080; text-decoration-color: #008080; font-weight: bold\">2381</span> examples in train                                         <a href=\"file:///work3/s194408/Project/schnet_CAcarbon/data_utils.py\" target=\"_blank\"><span style=\"color: #7f7f7f; text-decoration-color: #7f7f7f\">data_utils.py</span></a><span style=\"color: #7f7f7f; text-decoration-color: #7f7f7f\">:</span><a href=\"file:///work3/s194408/Project/schnet_CAcarbon/data_utils.py#307\" target=\"_blank\"><span style=\"color: #7f7f7f; text-decoration-color: #7f7f7f\">307</span></a>\n",
       "</pre>\n"
      ],
      "text/plain": [
       "\u001b[2;36m[12/19/23 06:09:27]\u001b[0m\u001b[2;36m \u001b[0m\u001b[34mINFO    \u001b[0m Found \u001b[1;36m2381\u001b[0m examples in train                                         \u001b]8;id=755024;file:///work3/s194408/Project/schnet_CAcarbon/data_utils.py\u001b\\\u001b[2mdata_utils.py\u001b[0m\u001b]8;;\u001b\\\u001b[2m:\u001b[0m\u001b]8;id=926360;file:///work3/s194408/Project/schnet_CAcarbon/data_utils.py#307\u001b\\\u001b[2m307\u001b[0m\u001b]8;;\u001b\\\n"
      ]
     },
     "metadata": {},
     "output_type": "display_data"
    },
    {
     "name": "stderr",
     "output_type": "stream",
     "text": [
      "Processing train node label: 100%|████████| 2381/2381 [00:01<00:00, 2139.20it/s]\n",
      "Processing train atom label: 100%|████████| 2381/2381 [00:01<00:00, 1965.28it/s]\n"
     ]
    },
    {
     "data": {
      "text/html": [
       "<pre style=\"white-space:pre;overflow-x:auto;line-height:normal;font-family:Menlo,'DejaVu Sans Mono',consolas,'Courier New',monospace\"><span style=\"color: #7fbfbf; text-decoration-color: #7fbfbf\">[12/19/23 06:09:30] </span><span style=\"color: #000080; text-decoration-color: #000080\">INFO    </span> Amending valdata                                                            <a href=\"file:///work3/s194408/Project/schnet_CAcarbon/task.py\" target=\"_blank\"><span style=\"color: #7f7f7f; text-decoration-color: #7f7f7f\">task.py</span></a><span style=\"color: #7f7f7f; text-decoration-color: #7f7f7f\">:</span><a href=\"file:///work3/s194408/Project/schnet_CAcarbon/task.py#78\" target=\"_blank\"><span style=\"color: #7f7f7f; text-decoration-color: #7f7f7f\">78</span></a>\n",
       "</pre>\n"
      ],
      "text/plain": [
       "\u001b[2;36m[12/19/23 06:09:30]\u001b[0m\u001b[2;36m \u001b[0m\u001b[34mINFO    \u001b[0m Amending valdata                                                            \u001b]8;id=707263;file:///work3/s194408/Project/schnet_CAcarbon/task.py\u001b\\\u001b[2mtask.py\u001b[0m\u001b]8;;\u001b\\\u001b[2m:\u001b[0m\u001b]8;id=999678;file:///work3/s194408/Project/schnet_CAcarbon/task.py#78\u001b\\\u001b[2m78\u001b[0m\u001b]8;;\u001b\\\n"
      ]
     },
     "metadata": {},
     "output_type": "display_data"
    },
    {
     "data": {
      "text/html": [
       "<pre style=\"white-space:pre;overflow-x:auto;line-height:normal;font-family:Menlo,'DejaVu Sans Mono',consolas,'Courier New',monospace\"><span style=\"color: #7fbfbf; text-decoration-color: #7fbfbf\">                    </span><span style=\"color: #000080; text-decoration-color: #000080\">INFO    </span> Found <span style=\"color: #008080; text-decoration-color: #008080; font-weight: bold\">596</span> examples in val                                            <a href=\"file:///work3/s194408/Project/schnet_CAcarbon/data_utils.py\" target=\"_blank\"><span style=\"color: #7f7f7f; text-decoration-color: #7f7f7f\">data_utils.py</span></a><span style=\"color: #7f7f7f; text-decoration-color: #7f7f7f\">:</span><a href=\"file:///work3/s194408/Project/schnet_CAcarbon/data_utils.py#307\" target=\"_blank\"><span style=\"color: #7f7f7f; text-decoration-color: #7f7f7f\">307</span></a>\n",
       "</pre>\n"
      ],
      "text/plain": [
       "\u001b[2;36m                   \u001b[0m\u001b[2;36m \u001b[0m\u001b[34mINFO    \u001b[0m Found \u001b[1;36m596\u001b[0m examples in val                                            \u001b]8;id=344994;file:///work3/s194408/Project/schnet_CAcarbon/data_utils.py\u001b\\\u001b[2mdata_utils.py\u001b[0m\u001b]8;;\u001b\\\u001b[2m:\u001b[0m\u001b]8;id=975594;file:///work3/s194408/Project/schnet_CAcarbon/data_utils.py#307\u001b\\\u001b[2m307\u001b[0m\u001b]8;;\u001b\\\n"
      ]
     },
     "metadata": {},
     "output_type": "display_data"
    },
    {
     "name": "stderr",
     "output_type": "stream",
     "text": [
      "Structure Analysis Using Geometric: 100%|█████| 596/596 [00:16<00:00, 36.29it/s]\n",
      "Finding dismatch and processing ...: 100%|███| 596/596 [00:02<00:00, 277.36it/s]\n"
     ]
    },
    {
     "data": {
      "text/html": [
       "<pre style=\"white-space:pre;overflow-x:auto;line-height:normal;font-family:Menlo,'DejaVu Sans Mono',consolas,'Courier New',monospace\"><span style=\"color: #7fbfbf; text-decoration-color: #7fbfbf\">[12/19/23 06:10:37] </span><span style=\"color: #000080; text-decoration-color: #000080\">INFO    </span> Have finshed finding dismatch and processing, after processing not   <a href=\"file:///work3/s194408/Project/schnet_CAcarbon/data_utils.py\" target=\"_blank\"><span style=\"color: #7f7f7f; text-decoration-color: #7f7f7f\">data_utils.py</span></a><span style=\"color: #7f7f7f; text-decoration-color: #7f7f7f\">:</span><a href=\"file:///work3/s194408/Project/schnet_CAcarbon/data_utils.py#143\" target=\"_blank\"><span style=\"color: #7f7f7f; text-decoration-color: #7f7f7f\">143</span></a>\n",
       "<span style=\"color: #7fbfbf; text-decoration-color: #7fbfbf\">                    </span>         founded dismatch                                                     <span style=\"color: #7f7f7f; text-decoration-color: #7f7f7f\">                 </span>\n",
       "</pre>\n"
      ],
      "text/plain": [
       "\u001b[2;36m[12/19/23 06:10:37]\u001b[0m\u001b[2;36m \u001b[0m\u001b[34mINFO    \u001b[0m Have finshed finding dismatch and processing, after processing not   \u001b]8;id=806017;file:///work3/s194408/Project/schnet_CAcarbon/data_utils.py\u001b\\\u001b[2mdata_utils.py\u001b[0m\u001b]8;;\u001b\\\u001b[2m:\u001b[0m\u001b]8;id=143165;file:///work3/s194408/Project/schnet_CAcarbon/data_utils.py#143\u001b\\\u001b[2m143\u001b[0m\u001b]8;;\u001b\\\n",
       "\u001b[2;36m                    \u001b[0m         founded dismatch                                                     \u001b[2m                 \u001b[0m\n"
      ]
     },
     "metadata": {},
     "output_type": "display_data"
    },
    {
     "data": {
      "text/html": [
       "<pre style=\"white-space:pre;overflow-x:auto;line-height:normal;font-family:Menlo,'DejaVu Sans Mono',consolas,'Courier New',monospace\"><span style=\"color: #7fbfbf; text-decoration-color: #7fbfbf\">                    </span><span style=\"color: #000080; text-decoration-color: #000080\">INFO    </span> Processing val data                                                         <a href=\"file:///work3/s194408/Project/schnet_CAcarbon/task.py\" target=\"_blank\"><span style=\"color: #7f7f7f; text-decoration-color: #7f7f7f\">task.py</span></a><span style=\"color: #7f7f7f; text-decoration-color: #7f7f7f\">:</span><a href=\"file:///work3/s194408/Project/schnet_CAcarbon/task.py#82\" target=\"_blank\"><span style=\"color: #7f7f7f; text-decoration-color: #7f7f7f\">82</span></a>\n",
       "</pre>\n"
      ],
      "text/plain": [
       "\u001b[2;36m                   \u001b[0m\u001b[2;36m \u001b[0m\u001b[34mINFO    \u001b[0m Processing val data                                                         \u001b]8;id=255880;file:///work3/s194408/Project/schnet_CAcarbon/task.py\u001b\\\u001b[2mtask.py\u001b[0m\u001b]8;;\u001b\\\u001b[2m:\u001b[0m\u001b]8;id=142105;file:///work3/s194408/Project/schnet_CAcarbon/task.py#82\u001b\\\u001b[2m82\u001b[0m\u001b]8;;\u001b\\\n"
      ]
     },
     "metadata": {},
     "output_type": "display_data"
    },
    {
     "name": "stderr",
     "output_type": "stream",
     "text": [
      "Structure Analysis Using Geometric: 100%|█████| 596/596 [00:16<00:00, 36.78it/s]\n"
     ]
    },
    {
     "data": {
      "text/html": [
       "<pre style=\"white-space:pre;overflow-x:auto;line-height:normal;font-family:Menlo,'DejaVu Sans Mono',consolas,'Courier New',monospace\"><span style=\"color: #7fbfbf; text-decoration-color: #7fbfbf\">[12/19/23 06:11:42] </span><span style=\"color: #000080; text-decoration-color: #000080\">INFO    </span> Processing val labels                                                       <a href=\"file:///work3/s194408/Project/schnet_CAcarbon/task.py\" target=\"_blank\"><span style=\"color: #7f7f7f; text-decoration-color: #7f7f7f\">task.py</span></a><span style=\"color: #7f7f7f; text-decoration-color: #7f7f7f\">:</span><a href=\"file:///work3/s194408/Project/schnet_CAcarbon/task.py#87\" target=\"_blank\"><span style=\"color: #7f7f7f; text-decoration-color: #7f7f7f\">87</span></a>\n",
       "</pre>\n"
      ],
      "text/plain": [
       "\u001b[2;36m[12/19/23 06:11:42]\u001b[0m\u001b[2;36m \u001b[0m\u001b[34mINFO    \u001b[0m Processing val labels                                                       \u001b]8;id=109984;file:///work3/s194408/Project/schnet_CAcarbon/task.py\u001b\\\u001b[2mtask.py\u001b[0m\u001b]8;;\u001b\\\u001b[2m:\u001b[0m\u001b]8;id=47522;file:///work3/s194408/Project/schnet_CAcarbon/task.py#87\u001b\\\u001b[2m87\u001b[0m\u001b]8;;\u001b\\\n"
      ]
     },
     "metadata": {},
     "output_type": "display_data"
    },
    {
     "data": {
      "text/html": [
       "<pre style=\"white-space:pre;overflow-x:auto;line-height:normal;font-family:Menlo,'DejaVu Sans Mono',consolas,'Courier New',monospace\"><span style=\"color: #7fbfbf; text-decoration-color: #7fbfbf\">[12/19/23 06:11:43] </span><span style=\"color: #000080; text-decoration-color: #000080\">INFO    </span> Found <span style=\"color: #008080; text-decoration-color: #008080; font-weight: bold\">596</span> examples in val                                            <a href=\"file:///work3/s194408/Project/schnet_CAcarbon/data_utils.py\" target=\"_blank\"><span style=\"color: #7f7f7f; text-decoration-color: #7f7f7f\">data_utils.py</span></a><span style=\"color: #7f7f7f; text-decoration-color: #7f7f7f\">:</span><a href=\"file:///work3/s194408/Project/schnet_CAcarbon/data_utils.py#307\" target=\"_blank\"><span style=\"color: #7f7f7f; text-decoration-color: #7f7f7f\">307</span></a>\n",
       "</pre>\n"
      ],
      "text/plain": [
       "\u001b[2;36m[12/19/23 06:11:43]\u001b[0m\u001b[2;36m \u001b[0m\u001b[34mINFO    \u001b[0m Found \u001b[1;36m596\u001b[0m examples in val                                            \u001b]8;id=97022;file:///work3/s194408/Project/schnet_CAcarbon/data_utils.py\u001b\\\u001b[2mdata_utils.py\u001b[0m\u001b]8;;\u001b\\\u001b[2m:\u001b[0m\u001b]8;id=86504;file:///work3/s194408/Project/schnet_CAcarbon/data_utils.py#307\u001b\\\u001b[2m307\u001b[0m\u001b]8;;\u001b\\\n"
      ]
     },
     "metadata": {},
     "output_type": "display_data"
    },
    {
     "name": "stderr",
     "output_type": "stream",
     "text": [
      "Processing val node label: 100%|████████████| 596/596 [00:00<00:00, 2588.64it/s]\n",
      "Processing val atom label: 100%|████████████| 596/596 [00:00<00:00, 2417.66it/s]\n"
     ]
    },
    {
     "data": {
      "text/html": [
       "<pre style=\"white-space:pre;overflow-x:auto;line-height:normal;font-family:Menlo,'DejaVu Sans Mono',consolas,'Courier New',monospace\"><span style=\"color: #7fbfbf; text-decoration-color: #7fbfbf\">                    </span><span style=\"color: #000080; text-decoration-color: #000080\">INFO    </span> Amending test_SP_TMdata                                                     <a href=\"file:///work3/s194408/Project/schnet_CAcarbon/task.py\" target=\"_blank\"><span style=\"color: #7f7f7f; text-decoration-color: #7f7f7f\">task.py</span></a><span style=\"color: #7f7f7f; text-decoration-color: #7f7f7f\">:</span><a href=\"file:///work3/s194408/Project/schnet_CAcarbon/task.py#78\" target=\"_blank\"><span style=\"color: #7f7f7f; text-decoration-color: #7f7f7f\">78</span></a>\n",
       "</pre>\n"
      ],
      "text/plain": [
       "\u001b[2;36m                   \u001b[0m\u001b[2;36m \u001b[0m\u001b[34mINFO    \u001b[0m Amending test_SP_TMdata                                                     \u001b]8;id=797873;file:///work3/s194408/Project/schnet_CAcarbon/task.py\u001b\\\u001b[2mtask.py\u001b[0m\u001b]8;;\u001b\\\u001b[2m:\u001b[0m\u001b]8;id=413355;file:///work3/s194408/Project/schnet_CAcarbon/task.py#78\u001b\\\u001b[2m78\u001b[0m\u001b]8;;\u001b\\\n"
      ]
     },
     "metadata": {},
     "output_type": "display_data"
    },
    {
     "data": {
      "text/html": [
       "<pre style=\"white-space:pre;overflow-x:auto;line-height:normal;font-family:Menlo,'DejaVu Sans Mono',consolas,'Courier New',monospace\"><span style=\"color: #7fbfbf; text-decoration-color: #7fbfbf\">                    </span><span style=\"color: #000080; text-decoration-color: #000080\">INFO    </span> Found <span style=\"color: #008080; text-decoration-color: #008080; font-weight: bold\">102</span> examples in test_SP_TM                                     <a href=\"file:///work3/s194408/Project/schnet_CAcarbon/data_utils.py\" target=\"_blank\"><span style=\"color: #7f7f7f; text-decoration-color: #7f7f7f\">data_utils.py</span></a><span style=\"color: #7f7f7f; text-decoration-color: #7f7f7f\">:</span><a href=\"file:///work3/s194408/Project/schnet_CAcarbon/data_utils.py#307\" target=\"_blank\"><span style=\"color: #7f7f7f; text-decoration-color: #7f7f7f\">307</span></a>\n",
       "</pre>\n"
      ],
      "text/plain": [
       "\u001b[2;36m                   \u001b[0m\u001b[2;36m \u001b[0m\u001b[34mINFO    \u001b[0m Found \u001b[1;36m102\u001b[0m examples in test_SP_TM                                     \u001b]8;id=204149;file:///work3/s194408/Project/schnet_CAcarbon/data_utils.py\u001b\\\u001b[2mdata_utils.py\u001b[0m\u001b]8;;\u001b\\\u001b[2m:\u001b[0m\u001b]8;id=115159;file:///work3/s194408/Project/schnet_CAcarbon/data_utils.py#307\u001b\\\u001b[2m307\u001b[0m\u001b]8;;\u001b\\\n"
      ]
     },
     "metadata": {},
     "output_type": "display_data"
    },
    {
     "name": "stderr",
     "output_type": "stream",
     "text": [
      "Structure Analysis Using Geometric: 100%|█████| 102/102 [00:04<00:00, 25.14it/s]\n",
      "Finding dismatch and processing ...: 100%|███| 102/102 [00:00<00:00, 237.34it/s]\n"
     ]
    },
    {
     "data": {
      "text/html": [
       "<pre style=\"white-space:pre;overflow-x:auto;line-height:normal;font-family:Menlo,'DejaVu Sans Mono',consolas,'Courier New',monospace\"><span style=\"color: #7fbfbf; text-decoration-color: #7fbfbf\">[12/19/23 06:11:59] </span><span style=\"color: #000080; text-decoration-color: #000080\">INFO    </span> Have finshed finding dismatch and processing, after processing not   <a href=\"file:///work3/s194408/Project/schnet_CAcarbon/data_utils.py\" target=\"_blank\"><span style=\"color: #7f7f7f; text-decoration-color: #7f7f7f\">data_utils.py</span></a><span style=\"color: #7f7f7f; text-decoration-color: #7f7f7f\">:</span><a href=\"file:///work3/s194408/Project/schnet_CAcarbon/data_utils.py#143\" target=\"_blank\"><span style=\"color: #7f7f7f; text-decoration-color: #7f7f7f\">143</span></a>\n",
       "<span style=\"color: #7fbfbf; text-decoration-color: #7fbfbf\">                    </span>         founded dismatch                                                     <span style=\"color: #7f7f7f; text-decoration-color: #7f7f7f\">                 </span>\n",
       "</pre>\n"
      ],
      "text/plain": [
       "\u001b[2;36m[12/19/23 06:11:59]\u001b[0m\u001b[2;36m \u001b[0m\u001b[34mINFO    \u001b[0m Have finshed finding dismatch and processing, after processing not   \u001b]8;id=666141;file:///work3/s194408/Project/schnet_CAcarbon/data_utils.py\u001b\\\u001b[2mdata_utils.py\u001b[0m\u001b]8;;\u001b\\\u001b[2m:\u001b[0m\u001b]8;id=133622;file:///work3/s194408/Project/schnet_CAcarbon/data_utils.py#143\u001b\\\u001b[2m143\u001b[0m\u001b]8;;\u001b\\\n",
       "\u001b[2;36m                    \u001b[0m         founded dismatch                                                     \u001b[2m                 \u001b[0m\n"
      ]
     },
     "metadata": {},
     "output_type": "display_data"
    },
    {
     "data": {
      "text/html": [
       "<pre style=\"white-space:pre;overflow-x:auto;line-height:normal;font-family:Menlo,'DejaVu Sans Mono',consolas,'Courier New',monospace\"><span style=\"color: #7fbfbf; text-decoration-color: #7fbfbf\">                    </span><span style=\"color: #000080; text-decoration-color: #000080\">INFO    </span> Processing test_SP_TM data                                                  <a href=\"file:///work3/s194408/Project/schnet_CAcarbon/task.py\" target=\"_blank\"><span style=\"color: #7f7f7f; text-decoration-color: #7f7f7f\">task.py</span></a><span style=\"color: #7f7f7f; text-decoration-color: #7f7f7f\">:</span><a href=\"file:///work3/s194408/Project/schnet_CAcarbon/task.py#82\" target=\"_blank\"><span style=\"color: #7f7f7f; text-decoration-color: #7f7f7f\">82</span></a>\n",
       "</pre>\n"
      ],
      "text/plain": [
       "\u001b[2;36m                   \u001b[0m\u001b[2;36m \u001b[0m\u001b[34mINFO    \u001b[0m Processing test_SP_TM data                                                  \u001b]8;id=824061;file:///work3/s194408/Project/schnet_CAcarbon/task.py\u001b\\\u001b[2mtask.py\u001b[0m\u001b]8;;\u001b\\\u001b[2m:\u001b[0m\u001b]8;id=310739;file:///work3/s194408/Project/schnet_CAcarbon/task.py#82\u001b\\\u001b[2m82\u001b[0m\u001b]8;;\u001b\\\n"
      ]
     },
     "metadata": {},
     "output_type": "display_data"
    },
    {
     "name": "stderr",
     "output_type": "stream",
     "text": [
      "Structure Analysis Using Geometric: 100%|█████| 102/102 [00:03<00:00, 26.57it/s]\n"
     ]
    },
    {
     "data": {
      "text/html": [
       "<pre style=\"white-space:pre;overflow-x:auto;line-height:normal;font-family:Menlo,'DejaVu Sans Mono',consolas,'Courier New',monospace\"><span style=\"color: #7fbfbf; text-decoration-color: #7fbfbf\">[12/19/23 06:12:13] </span><span style=\"color: #000080; text-decoration-color: #000080\">INFO    </span> Processing test_SP_TM labels                                                <a href=\"file:///work3/s194408/Project/schnet_CAcarbon/task.py\" target=\"_blank\"><span style=\"color: #7f7f7f; text-decoration-color: #7f7f7f\">task.py</span></a><span style=\"color: #7f7f7f; text-decoration-color: #7f7f7f\">:</span><a href=\"file:///work3/s194408/Project/schnet_CAcarbon/task.py#87\" target=\"_blank\"><span style=\"color: #7f7f7f; text-decoration-color: #7f7f7f\">87</span></a>\n",
       "</pre>\n"
      ],
      "text/plain": [
       "\u001b[2;36m[12/19/23 06:12:13]\u001b[0m\u001b[2;36m \u001b[0m\u001b[34mINFO    \u001b[0m Processing test_SP_TM labels                                                \u001b]8;id=451757;file:///work3/s194408/Project/schnet_CAcarbon/task.py\u001b\\\u001b[2mtask.py\u001b[0m\u001b]8;;\u001b\\\u001b[2m:\u001b[0m\u001b]8;id=451217;file:///work3/s194408/Project/schnet_CAcarbon/task.py#87\u001b\\\u001b[2m87\u001b[0m\u001b]8;;\u001b\\\n"
      ]
     },
     "metadata": {},
     "output_type": "display_data"
    },
    {
     "data": {
      "text/html": [
       "<pre style=\"white-space:pre;overflow-x:auto;line-height:normal;font-family:Menlo,'DejaVu Sans Mono',consolas,'Courier New',monospace\"><span style=\"color: #7fbfbf; text-decoration-color: #7fbfbf\">                    </span><span style=\"color: #000080; text-decoration-color: #000080\">INFO    </span> Found <span style=\"color: #008080; text-decoration-color: #008080; font-weight: bold\">102</span> examples in test_SP_TM                                     <a href=\"file:///work3/s194408/Project/schnet_CAcarbon/data_utils.py\" target=\"_blank\"><span style=\"color: #7f7f7f; text-decoration-color: #7f7f7f\">data_utils.py</span></a><span style=\"color: #7f7f7f; text-decoration-color: #7f7f7f\">:</span><a href=\"file:///work3/s194408/Project/schnet_CAcarbon/data_utils.py#307\" target=\"_blank\"><span style=\"color: #7f7f7f; text-decoration-color: #7f7f7f\">307</span></a>\n",
       "</pre>\n"
      ],
      "text/plain": [
       "\u001b[2;36m                   \u001b[0m\u001b[2;36m \u001b[0m\u001b[34mINFO    \u001b[0m Found \u001b[1;36m102\u001b[0m examples in test_SP_TM                                     \u001b]8;id=895448;file:///work3/s194408/Project/schnet_CAcarbon/data_utils.py\u001b\\\u001b[2mdata_utils.py\u001b[0m\u001b]8;;\u001b\\\u001b[2m:\u001b[0m\u001b]8;id=495414;file:///work3/s194408/Project/schnet_CAcarbon/data_utils.py#307\u001b\\\u001b[2m307\u001b[0m\u001b]8;;\u001b\\\n"
      ]
     },
     "metadata": {},
     "output_type": "display_data"
    },
    {
     "name": "stderr",
     "output_type": "stream",
     "text": [
      "Processing test_SP_TM node label: 100%|█████| 102/102 [00:00<00:00, 2689.87it/s]\n",
      "Processing test_SP_TM atom label: 100%|█████| 102/102 [00:00<00:00, 1754.54it/s]\n"
     ]
    },
    {
     "data": {
      "text/html": [
       "<pre style=\"white-space:pre;overflow-x:auto;line-height:normal;font-family:Menlo,'DejaVu Sans Mono',consolas,'Courier New',monospace\"><span style=\"color: #7fbfbf; text-decoration-color: #7fbfbf\">[12/19/23 06:12:14] </span><span style=\"color: #000080; text-decoration-color: #000080\">INFO    </span> Amending test_TMdata                                                        <a href=\"file:///work3/s194408/Project/schnet_CAcarbon/task.py\" target=\"_blank\"><span style=\"color: #7f7f7f; text-decoration-color: #7f7f7f\">task.py</span></a><span style=\"color: #7f7f7f; text-decoration-color: #7f7f7f\">:</span><a href=\"file:///work3/s194408/Project/schnet_CAcarbon/task.py#78\" target=\"_blank\"><span style=\"color: #7f7f7f; text-decoration-color: #7f7f7f\">78</span></a>\n",
       "</pre>\n"
      ],
      "text/plain": [
       "\u001b[2;36m[12/19/23 06:12:14]\u001b[0m\u001b[2;36m \u001b[0m\u001b[34mINFO    \u001b[0m Amending test_TMdata                                                        \u001b]8;id=114652;file:///work3/s194408/Project/schnet_CAcarbon/task.py\u001b\\\u001b[2mtask.py\u001b[0m\u001b]8;;\u001b\\\u001b[2m:\u001b[0m\u001b]8;id=584314;file:///work3/s194408/Project/schnet_CAcarbon/task.py#78\u001b\\\u001b[2m78\u001b[0m\u001b]8;;\u001b\\\n"
      ]
     },
     "metadata": {},
     "output_type": "display_data"
    },
    {
     "data": {
      "text/html": [
       "<pre style=\"white-space:pre;overflow-x:auto;line-height:normal;font-family:Menlo,'DejaVu Sans Mono',consolas,'Courier New',monospace\"><span style=\"color: #7fbfbf; text-decoration-color: #7fbfbf\">                    </span><span style=\"color: #000080; text-decoration-color: #000080\">INFO    </span> Found <span style=\"color: #008080; text-decoration-color: #008080; font-weight: bold\">382</span> examples in test_TM                                        <a href=\"file:///work3/s194408/Project/schnet_CAcarbon/data_utils.py\" target=\"_blank\"><span style=\"color: #7f7f7f; text-decoration-color: #7f7f7f\">data_utils.py</span></a><span style=\"color: #7f7f7f; text-decoration-color: #7f7f7f\">:</span><a href=\"file:///work3/s194408/Project/schnet_CAcarbon/data_utils.py#307\" target=\"_blank\"><span style=\"color: #7f7f7f; text-decoration-color: #7f7f7f\">307</span></a>\n",
       "</pre>\n"
      ],
      "text/plain": [
       "\u001b[2;36m                   \u001b[0m\u001b[2;36m \u001b[0m\u001b[34mINFO    \u001b[0m Found \u001b[1;36m382\u001b[0m examples in test_TM                                        \u001b]8;id=435603;file:///work3/s194408/Project/schnet_CAcarbon/data_utils.py\u001b\\\u001b[2mdata_utils.py\u001b[0m\u001b]8;;\u001b\\\u001b[2m:\u001b[0m\u001b]8;id=915992;file:///work3/s194408/Project/schnet_CAcarbon/data_utils.py#307\u001b\\\u001b[2m307\u001b[0m\u001b]8;;\u001b\\\n"
      ]
     },
     "metadata": {},
     "output_type": "display_data"
    },
    {
     "name": "stderr",
     "output_type": "stream",
     "text": [
      "Structure Analysis Using Geometric: 100%|█████| 382/382 [00:11<00:00, 33.52it/s]\n",
      "Finding dismatch and processing ...: 100%|███| 382/382 [00:01<00:00, 294.93it/s]\n"
     ]
    },
    {
     "data": {
      "text/html": [
       "<pre style=\"white-space:pre;overflow-x:auto;line-height:normal;font-family:Menlo,'DejaVu Sans Mono',consolas,'Courier New',monospace\"><span style=\"color: #7fbfbf; text-decoration-color: #7fbfbf\">[12/19/23 06:12:57] </span><span style=\"color: #000080; text-decoration-color: #000080\">INFO    </span> Have finshed finding dismatch and processing, after processing not   <a href=\"file:///work3/s194408/Project/schnet_CAcarbon/data_utils.py\" target=\"_blank\"><span style=\"color: #7f7f7f; text-decoration-color: #7f7f7f\">data_utils.py</span></a><span style=\"color: #7f7f7f; text-decoration-color: #7f7f7f\">:</span><a href=\"file:///work3/s194408/Project/schnet_CAcarbon/data_utils.py#143\" target=\"_blank\"><span style=\"color: #7f7f7f; text-decoration-color: #7f7f7f\">143</span></a>\n",
       "<span style=\"color: #7fbfbf; text-decoration-color: #7fbfbf\">                    </span>         founded dismatch                                                     <span style=\"color: #7f7f7f; text-decoration-color: #7f7f7f\">                 </span>\n",
       "</pre>\n"
      ],
      "text/plain": [
       "\u001b[2;36m[12/19/23 06:12:57]\u001b[0m\u001b[2;36m \u001b[0m\u001b[34mINFO    \u001b[0m Have finshed finding dismatch and processing, after processing not   \u001b]8;id=141393;file:///work3/s194408/Project/schnet_CAcarbon/data_utils.py\u001b\\\u001b[2mdata_utils.py\u001b[0m\u001b]8;;\u001b\\\u001b[2m:\u001b[0m\u001b]8;id=205811;file:///work3/s194408/Project/schnet_CAcarbon/data_utils.py#143\u001b\\\u001b[2m143\u001b[0m\u001b]8;;\u001b\\\n",
       "\u001b[2;36m                    \u001b[0m         founded dismatch                                                     \u001b[2m                 \u001b[0m\n"
      ]
     },
     "metadata": {},
     "output_type": "display_data"
    },
    {
     "data": {
      "text/html": [
       "<pre style=\"white-space:pre;overflow-x:auto;line-height:normal;font-family:Menlo,'DejaVu Sans Mono',consolas,'Courier New',monospace\"><span style=\"color: #7fbfbf; text-decoration-color: #7fbfbf\">                    </span><span style=\"color: #000080; text-decoration-color: #000080\">INFO    </span> Processing test_TM data                                                     <a href=\"file:///work3/s194408/Project/schnet_CAcarbon/task.py\" target=\"_blank\"><span style=\"color: #7f7f7f; text-decoration-color: #7f7f7f\">task.py</span></a><span style=\"color: #7f7f7f; text-decoration-color: #7f7f7f\">:</span><a href=\"file:///work3/s194408/Project/schnet_CAcarbon/task.py#82\" target=\"_blank\"><span style=\"color: #7f7f7f; text-decoration-color: #7f7f7f\">82</span></a>\n",
       "</pre>\n"
      ],
      "text/plain": [
       "\u001b[2;36m                   \u001b[0m\u001b[2;36m \u001b[0m\u001b[34mINFO    \u001b[0m Processing test_TM data                                                     \u001b]8;id=373211;file:///work3/s194408/Project/schnet_CAcarbon/task.py\u001b\\\u001b[2mtask.py\u001b[0m\u001b]8;;\u001b\\\u001b[2m:\u001b[0m\u001b]8;id=94845;file:///work3/s194408/Project/schnet_CAcarbon/task.py#82\u001b\\\u001b[2m82\u001b[0m\u001b]8;;\u001b\\\n"
      ]
     },
     "metadata": {},
     "output_type": "display_data"
    },
    {
     "name": "stderr",
     "output_type": "stream",
     "text": [
      "Structure Analysis Using Geometric: 100%|█████| 382/382 [00:10<00:00, 35.64it/s]\n"
     ]
    },
    {
     "data": {
      "text/html": [
       "<pre style=\"white-space:pre;overflow-x:auto;line-height:normal;font-family:Menlo,'DejaVu Sans Mono',consolas,'Courier New',monospace\"><span style=\"color: #7fbfbf; text-decoration-color: #7fbfbf\">[12/19/23 06:13:39] </span><span style=\"color: #000080; text-decoration-color: #000080\">INFO    </span> Processing test_TM labels                                                   <a href=\"file:///work3/s194408/Project/schnet_CAcarbon/task.py\" target=\"_blank\"><span style=\"color: #7f7f7f; text-decoration-color: #7f7f7f\">task.py</span></a><span style=\"color: #7f7f7f; text-decoration-color: #7f7f7f\">:</span><a href=\"file:///work3/s194408/Project/schnet_CAcarbon/task.py#87\" target=\"_blank\"><span style=\"color: #7f7f7f; text-decoration-color: #7f7f7f\">87</span></a>\n",
       "</pre>\n"
      ],
      "text/plain": [
       "\u001b[2;36m[12/19/23 06:13:39]\u001b[0m\u001b[2;36m \u001b[0m\u001b[34mINFO    \u001b[0m Processing test_TM labels                                                   \u001b]8;id=232085;file:///work3/s194408/Project/schnet_CAcarbon/task.py\u001b\\\u001b[2mtask.py\u001b[0m\u001b]8;;\u001b\\\u001b[2m:\u001b[0m\u001b]8;id=353790;file:///work3/s194408/Project/schnet_CAcarbon/task.py#87\u001b\\\u001b[2m87\u001b[0m\u001b]8;;\u001b\\\n"
      ]
     },
     "metadata": {},
     "output_type": "display_data"
    },
    {
     "data": {
      "text/html": [
       "<pre style=\"white-space:pre;overflow-x:auto;line-height:normal;font-family:Menlo,'DejaVu Sans Mono',consolas,'Courier New',monospace\"><span style=\"color: #7fbfbf; text-decoration-color: #7fbfbf\">                    </span><span style=\"color: #000080; text-decoration-color: #000080\">INFO    </span> Found <span style=\"color: #008080; text-decoration-color: #008080; font-weight: bold\">382</span> examples in test_TM                                        <a href=\"file:///work3/s194408/Project/schnet_CAcarbon/data_utils.py\" target=\"_blank\"><span style=\"color: #7f7f7f; text-decoration-color: #7f7f7f\">data_utils.py</span></a><span style=\"color: #7f7f7f; text-decoration-color: #7f7f7f\">:</span><a href=\"file:///work3/s194408/Project/schnet_CAcarbon/data_utils.py#307\" target=\"_blank\"><span style=\"color: #7f7f7f; text-decoration-color: #7f7f7f\">307</span></a>\n",
       "</pre>\n"
      ],
      "text/plain": [
       "\u001b[2;36m                   \u001b[0m\u001b[2;36m \u001b[0m\u001b[34mINFO    \u001b[0m Found \u001b[1;36m382\u001b[0m examples in test_TM                                        \u001b]8;id=277929;file:///work3/s194408/Project/schnet_CAcarbon/data_utils.py\u001b\\\u001b[2mdata_utils.py\u001b[0m\u001b]8;;\u001b\\\u001b[2m:\u001b[0m\u001b]8;id=282812;file:///work3/s194408/Project/schnet_CAcarbon/data_utils.py#307\u001b\\\u001b[2m307\u001b[0m\u001b]8;;\u001b\\\n"
      ]
     },
     "metadata": {},
     "output_type": "display_data"
    },
    {
     "name": "stderr",
     "output_type": "stream",
     "text": [
      "Processing test_TM node label: 100%|████████| 382/382 [00:00<00:00, 2724.35it/s]\n",
      "Processing test_TM atom label: 100%|████████| 382/382 [00:00<00:00, 2517.19it/s]\n"
     ]
    },
    {
     "data": {
      "text/html": [
       "<pre style=\"white-space:pre;overflow-x:auto;line-height:normal;font-family:Menlo,'DejaVu Sans Mono',consolas,'Courier New',monospace\"><span style=\"color: #7fbfbf; text-decoration-color: #7fbfbf\">                    </span><span style=\"color: #000080; text-decoration-color: #000080\">INFO    </span> Amending test_BETAdata                                                      <a href=\"file:///work3/s194408/Project/schnet_CAcarbon/task.py\" target=\"_blank\"><span style=\"color: #7f7f7f; text-decoration-color: #7f7f7f\">task.py</span></a><span style=\"color: #7f7f7f; text-decoration-color: #7f7f7f\">:</span><a href=\"file:///work3/s194408/Project/schnet_CAcarbon/task.py#78\" target=\"_blank\"><span style=\"color: #7f7f7f; text-decoration-color: #7f7f7f\">78</span></a>\n",
       "</pre>\n"
      ],
      "text/plain": [
       "\u001b[2;36m                   \u001b[0m\u001b[2;36m \u001b[0m\u001b[34mINFO    \u001b[0m Amending test_BETAdata                                                      \u001b]8;id=86303;file:///work3/s194408/Project/schnet_CAcarbon/task.py\u001b\\\u001b[2mtask.py\u001b[0m\u001b]8;;\u001b\\\u001b[2m:\u001b[0m\u001b]8;id=453661;file:///work3/s194408/Project/schnet_CAcarbon/task.py#78\u001b\\\u001b[2m78\u001b[0m\u001b]8;;\u001b\\\n"
      ]
     },
     "metadata": {},
     "output_type": "display_data"
    },
    {
     "data": {
      "text/html": [
       "<pre style=\"white-space:pre;overflow-x:auto;line-height:normal;font-family:Menlo,'DejaVu Sans Mono',consolas,'Courier New',monospace\"><span style=\"color: #7fbfbf; text-decoration-color: #7fbfbf\">                    </span><span style=\"color: #000080; text-decoration-color: #000080\">INFO    </span> Found <span style=\"color: #008080; text-decoration-color: #008080; font-weight: bold\">81</span> examples in test_BETA                                       <a href=\"file:///work3/s194408/Project/schnet_CAcarbon/data_utils.py\" target=\"_blank\"><span style=\"color: #7f7f7f; text-decoration-color: #7f7f7f\">data_utils.py</span></a><span style=\"color: #7f7f7f; text-decoration-color: #7f7f7f\">:</span><a href=\"file:///work3/s194408/Project/schnet_CAcarbon/data_utils.py#307\" target=\"_blank\"><span style=\"color: #7f7f7f; text-decoration-color: #7f7f7f\">307</span></a>\n",
       "</pre>\n"
      ],
      "text/plain": [
       "\u001b[2;36m                   \u001b[0m\u001b[2;36m \u001b[0m\u001b[34mINFO    \u001b[0m Found \u001b[1;36m81\u001b[0m examples in test_BETA                                       \u001b]8;id=834614;file:///work3/s194408/Project/schnet_CAcarbon/data_utils.py\u001b\\\u001b[2mdata_utils.py\u001b[0m\u001b]8;;\u001b\\\u001b[2m:\u001b[0m\u001b]8;id=184391;file:///work3/s194408/Project/schnet_CAcarbon/data_utils.py#307\u001b\\\u001b[2m307\u001b[0m\u001b]8;;\u001b\\\n"
      ]
     },
     "metadata": {},
     "output_type": "display_data"
    },
    {
     "name": "stderr",
     "output_type": "stream",
     "text": [
      "Structure Analysis Using Geometric: 100%|███████| 81/81 [00:03<00:00, 26.99it/s]\n",
      "Finding dismatch and processing ...: 100%|█████| 81/81 [00:00<00:00, 267.79it/s]\n"
     ]
    },
    {
     "data": {
      "text/html": [
       "<pre style=\"white-space:pre;overflow-x:auto;line-height:normal;font-family:Menlo,'DejaVu Sans Mono',consolas,'Courier New',monospace\"><span style=\"color: #7fbfbf; text-decoration-color: #7fbfbf\">[12/19/23 06:13:50] </span><span style=\"color: #000080; text-decoration-color: #000080\">INFO    </span> Have finshed finding dismatch and processing, after processing not   <a href=\"file:///work3/s194408/Project/schnet_CAcarbon/data_utils.py\" target=\"_blank\"><span style=\"color: #7f7f7f; text-decoration-color: #7f7f7f\">data_utils.py</span></a><span style=\"color: #7f7f7f; text-decoration-color: #7f7f7f\">:</span><a href=\"file:///work3/s194408/Project/schnet_CAcarbon/data_utils.py#143\" target=\"_blank\"><span style=\"color: #7f7f7f; text-decoration-color: #7f7f7f\">143</span></a>\n",
       "<span style=\"color: #7fbfbf; text-decoration-color: #7fbfbf\">                    </span>         founded dismatch                                                     <span style=\"color: #7f7f7f; text-decoration-color: #7f7f7f\">                 </span>\n",
       "</pre>\n"
      ],
      "text/plain": [
       "\u001b[2;36m[12/19/23 06:13:50]\u001b[0m\u001b[2;36m \u001b[0m\u001b[34mINFO    \u001b[0m Have finshed finding dismatch and processing, after processing not   \u001b]8;id=965776;file:///work3/s194408/Project/schnet_CAcarbon/data_utils.py\u001b\\\u001b[2mdata_utils.py\u001b[0m\u001b]8;;\u001b\\\u001b[2m:\u001b[0m\u001b]8;id=895977;file:///work3/s194408/Project/schnet_CAcarbon/data_utils.py#143\u001b\\\u001b[2m143\u001b[0m\u001b]8;;\u001b\\\n",
       "\u001b[2;36m                    \u001b[0m         founded dismatch                                                     \u001b[2m                 \u001b[0m\n"
      ]
     },
     "metadata": {},
     "output_type": "display_data"
    },
    {
     "data": {
      "text/html": [
       "<pre style=\"white-space:pre;overflow-x:auto;line-height:normal;font-family:Menlo,'DejaVu Sans Mono',consolas,'Courier New',monospace\"><span style=\"color: #7fbfbf; text-decoration-color: #7fbfbf\">                    </span><span style=\"color: #000080; text-decoration-color: #000080\">INFO    </span> Processing test_BETA data                                                   <a href=\"file:///work3/s194408/Project/schnet_CAcarbon/task.py\" target=\"_blank\"><span style=\"color: #7f7f7f; text-decoration-color: #7f7f7f\">task.py</span></a><span style=\"color: #7f7f7f; text-decoration-color: #7f7f7f\">:</span><a href=\"file:///work3/s194408/Project/schnet_CAcarbon/task.py#82\" target=\"_blank\"><span style=\"color: #7f7f7f; text-decoration-color: #7f7f7f\">82</span></a>\n",
       "</pre>\n"
      ],
      "text/plain": [
       "\u001b[2;36m                   \u001b[0m\u001b[2;36m \u001b[0m\u001b[34mINFO    \u001b[0m Processing test_BETA data                                                   \u001b]8;id=788996;file:///work3/s194408/Project/schnet_CAcarbon/task.py\u001b\\\u001b[2mtask.py\u001b[0m\u001b]8;;\u001b\\\u001b[2m:\u001b[0m\u001b]8;id=965223;file:///work3/s194408/Project/schnet_CAcarbon/task.py#82\u001b\\\u001b[2m82\u001b[0m\u001b]8;;\u001b\\\n"
      ]
     },
     "metadata": {},
     "output_type": "display_data"
    },
    {
     "name": "stderr",
     "output_type": "stream",
     "text": [
      "Structure Analysis Using Geometric: 100%|███████| 81/81 [00:02<00:00, 29.39it/s]\n"
     ]
    },
    {
     "data": {
      "text/html": [
       "<pre style=\"white-space:pre;overflow-x:auto;line-height:normal;font-family:Menlo,'DejaVu Sans Mono',consolas,'Courier New',monospace\"><span style=\"color: #7fbfbf; text-decoration-color: #7fbfbf\">[12/19/23 06:14:00] </span><span style=\"color: #000080; text-decoration-color: #000080\">INFO    </span> Processing test_BETA labels                                                 <a href=\"file:///work3/s194408/Project/schnet_CAcarbon/task.py\" target=\"_blank\"><span style=\"color: #7f7f7f; text-decoration-color: #7f7f7f\">task.py</span></a><span style=\"color: #7f7f7f; text-decoration-color: #7f7f7f\">:</span><a href=\"file:///work3/s194408/Project/schnet_CAcarbon/task.py#87\" target=\"_blank\"><span style=\"color: #7f7f7f; text-decoration-color: #7f7f7f\">87</span></a>\n",
       "</pre>\n"
      ],
      "text/plain": [
       "\u001b[2;36m[12/19/23 06:14:00]\u001b[0m\u001b[2;36m \u001b[0m\u001b[34mINFO    \u001b[0m Processing test_BETA labels                                                 \u001b]8;id=112965;file:///work3/s194408/Project/schnet_CAcarbon/task.py\u001b\\\u001b[2mtask.py\u001b[0m\u001b]8;;\u001b\\\u001b[2m:\u001b[0m\u001b]8;id=892750;file:///work3/s194408/Project/schnet_CAcarbon/task.py#87\u001b\\\u001b[2m87\u001b[0m\u001b]8;;\u001b\\\n"
      ]
     },
     "metadata": {},
     "output_type": "display_data"
    },
    {
     "data": {
      "text/html": [
       "<pre style=\"white-space:pre;overflow-x:auto;line-height:normal;font-family:Menlo,'DejaVu Sans Mono',consolas,'Courier New',monospace\"><span style=\"color: #7fbfbf; text-decoration-color: #7fbfbf\">                    </span><span style=\"color: #000080; text-decoration-color: #000080\">INFO    </span> Found <span style=\"color: #008080; text-decoration-color: #008080; font-weight: bold\">81</span> examples in test_BETA                                       <a href=\"file:///work3/s194408/Project/schnet_CAcarbon/data_utils.py\" target=\"_blank\"><span style=\"color: #7f7f7f; text-decoration-color: #7f7f7f\">data_utils.py</span></a><span style=\"color: #7f7f7f; text-decoration-color: #7f7f7f\">:</span><a href=\"file:///work3/s194408/Project/schnet_CAcarbon/data_utils.py#307\" target=\"_blank\"><span style=\"color: #7f7f7f; text-decoration-color: #7f7f7f\">307</span></a>\n",
       "</pre>\n"
      ],
      "text/plain": [
       "\u001b[2;36m                   \u001b[0m\u001b[2;36m \u001b[0m\u001b[34mINFO    \u001b[0m Found \u001b[1;36m81\u001b[0m examples in test_BETA                                       \u001b]8;id=326271;file:///work3/s194408/Project/schnet_CAcarbon/data_utils.py\u001b\\\u001b[2mdata_utils.py\u001b[0m\u001b]8;;\u001b\\\u001b[2m:\u001b[0m\u001b]8;id=355799;file:///work3/s194408/Project/schnet_CAcarbon/data_utils.py#307\u001b\\\u001b[2m307\u001b[0m\u001b]8;;\u001b\\\n"
      ]
     },
     "metadata": {},
     "output_type": "display_data"
    },
    {
     "name": "stderr",
     "output_type": "stream",
     "text": [
      "Processing test_BETA node label: 100%|████████| 81/81 [00:00<00:00, 2722.79it/s]\n",
      "Processing test_BETA atom label: 100%|████████| 81/81 [00:00<00:00, 2094.04it/s]\n"
     ]
    }
   ],
   "source": [
    "##['train', 'val', 'test_SP_TM', 'test_TM', 'test_BETA']\n",
    "batch_size = 1\n",
    "raw_data_name = \"DeepTMHMM.3line\"\n",
    "path ='/work3/s194408/Project/'\n",
    "processor = CreateDataLabel(path,batch_size =batch_size,raw_data_name=raw_data_name)\n",
    "# processor.initialization()# split and download trian/val/test just once\n",
    "train_data,train_lable, train_max_len,train_real_node_label,train_CA_index_list,train_atoms_length = processor.datalabelgenerator('train')\n",
    "\n",
    "val_data,val_lable,val_max_len,val_real_node_label,val_CA_index_list,val_atoms_length = processor.datalabelgenerator('val')\n",
    "\n",
    "test_SP_TM_data,test_SP_TM_lable, test_SP_TM_max_len,test_SP_TM_real_node_label,test_SP_TM_CA_index_list,test_SP_TM_atoms_length = processor.datalabelgenerator('test_SP_TM')\n",
    "\n",
    "test_TM_data,test_TM_lable,test_TM_max_len,test_TM_real_node_label,test_TM_CA_index_list,test_TM_atoms_length = processor.datalabelgenerator('test_TM')\n",
    "\n",
    "test_BETA_data,test_BETA_lable,test_BETA_max_len,test_BETA_real_node_label,test_BETA_CA_index_list,test_BETA_atoms_length = processor.datalabelgenerator('test_BETA')"
   ]
  },
  {
   "cell_type": "code",
   "execution_count": 3,
   "id": "68dccdc8",
   "metadata": {},
   "outputs": [],
   "source": [
    "import json\n",
    "\n",
    "# Opening JSON file\n",
    "f = open('/work3/s194408/Project/dataset/tmp/DeepTMHMM.partitions.json')\n",
    "\n",
    "# returns JSON object as\n",
    "# a dictionary\n",
    "cv_data = json.load(f)\n",
    "\n",
    "cv0 = cv_data['cv0']\n",
    "cv1 = cv_data['cv1']\n",
    "cv2 = cv_data['cv2']\n",
    "cv3 = cv_data['cv3']\n",
    "cv4 = cv_data['cv4']"
   ]
  },
  {
   "cell_type": "code",
   "execution_count": 4,
   "id": "35b30f51",
   "metadata": {},
   "outputs": [],
   "source": [
    "import pandas as pd\n",
    "\n",
    "# train_data,train_lable, train_max_len,train_real_node_label,train_CA_index_list,train_atoms_length\n",
    "\n",
    "# Group the data together\n",
    "total_data = train_data.copy()\n",
    "total_label = train_lable.copy()\n",
    "#total_batchname = train_batchname.copy()\n",
    "total_max_len = train_max_len + val_max_len + test_SP_TM_max_len + test_TM_max_len + test_BETA_max_len\n",
    "#total_dismatch_index_pred = train_dismatch_index_pred.copy()\n",
    "#total_dismatch_index_type = train_dismatch_index_type.copy()\n",
    "total_real_node_label = train_real_node_label.copy()\n",
    "total_CA_index_list = train_CA_index_list.copy()\n",
    "total_atoms_length = train_atoms_length.copy()\n",
    "\n",
    "#frames = [df_train, df_val, df_test_SP_TM, df_test_TM, df_test_BETA]\n",
    "#total_df = pd.concat(frames)\n",
    "\n",
    "#train_data,train_lable, train_batchname, train_max_len,train_dismatch_index_pred,train_dismatch_index_type,train_real_node_label,df_train \n",
    "#test_SP_TM_data,test_SP_TM_lable, test_SP_TM_batchname, test_SP_TM_max_len,test_SP_TM_dismatch_index_pred,test_SP_TM_dismatch_index_type,test_SP_TM_real_node_label,test_SP_TM_val\n",
    "#test_TM_data,test_TM_lable, test_TM_batchname, test_TM_max_len,test_TM_dismatch_index_pred,test_TM_dismatch_index_type,test_TM_real_node_label,test_TM_val \n",
    "#test_BETA_data,test_BETA_lable, test_BETA_batchname, test_BETA_max_len,test_BETA_dismatch_index_pred,test_BETA_dismatch_index_type,test_BETA_real_node_label,test_BETA_val\n",
    "for i in range(0, len(val_data)):\n",
    "    total_data.append(val_data[i])\n",
    "    total_label.append(val_lable[i])\n",
    "    #total_batchname.append(val_batchname[i])\n",
    "    #total_dismatch_index_pred[list(val_dismatch_index_pred)[i]] = list(val_dismatch_index_pred.values())[i]\n",
    "    #total_dismatch_index_type[list(val_dismatch_index_type)[i]] = list(val_dismatch_index_type.values())[i]\n",
    "    total_real_node_label.append(val_real_node_label[i])\n",
    "    total_CA_index_list.append(val_CA_index_list[i])\n",
    "    total_atoms_length.append(val_atoms_length[i])\n",
    "\n",
    "\n",
    "for i in range(0, len(test_SP_TM_data)):\n",
    "    total_data.append(test_SP_TM_data[i])\n",
    "    total_label.append(test_SP_TM_lable[i])\n",
    "#     total_batchname.append(test_SP_TM_batchname[i])\n",
    "#     total_dismatch_index_pred[list(test_SP_TM_dismatch_index_pred)[i]] = list(test_SP_TM_dismatch_index_pred.values())[i]\n",
    "#     total_dismatch_index_type[list(test_SP_TM_dismatch_index_type)[i]] = list(test_SP_TM_dismatch_index_type.values())[i]\n",
    "    total_real_node_label.append(test_SP_TM_real_node_label[i])\n",
    "    total_CA_index_list.append(test_SP_TM_CA_index_list[i])\n",
    "    total_atoms_length.append(test_SP_TM_atoms_length[i])\n",
    "\n",
    "\n",
    "for i in range(0, len(test_TM_data)):\n",
    "    total_data.append(test_TM_data[i])\n",
    "    total_label.append(test_TM_lable[i])\n",
    "  #  total_batchname.append(test_TM_batchname[i])\n",
    "   # total_dismatch_index_pred[list(test_TM_dismatch_index_pred)[i]] = list(test_TM_dismatch_index_pred.values())[i]\n",
    "   # total_dismatch_index_type[list(test_TM_dismatch_index_type)[i]] = list(test_TM_dismatch_index_type.values())[i]\n",
    "    total_real_node_label.append(test_TM_real_node_label[i])\n",
    "    total_CA_index_list.append(test_TM_CA_index_list[i])\n",
    "    total_atoms_length.append(test_TM_atoms_length[i])\n",
    "\n",
    "\n",
    "for i in range(0, len(test_BETA_data)):\n",
    "    total_data.append(test_BETA_data[i])\n",
    "    total_label.append(test_BETA_lable[i])\n",
    "    #total_batchname.append(test_BETA_batchname[i])\n",
    "    #total_dismatch_index_pred[list(test_BETA_dismatch_index_pred)[i]] = list(test_BETA_dismatch_index_pred.values())[i]\n",
    "    #total_dismatch_index_type[list(test_BETA_dismatch_index_type)[i]] = list(test_BETA_dismatch_index_type.values())[i]\n",
    "    total_real_node_label.append(test_BETA_real_node_label[i])\n",
    "    total_CA_index_list.append(test_BETA_CA_index_list[i])\n",
    "    total_atoms_length.append(test_BETA_atoms_length[i])\n",
    "\n"
   ]
  },
  {
   "cell_type": "code",
   "execution_count": 5,
   "id": "80ab8776",
   "metadata": {},
   "outputs": [],
   "source": [
    "total_x_len = []\n",
    "for i in range(0, len(total_data)):\n",
    "    total_x_len.append(len(total_data[i].x))"
   ]
  },
  {
   "cell_type": "code",
   "execution_count": 6,
   "id": "efd2738d",
   "metadata": {},
   "outputs": [],
   "source": [
    "cv0_x_len = [3438,1849,1320,3000,2248,1396,5312,2606,2217,2116,4573,7038,1067,1932,3063,8961,15111,2480,2692,2903,2534,2617,4651,2063,9064,2476,1466,2168,9531,2767,960,2806,2428,1929,2177,3010,1050,4500,2918,2983,3711,2839,487,1206,557,3555,2192,2840,1298,4585,2861,4371,2606,921,3336,2450,3658,2074,2573,3555,618,4418,3400,1420,1561,2163,3503,2396,1476,1422,3279,3743,2494,5301,829,2125,3488,909,2845,3906,1066,1229,4777,2547,3770,3147,3787,1482,4007,2509,2647,913,8753,1970,1608,2221,5078,1737,2327,1904,957,5572,761,3361,3943,2238,744,810,1301,9983,14943,4595,1851,5273,4222,4169,6315,6260,1929,4592,4783,1025,8498,1073,1200,1084,6552,4608,8444,655,4293,3959,4223,2862,3204,3508,1519,4137,392,6387,4406,9370,7132,2102,2809,3059,9481,2370,5818,4020,2515,9488,898,2141,7631,4172,3911,1245,6553,10695,4719,995,3909,976,3812,3176,8723,2797,1701,2837,1643,1481,3825,1215,8109,1525,1954,1800,3731,3812,4229,2902,835,4912,9807,2323,2167,1012,2570,4247,3379,563,940,2647,2920,5325,5862,2826,3392,11493,1708,1129,4401,2458,5014,1224,2086,3998,871,4546,5085,5240,1030,757,730,3264,1422,3817,2349,977,6874,2710,17757,4050,1165,5902,4041,2545,3287,2872,6621,5593,4651,12445,2516,3270,3930,493,4665,1084,1587,7674,8412,2796,4610,2027,2396,3145,1959,1114,2361,3407,2195,3561,1485,7993,14873,1527,3600,2219,2675,8679,7149,4497,2747,863,8942,3214,1036,931,2969,1103,2019,10127,4509,3728,2408,1196,8491,2248,12241,1450,6958,2940,6914,5913,3531,3663,5967,3595,1395,5610,1088,3211,5613,3197,8504,1131,5959,3126,2975,465,2902,2614,1400,6355,1985,1092,13146,1094,2076,6405,1794,4610,5833,1439,1691,616,4443,2762,8482,913,8543,4134,9340,6826,2434,1850,4192,4206,3438,3198,10525,5865,3039,678,3268,4438,2649,9776,1406,4287,6088,4182,3982,2078,2066,707,5720,6076,5947,14041,8480,9587,1789,1332,5117,5389,2097,6655,5658,12333,1345,1250,7167,2237,2415,5516,3723,3198,3198,10795,2861,18350,876,5895,18917,4020,5829,2929,2971,4440,2457,602,2988,1191,3205,3409,2710,3319,1119,1329,765,2243,1903,2141,14661,3918,6736,14969,1110,3112,2508,3512,2576,14686,762,1925,3047,1018,1557,4117,4559,1900,2500,2122,3169,1364,1334,12048,2801,1902,2220,5514,4538,977,2276,4676,628,2963,1903,1190,7660,2406,2379,406,6715,4880,7882,3512,2110,2467,4781,1894,6896,2219,4840,3077,2669,4674,713,1130,2976,2564,3652,9085,2786,2635,6503,2935,2969,10899,5853,561,11668,455,6361,6352,3095,1628,1519,893,5500,3216,1740,3423,1201,1751,16761,469,3266,495,5149,3550,17574,2606,5681,2594,1249,4471,3237,4046,1799,1042,2130,3995,4044,2572,1526,1455,10601,5176,2506,3798,6216,2429,2135,771,1647,1371,2565,4731,3010,2723,2496,3508,8625,1448,3434,6072,2246,8380,3228,913,2422,1448,3730,1871,1244,4966,2660,807,4685,3768,649,1860,2671,1348,9555,4255,4314,1103,5090,4969,3516,518,591,2514,3739,1153,4143,3225,2244,3174,1014,3090,4811,2395,2970,4635,4136,2612,2236,1994,848,3569,9522,9723,2091,8731,7675,4277,5009,4569,2579,3940,7013,525,4892,3639,1360,3185,3575,2799,1039,1793,1676,4838,3643,1199,2239,4212,1854,3916,987,4614,1483,3108,2746,3183,3310,2732,4669,4093,1634,2563,12127,5653,4991,6645,2840,11402,3907,1902,2665,1539,13438,3371,2330,2362,678,870,2402,7178,5533,3923,3025,7676,3950,3833,1449,1348,3375,3399,4933,3182,2435,4852,664,10520,4300,2884,2648,5292,10775,1521,2708,3710,2690,6379,3814,3114,3692,7278,688,2272,3141,2783,3435,2595,1677,6668,6673,2706,2979,2995,6414,3480,2447,6632,3287,1283,4421,6763,3577,1368,4875,2688,8564,2447,12348,3898,1551,5367,6838,6152,17374,4123,3551,15916,2724,886,4159,933,4611,5623,2699,1434,1962,3384,3008,3479,3140,1076,2058,4630,8182,1499,4910,2521,2065,5739,1491]\n",
    "cv1_x_len = [3257,509,12059,9938,3356,3554,2217,1250,1211,2971,2517,807,6052,5169,1202,2144,3883,624,4765,5077,2530,5865,2790,6697,5438,806,1178,989,2386,673,6625,4890,5493,3163,6927,2923,10939,2521,2743,7158,8446,1702,8858,1429,4107,1221,2132,1780,2286,5455,7944,7254,3157,18763,2922,2861,816,4916,6875,1308,3468,4119,1782,2739,1064,3895,3334,7822,1312,6670,1807,2946,1259,4970,6429,3315,1252,6048,3783,4413,932,4634,1998,3317,2854,2681,5837,9560,2704,4377,2994,7464,4396,1428,2730,13428,10318,2862,2258,4784,7480,14934,3603,6415,4695,1809,1519,3180,4722,6263,4378,4137,5906,9669,3098,3109,1659,2960,2902,2104,849,5510,6289,1978,1176,1158,1192,2769,3999,6592,4442,4537,3142,3030,7257,472,4055,5911,2567,4903,3192,4383,9524,2472,5384,5474,1002,2972,8865,9192,5593,470,3343,3009,3040,1074,2771,1891,3050,4344,2624,5023,1782,4612,1819,3592,2060,2688,1336,5593,4842,1538,704,6440,1835,1059,5532,1253,1383,3143,1117,3366,1817,3713,1007,1827,3002,4856,6635,2214,2885,1381,844,2566,1269,17691,3322,6023,6242,1150,7572,826,7338,2224,2548,2563,2944,5599,774,4173,695,8976,1702,3976,1989,3386,1399,8403,3298,5822,4156,1875,5517,4883,1990,3176,5575,7443,3907,2266,2059,1886,1712,1596,5206,6445,896,3286,2337,3625,3312,992,1001,766,3081,7886,7573,6580,852,4437,2208,1876,1317,4963,2271,12071,5075,3352,3446,995,849,2851,3109,1847,8708,2360,1238,1410,2910,6646,2413,1477,2222,1652,13485,2666,2262,3915,3650,6146,2199,865,1427,539,3464,542,2201,842,1422,1993,7937,5347,3458,7558,3864,851,3129,2934,2016,3156,840,5851,413,4861,2907,4179,1646,3846,3766,849,7704,5679,4280,1820,1701,1933,1195,1391,10712,5929,2623,3361,2176,4370,2404,1925,3199,822,2407,6028,6902,758,7357,1653,3683,2612,3000,2561,1887,1854,2489,2527,4021,7483,1090,1314,4199,4106,6679,879,4278,3252,703,4039,2750,3358,3519,3119,3770,1022,13384,756,1633,3817,2639,3269,8471,5403,1975,2379,1641,2068,6428,3293,2833,1025,8133,11376,860,8812,1992,2489,3540,2277,11245,653,5737,1965,1253,484,881,2518,2820,6783,12768,1659,4426,7366,3313,1903,675,5107,7596,3935,4292,1110,9797,14148,2154,7866,781,3590,2065,2130,11762,3427,6164,1297,4705,1103,2507,1653,3144,1468,4008,5165,2704,985,3790,2560,1065,4086,2017,3193,5007,3677,3096,13159,5454,894,942,4762,1143,2404,2801,7347,1891,542,5774,904,2875,4153,3906,4725,753,675,807,6346,1913,8349,2236,1289,2504,3682,3655,8077,2956,1705,18900,1982,2010,4230,722,11157,10107,7347,605,1945,1396,8052,1960,3368,705,2761,4341,7311,3082,2687,2046,2299,4304,4204,4947,1914,2006,5573,776,4472,7333,2791,1924,3945,3818,6034,3762,1708,3161,2893,1047,1354,5223,5942,7285,898,10594,1631,2115,2838,18370,2204,3536,3537,2796,2667,3726,6457,3372,2077,1118,4180,1213,2754,607,2855,2823,2036,869,1110,464,5345,3907,633,9535,5707,3201,858,1930,1973,643,5319,2410,12868,2030,2136,7301,8231,2149,3253,1040,2230,1917,9470,517,3007,2373,1611,978,3456,2135,7178,2540,1404,3189,4677,2852,6265,2015,1353,5374,5365,5065,9032,3881,4805,2869,1035,1063,1201,1772,3295,1178,4420,1109,4329,2187,2268,1037,1325,3759,2190,1824,2389,1451,5101,13696,1681,3609,17331,1756,1664,9930,1851,13935,477,676,2829,3815,3447,767,2011,3326,651,3783,1939,2692,2074,2122,1211,3607,6823,3234,2427,834,2100,1344,5136,4443,7388,2079,3567,2353,4304,8108,1627,2591,4511,7094,3391,2966,4731,2999,5104,2998,3149,2306,2379,3565,3789,4174,7919,14455,2489,2935,5047,2915,4434,7410,4056,9329,3168,6809,2214,1496,1201,2818,6347,1610,5723,980,768,2365,2615,1112,769,2510,2650,5426,3433,1464,3353,1304,1920,1502,6190,630,4191,3653,12814,11000,3961,1135,4013,3799,4114,5352,6032,8619,4377,3292,3972]\n",
    "cv2_x_len = [2683,9466,1745,2488,1793,4060,2319,3133,3565,3670,1642,4847,7794,8495,1576,3373,2293,2771,3181,2023,3164,1194,1659,4374,479,2306,5326,7984,3540,2611,5086,4642,3175,5273,11128,823,1870,4526,10457,3259,4885,9120,1355,2906,5851,937,2255,2892,4073,748,10628,1286,1198,4467,3661,6242,3080,1320,4863,2716,3135,1226,4019,2471,3295,1778,417,3498,7574,869,2749,5017,2784,2402,2523,6408,808,5876,1683,1624,5627,577,6591,4220,5142,7387,6830,1523,11814,1884,3771,3925,18030,1573,2369,4867,1154,3055,2289,2929,5420,1771,6908,1356,3134,5185,530,1733,3491,2316,4460,2429,9270,640,2737,1825,6645,1214,5268,2255,5229,1434,4008,3078,3777,2995,4160,5463,3644,7610,2994,4190,4147,20566,5195,1722,4417,7337,1071,8616,10326,762,9808,1223,11718,2224,4579,12585,5137,3401,4538,1055,3016,6509,6458,13241,8905,3697,6365,3053,555,1581,3257,5733,10029,1822,7134,3153,1539,2635,6934,1861,8231,3446,1630,932,3353,6155,7896,2606,1754,4834,4535,3996,4136,9826,5860,1705,1304,571,5135,1200,4663,3459,10969,4586,1439,1859,2457,1072,4688,4869,2793,5211,5623,2833,9074,2215,6924,10678,1141,6536,1920,1811,6020,1597,807,3533,1004,4584,3247,2189,5382,2700,3587,3585,1855,9839,6519,2576,7462,2227,2519,1926,10770,3073,15066,3118,5181,1256,3663,699,2072,3629,1886,629,982,1680,6805,3409,3749,8402,4044,2480,3966,2664,3128,1914,4436,1987,5811,2786,3735,3283,2588,3705,2737,5551,2272,9311,2021,2403,9128,2609,1221,2175,4417,2727,1551,587,5811,1226,2870,2206,8670,2897,2581,1314,782,8356,9960,1742,2757,903,5478,12347,6548,2083,4547,787,2041,1888,3682,8086,3122,8516,5256,5924,1685,5823,4602,2048,806,3634,419,2074,4216,3728,1780,2496,2303,10040,4268,1363,1185,12807,4738,4777,2035,2660,712,2510,2236,1282,2236,2523,4141,4668,1764,3141,7873,6830,2675,8288,995,2361,11772,927,2682,4964,4874,1385,8004,4006,3097,9824,1356,5795,1715,5158,10982,4085,15135,3356,934,2570,7748,3835,1554,4527,1342,1774,2591,7574,2339,2193,4578,1765,1917,2618,3305,794,6352,3014,3401,5069,7828,3141,2612,1470,1954,3813,657,3153,1677,1083,1809,1689,2786,933,1405,4128,4283,2926,1403,913,3652,2128,1022,2634,12964,4699,6119,7601,984,1832,2154,2630,5786,2786,6705,1823,2072,670,9225,2721,1731,5476,1345,9826,5260,5409,3152,5353,4690,1589,5398,2398,2238,2571,7489,1679,1859,1938,5145,825,4225,1002,8976,4144,575,5328,1477,2284,4761,2863,4214,2452,2388,1373,4222,2274,5120,2371,1296,2947,1586,6215,1001,4003,6148,2449,4056,3596,3387,1451,1639,2871,4384,1477,5446,5176,2983,3989,2143,3271,5844,1062,1919,2069,3349,2866,1611,2567,5203,10657,3382,1669,7167,3550,1617,7302,3311,842,2789,1095,13538,962,2416,2754,3914,3610,3331,1969,3181,8106,3668,1786,1110,2211,1606,6504,2836,3271,1436,2200,3267,3816,797,3496,610,2348,1962,1206,1008,2980,833,641,13667,3826,967,2782,6315,3992,1595,9533,1953,2518,4026,5538,1845,3733,3270,2014,7117,487,600,2773,1614,13312,4544,7196,847,2070,3206,573,2983,1045,595,1358,5797,10011,5637,4427,9282,9658,3982,4028,2247,2231,7080,3006,1511,15343,2675,1346,1924,3436,4746,2376,896,2353,20789,2773,7138,1274,3082,2260,1773,5025,6055,5404,1526,3968,2090,2909,3782,2222,489,1920,6873,769,5018,3009,2473,4049,2000,1795,4255,1219,1550,662,2102,2832,2150,10023,3075,4673,3087,3177,4531,3133,3510,2444,3852,778,5635,5341,1899,4968,6780,3832,3142,3844,3052,2615,7237,2577,12633,3199,5486,2180,2083,544,1653,6245,2704,3764,1966,2780,1029,1784,2623,3164,504,3995,1915,4752,11682,8131,2484,6709,1836,1959,5714,2682,5523,544,2009,1953,6039,794,19972,904,7647,1009,4578,3037,7310,5315,5902,4582,5323,1660,2683,2972,6137,6191,2194,723,3861,2669,5723,4458]\n",
    "cv3_x_len = [696,1517,9845,1627,712,2098,4673,2161,679,12286,8651,10444,2365,7718,1163,2704,4195,7110,6487,2768,3100,1907,4202,1312,780,1655,2115,3689,1548,3893,1410,490,4153,715,2171,11187,3782,5503,1441,3484,6265,2345,1127,2238,2264,1887,5786,16868,2993,3561,8210,3885,1664,10886,733,4329,7824,6513,6389,1687,2303,1183,7502,1404,1420,6395,1223,2856,5002,1327,1887,3690,1495,12732,5523,1820,2747,2819,1242,2866,884,4449,9914,2724,1735,3195,5869,1283,5422,5911,859,4657,5909,4826,2280,3578,3065,1295,2877,3200,2188,2879,2817,4592,7886,1704,11067,819,7081,1629,7591,7141,2862,611,3684,5577,2486,6813,3780,2782,512,4803,6391,1484,1018,8314,4177,1803,1776,4289,992,6985,1588,1775,9565,4407,1832,2703,2808,9080,431,2586,4410,1905,5726,3538,755,3238,1370,3883,1967,8570,2499,1725,12456,1862,1740,1473,7782,606,1377,11838,2179,2193,863,4325,489,7564,4094,4645,3516,2795,4550,843,2989,1547,1199,2352,5273,5317,6809,4322,1066,4886,3043,2911,7158,3666,2905,8780,2400,2516,2560,1421,2869,3212,4901,1081,2003,3787,1645,2044,893,4410,4034,3557,3138,1874,3996,4351,4839,840,2231,2331,6103,6022,1155,5371,5537,1504,5443,8118,2922,2164,3583,8439,3611,3328,1906,4214,922,1622,2692,9081,730,4270,2755,1702,1697,2563,5576,1700,3012,500,2246,6831,6238,4369,3172,5598,6959,2369,9655,917,7957,1512,1595,3989,3276,7125,2055,2692,3792,3098,4708,6742,1511,7422,930,13542,5368,1945,9333,2005,1285,7319,1151,512,3279,1776,2090,2839,12856,4466,3340,480,1225,1320,1513,3126,2596,4098,3818,3762,2837,4482,2577,2401,9219,1172,12131,8689,2820,2822,4412,3874,8055,3236,4748,1055,626,842,3604,3849,2409,5786,9415,6147,4157,866,6359,2738,1332,1743,7128,7204,8164,2820,1821,431,3869,3832,1995,1173,5298,3678,672,2672,9044,3842,2577,10271,4814,4046,2562,3387,1091,8144,4481,6086,1430,4288,1097,3849,11316,1189,2476,6664,3506,4098,18382,6772,2253,3369,916,7002,4600,4203,1792,847,3771,791,12052,3972,2021,1592,1543,2380,3716,1631,2627,12979,984,9000,8397,2870,1425,4827,10783,4368,1062,5971,8026,3408,4181,2106,2255,767,5495,3230,634,3619,6656,520,4074,2611,5301,4947,2763,1524,16712,5089,5945,3837,6936,13292,2025,723,2261,1518,2596,2765,3299,4664,3340,19164,3914,4042,1442,5834,1335,2530,6425,3054,3228,3292,1617,5686,7314,6065,1189,604,2694,11408,4682,8925,1683,1328,1525,3596,12656,10960,5850,4445,3277,14934,1907,2306,11768,1692,1880,3196,1103,4572,6271,1437,5419,4724,981,1736,1115,1889,2299,11544,3405,1831,1674,3141,3830,1672,2280,2658,9339,2152,601,961,2330,2811,7263,3098,4528,1239,2739,4297,4325,1154,1542,2459,1134,990,1927,2765,3719,7227,9284,1289,2241,2317,4513,5444,1765,2408,5190,3457,3476,1340,2410,2960,2363,1525,4220,1661,5442,10250,1390,3823,1820,2075,9087,4760,16152,6533,3973,1616,686,5668,3094,9807,2709,1884,1448,1517,17245,1637,5147,2242,1320,4629,3634,4452,2227,2987,595,4108,905,9114,1190,2405,1750,3596,15649,2991,1415,3942,8277,4036,2410,1513,4443,5524,3291,2648,3230,2198,4145,2232,1279,5252,2074,400,4072,529,3943,2323,10305,1014,11707,2912,1499,1311,2628,2021,3365,4519,7992,1448,1839,5850,3328,4377,2579,4041,3881,5439,5886,607,678,3917,3968,2133,1976,2534,2656,2856,2668,4190,17936,4679,5797,7554,2838,1800,1704,1962,2996,1575,1681,4897,1482,4838,1535,4057,17949,1653,7445,3257,3763,1313,7621,12090,2789,4385,1712,13934,833,4030,7204,3016,7141,1179,6988,1771,3749,990,1914,1140,4299,1693,2261,2771,1685,1457,2257,2540,5185,3413,672,2480,4161,3554,4749,4109,9648,1919,1569,4590,2488,8583,5714,4281,5160,2616,5165,3110,3250,16704,3735,9696,1505,5523,3839,2058,1392,6471,831,3492,5602,13077,8062,1951,6330,2403,3715,1597]\n",
    "cv4_x_len = [2494,6795,1923,9592,734,3095,7511,661,2244,541,5225,5436,3085,1571,12622,2538,2208,4141,5452,4517,5774,1024,2580,3954,7662,3691,18657,2784,2164,519,1178,9916,1863,3000,2844,1208,1158,2614,8170,1768,3107,2235,616,5282,4558,5587,3674,3876,2253,7633,3477,1697,6997,4895,4592,1070,2438,20118,3192,1258,5817,1002,4016,3502,2544,10460,12521,4328,3511,2757,5800,3478,1987,7948,2718,1623,3776,6537,1688,5429,1445,12598,1362,4058,992,7411,2278,3292,2555,1527,447,2088,575,3755,561,3419,1900,5685,3299,3296,4108,478,11256,1343,5036,1138,1252,2517,2381,1380,589,2958,5525,5474,4015,2987,2268,2353,5468,1791,5244,1360,11746,2888,2009,3856,2656,4338,12816,1982,2494,7767,2398,1227,885,10191,4128,3758,3795,3354,5264,1838,3262,7508,9367,1564,1578,11871,657,1182,1257,3723,6359,2586,5014,4071,5191,2586,6776,3359,1721,4012,2300,1985,2233,5766,2598,5930,7645,1139,3141,2703,2335,421,505,1101,2792,1082,3659,4468,1401,2035,1589,2036,2899,2083,1101,1866,2586,955,541,2967,14330,4645,2289,2934,3222,3160,4571,6750,3564,1976,6759,2348,1270,2778,3959,2990,9180,1830,4406,3269,1036,4811,2794,5605,5287,6342,1462,792,6184,1104,2462,3305,11146,1187,7398,1211,2804,1275,4653,5830,3417,477,6361,4362,4529,8506,2552,3200,3711,5693,5765,3356,666,6806,4265,4341,3924,761,6533,3716,3411,2053,1708,19974,8826,1176,9057,11052,2870,970,1227,3552,8352,2625,2252,2406,4274,6045,1436,2336,2574,3907,5316,3917,4683,2157,4419,8652,2325,3903,3794,2899,8947,2834,7630,3752,734,3801,3353,1508,1151,2558,3195,10166,3714,13250,4657,5458,5251,3543,1914,4676,5581,2529,1095,12343,7937,2824,2217,3584,1707,1643,642,6348,668,3682,4674,1679,6155,7282,1314,6040,5381,8522,1415,3100,8318,2537,2662,9668,3544,2415,6838,1023,12726,702,13035,3385,1789,4485,2863,7279,5589,980,1734,2862,845,2423,3008,2155,4410,1537,4813,618,5630,11676,9135,12002,2240,9245,3338,2323,2920,2236,2393,2316,1165,1499,3706,4862,4891,7112,1871,4592,3055,531,5879,1787,6672,2926,7669,1233,6862,3322,1913,3343,4466,468,13394,3127,947,8845,5249,489,1341,5003,5529,5366,1427,14764,6302,3580,3167,1475,6802,3727,2785,8477,438,6923,1851,8022,3766,4762,1103,5216,5370,5126,1508,4292,6131,8284,3322,4633,736,744,1400,9822,550,6297,2601,11530,1521,3978,11711,6218,3148,644,926,2965,4461,17411,2488,2850,6261,4000,3493,2697,2997,1579,5021,2572,2531,1509,1211,1136,4939,2072,1954,1461,10098,6453,2828,5686,3013,12045,4994,3349,2460,2879,976,1564,2020,1528,2863,3163,5514,4412,4606,648,5635,2400,1731,5127,4552,1431,3295,3194,859,7414,1981,1313,3749,926,2180,1879,1379,960,7840,5213,1009,3577,2076,11313,2450,4149,5335,3485,2809,945,1817,2213,2325,427,3902,3554,1799,1031,6770,2325,754,3940,530,3346,1314,2778,3432,3505,2275,4534,5193,1120,3300,7318,781,791,8172,522,2959,3456,545,4972,14391,1314,2725,2703,6550,1942,1738,1746,3624,3259,4234,4779,6506,4515,4037,2518,2633,4514,10122,5026,15138,1450,3127,1936,4445,6211,1184,1002,4112,1527,1301,1414,2675,1419,1110,1488,6557,2567,9229,2270,1299,1072,11604,3545,15023,1296,3192,3598,7413,2044,1703,1237,3116,2558,1491,3953,3912,1620,1382,1563,6998,1212,6607,2085,7385,2187,7967,2148,4498,2281,5593,3375,4225,3463,2976,730,609,1478,16372,3219,992,3334,7216,2150,1761,2661,3416,3353,3406,600,4214,5005,2284,2049,2735,1053,4339,1361,1756,4806,2084,3032,3640,1708,2143,10806,1560,4392,2032,6150,1892,10596,1547,4051,1074,4619,4148,4624,3624,1136,4878,1913,9062,2078,1778,2566,5258,11659,712,2481,1081,3796,2880,2773,1478,1128,2208,3969,2512,1967,3565,1327,3020,1570,3518,3407,490,2883,8966,8113,4591,20223,2789,3818,4010,1265,2204,3005,783,1769,2104,4248,1128,6076,6728,420,2032]\n"
   ]
  },
  {
   "cell_type": "code",
   "execution_count": 7,
   "id": "079f6e8e",
   "metadata": {},
   "outputs": [],
   "source": [
    "# For cv0\n",
    "cv0_data = []\n",
    "cv0_label = []\n",
    "# cv0_batchname = []\n",
    "# cv0_dismatch_index_pred = {}\n",
    "# cv0_dismatch_index_type = {}\n",
    "cv0_real_node_label = []\n",
    "cv0_index = []\n",
    "#cv0_df = pd.DataFrame(columns=total_df.columns)\n",
    "cv0_CA_index_list = []\n",
    "cv0_total_atoms_length = []\n",
    "\n",
    "\n",
    "\n",
    "# Find index for the found cv0 proteins\n",
    "# Note that the labels are aligned with the batch names\n",
    "for i in range(0, len(cv0_x_len)):\n",
    "    cv0_index.append(total_x_len.index(cv0_x_len[i]))\n",
    "\n",
    "\n",
    "\n",
    "\n",
    "# gather the data for cv0\n",
    "for i in range(0, len(cv0_index)):\n",
    "    cv0_data.append(total_data[cv0_index[i]])\n",
    "    cv0_label.append(total_label[cv0_index[i]])\n",
    "    #cv0_dismatch_index_pred[list(total_dismatch_index_pred)[cv0_index[i]]] = list(total_dismatch_index_pred.values())[cv0_index[i]]\n",
    "    #cv0_dismatch_index_type[list(total_dismatch_index_type)[cv0_index[i]]] = list(total_dismatch_index_type.values())[cv0_index[i]]\n",
    "    cv0_real_node_label.append(total_real_node_label[cv0_index[i]])\n",
    "    cv0_CA_index_list.append(total_CA_index_list[cv0_index[i]])\n",
    "    cv0_total_atoms_length.append(total_atoms_length[cv0_index[i]])\n",
    "\n",
    "\n",
    "# put into a list\n",
    "cv0_lis = [cv0_data, cv0_label, cv0_real_node_label, cv0_CA_index_list, cv0_total_atoms_length]\n",
    "\n",
    "\n",
    "\n",
    "\n",
    "# for cv1\n",
    "cv1_data = []\n",
    "cv1_label = []\n",
    "cv1_real_node_label = []\n",
    "cv1_index = []\n",
    "cv1_CA_index_list = []\n",
    "cv1_total_atoms_length = []\n",
    "\n",
    "\n",
    "\n",
    "# Find index for the found cv0 proteins\n",
    "for i in range(0, len(cv1_x_len)):\n",
    "    cv1_index.append(total_x_len.index(cv1_x_len[i]))\n",
    "\n",
    "\n",
    "\n",
    "\n",
    "# gather the data for cv0\n",
    "for i in range(0, len(cv1_index)):\n",
    "    cv1_data.append(total_data[cv1_index[i]])\n",
    "    cv1_label.append(total_label[cv1_index[i]])\n",
    "    cv1_real_node_label.append(total_real_node_label[cv1_index[i]])\n",
    "    cv1_CA_index_list.append(total_CA_index_list[cv1_index[i]])\n",
    "    cv1_total_atoms_length.append(total_atoms_length[cv1_index[i]])\n",
    "\n",
    "# put into a list\n",
    "cv1_lis = [cv1_data, cv1_label, cv1_real_node_label, cv1_CA_index_list, cv1_total_atoms_length]\n",
    "    \n",
    "    \n",
    "\n",
    "# for cv2\n",
    "cv2_data = []\n",
    "cv2_label = []\n",
    "cv2_real_node_label = []\n",
    "cv2_index = []\n",
    "cv2_CA_index_list = []\n",
    "cv2_total_atoms_length = []\n",
    "\n",
    "\n",
    "\n",
    "# Find index for the found cv0 proteins\n",
    "for i in range(0, len(cv2_x_len)):\n",
    "    cv2_index.append(total_x_len.index(cv2_x_len[i]))\n",
    "\n",
    "\n",
    "\n",
    "\n",
    "# gather the data for cv0\n",
    "for i in range(0, len(cv2_index)):\n",
    "    cv2_data.append(total_data[cv2_index[i]])\n",
    "    cv2_label.append(total_label[cv2_index[i]])\n",
    "    cv2_real_node_label.append(total_real_node_label[cv2_index[i]])\n",
    "    cv2_CA_index_list.append(total_CA_index_list[cv2_index[i]])\n",
    "    cv2_total_atoms_length.append(total_atoms_length[cv2_index[i]])\n",
    "\n",
    "\n",
    "# put into a list\n",
    "cv2_lis = [cv2_data, cv2_label, cv2_real_node_label, cv2_CA_index_list, cv2_total_atoms_length]\n",
    "\n",
    "    \n",
    "    \n",
    "    \n",
    "    \n",
    "# for cv3\n",
    "cv3_data = []\n",
    "cv3_label = []\n",
    "cv3_real_node_label = []\n",
    "cv3_index = []\n",
    "cv3_CA_index_list = []\n",
    "cv3_total_atoms_length = []\n",
    "\n",
    "\n",
    "\n",
    "# Find index for the found cv0 proteins\n",
    "for i in range(0, len(cv3_x_len)):\n",
    "    cv3_index.append(total_x_len.index(cv3_x_len[i]))\n",
    "\n",
    "\n",
    "\n",
    "\n",
    "# gather the data for cv0\n",
    "for i in range(0, len(cv3_index)):\n",
    "    cv3_data.append(total_data[cv3_index[i]])\n",
    "    cv3_label.append(total_label[cv3_index[i]])\n",
    "    cv3_real_node_label.append(total_real_node_label[cv3_index[i]])\n",
    "    cv3_CA_index_list.append(total_CA_index_list[cv3_index[i]])\n",
    "    cv3_total_atoms_length.append(total_atoms_length[cv3_index[i]])\n",
    "\n",
    "\n",
    "# put into a list\n",
    "cv3_lis = [cv3_data, cv3_label, cv3_real_node_label, cv3_CA_index_list, cv3_total_atoms_length]\n",
    "\n",
    "\n",
    "\n",
    "    \n",
    "    \n",
    "    \n",
    "    \n",
    "# for cv4\n",
    "cv4_data = []\n",
    "cv4_label = []\n",
    "cv4_real_node_label = []\n",
    "cv4_index = []\n",
    "cv4_CA_index_list = []\n",
    "cv4_total_atoms_length = []\n",
    "\n",
    "\n",
    "\n",
    "# Find index for the found cv0 proteins\n",
    "for i in range(0, len(cv4_x_len)):\n",
    "    cv4_index.append(total_x_len.index(cv4_x_len[i]))\n",
    "\n",
    "\n",
    "\n",
    "\n",
    "# gather the data for cv0\n",
    "for i in range(0, len(cv4_index)):\n",
    "    cv4_data.append(total_data[cv4_index[i]])\n",
    "    cv4_label.append(total_label[cv4_index[i]])\n",
    "    cv4_real_node_label.append(total_real_node_label[cv4_index[i]])\n",
    "    cv4_CA_index_list.append(total_CA_index_list[cv4_index[i]])\n",
    "    cv4_total_atoms_length.append(total_atoms_length[cv4_index[i]])\n",
    "    \n",
    "\n",
    "# put into a list\n",
    "cv4_lis = [cv4_data, cv4_label, cv4_real_node_label, cv4_CA_index_list, cv4_total_atoms_length]\n",
    "\n",
    "    \n",
    "#print(len(cv0_data), len(cv1_data), len(cv2_data), len(cv3_data), len(cv4_data))"
   ]
  },
  {
   "cell_type": "code",
   "execution_count": 8,
   "id": "1d36fc20",
   "metadata": {},
   "outputs": [],
   "source": [
    "def make_splits(cv0_lis, cv1_lis, cv2_lis, cv3_lis, cv4_lis, setup):\n",
    "\n",
    "    # for setup 1:\n",
    "    #cv0, cv1, cv2 for train, cv3 for validation, cv4 for test\n",
    "    if setup == \"setup 1\":\n",
    "    # data format\n",
    "    #cv0_lis = [cv0_data, cv0_label, cv0_batchname, cv0_dismatch_index_pred, cv0_dismatch_index_type, cv0_real_node_label, cv0_df]\n",
    "\n",
    "        setup_train_data = cv0_lis[0].copy()\n",
    "        setup_train_label = cv0_lis[1].copy()\n",
    "        setup_train_real_node_label = cv0_lis[2].copy()\n",
    "        setup_train_CA_index_list = cv0_lis[3].copy()\n",
    "        setup_train_total_atoms_length = cv0_lis[4].copy()\n",
    "\n",
    "\n",
    "\n",
    "\n",
    "        for i in range(0, len(cv1_lis[0])):\n",
    "            setup_train_data.append(cv1_lis[0][i])\n",
    "            setup_train_label.append(cv1_lis[1][i])\n",
    "            setup_train_real_node_label.append(cv1_lis[2][i])\n",
    "            setup_train_CA_index_list.append(cv1_lis[3][i])\n",
    "            setup_train_total_atoms_length.append(cv1_lis[4][i])\n",
    "\n",
    "\n",
    "        for i in range(0, len(cv2_lis[0])):\n",
    "            setup_train_data.append(cv2_lis[0][i])\n",
    "            setup_train_label.append(cv2_lis[1][i])\n",
    "            setup_train_real_node_label.append(cv2_lis[2][i])\n",
    "            setup_train_CA_index_list.append(cv2_lis[3][i])\n",
    "            setup_train_total_atoms_length.append(cv2_lis[4][i])\n",
    "\n",
    "\n",
    "        # The validation set\n",
    "        setup_val_data = cv3_lis[0].copy()\n",
    "        setup_val_label = cv3_lis[1].copy()\n",
    "        setup_val_real_node_label = cv3_lis[2].copy()\n",
    "        setup_val_CA_index_list = cv3_lis[3].copy()\n",
    "        setup_val_total_atoms_length = cv3_lis[4].copy()\n",
    "\n",
    "\n",
    "        # The test set\n",
    "        setup_test_data = cv4_lis[0].copy()\n",
    "        setup_test_label = cv4_lis[1].copy()\n",
    "        setup_test_real_node_label = cv4_lis[2].copy()\n",
    "        setup_test_CA_index_list = cv4_lis[3].copy()\n",
    "        setup_test_total_atoms_length = cv4_lis[4].copy()\n",
    "\n",
    "\n",
    "\n",
    "\n",
    "\n",
    "\n",
    "\n",
    "\n",
    "\n",
    "\n",
    "    # for setup 2: cv1, cv2, cv3 for train, cv4 for validation, cv0 for test\n",
    "    elif setup == \"setup 2\":\n",
    "\n",
    "        setup_train_data = cv1_lis[0].copy()\n",
    "        setup_train_label = cv1_lis[1].copy()\n",
    "        setup_train_real_node_label = cv1_lis[2].copy()\n",
    "        setup_train_CA_index_list = cv1_lis[3].copy()\n",
    "        setup_train_total_atoms_length = cv1_lis[4].copy()\n",
    "\n",
    "\n",
    "\n",
    "        for i in range(0, len(cv2_lis[0])):\n",
    "            setup_train_data.append(cv2_lis[0][i])\n",
    "            setup_train_label.append(cv2_lis[1][i])\n",
    "            setup_train_real_node_label.append(cv2_lis[2][i])\n",
    "            setup_train_CA_index_list.append(cv2_lis[3][i])\n",
    "            setup_train_total_atoms_length.append(cv2_lis[4][i])\n",
    "\n",
    "\n",
    "        for i in range(0, len(cv3_lis[0])):\n",
    "            setup_train_data.append(cv3_lis[0][i])\n",
    "            setup_train_label.append(cv3_lis[1][i])\n",
    "            setup_train_real_node_label.append(cv3_lis[2][i])\n",
    "            setup_train_CA_index_list.append(cv3_lis[3][i])\n",
    "            setup_train_total_atoms_length.append(cv3_lis[4][i])\n",
    "\n",
    "\n",
    "        # The validation set\n",
    "        setup_val_data = cv4_lis[0].copy()\n",
    "        setup_val_label = cv4_lis[1].copy()\n",
    "        setup_val_real_node_label = cv4_lis[2].copy()\n",
    "        setup_val_CA_index_list = cv4_lis[3].copy()\n",
    "        setup_val_total_atoms_length = cv4_lis[4].copy()\n",
    "\n",
    "\n",
    "        # The test set\n",
    "        setup_test_data = cv0_lis[0].copy()\n",
    "        setup_test_label = cv0_lis[1].copy()\n",
    "        setup_test_real_node_label = cv0_lis[2].copy()\n",
    "        setup_test_CA_index_list = cv0_lis[3].copy()\n",
    "        setup_test_total_atoms_length = cv0_lis[4].copy()\n",
    "\n",
    "\n",
    "\n",
    "\n",
    "\n",
    "\n",
    "\n",
    "    # for setup 3: cv2, cv3, cv4 for train, cv0 for validation, cv1 for test\n",
    "    elif setup == \"setup 3\":\n",
    "\n",
    "        setup_train_data = cv2_lis[0].copy()\n",
    "        setup_train_label = cv2_lis[1].copy()\n",
    "        setup_train_real_node_label = cv2_lis[2].copy()\n",
    "        setup_train_CA_index_list = cv2_lis[3].copy()\n",
    "        setup_train_total_atoms_length = cv2_lis[4].copy()\n",
    "\n",
    "\n",
    "\n",
    "\n",
    "        for i in range(0, len(cv3_lis[0])):\n",
    "            setup_train_data.append(cv3_lis[0][i])\n",
    "            setup_train_label.append(cv3_lis[1][i])\n",
    "            setup_train_real_node_label.append(cv3_lis[2][i])\n",
    "            setup_train_CA_index_list.append(cv3_lis[3][i])\n",
    "            setup_train_total_atoms_length.append(cv3_lis[4][i])\n",
    "\n",
    "\n",
    "        for i in range(0, len(cv4_lis[0])):\n",
    "            setup_train_data.append(cv4_lis[0][i])\n",
    "            setup_train_label.append(cv4_lis[1][i])\n",
    "            setup_train_real_node_label.append(cv4_lis[2][i])\n",
    "            setup_train_CA_index_list.append(cv4_lis[3][i])\n",
    "            setup_train_total_atoms_length.append(cv4_lis[4][i])\n",
    "\n",
    "\n",
    "        # The validation set\n",
    "        setup_val_data = cv0_lis[0].copy()\n",
    "        setup_val_label = cv0_lis[1].copy()\n",
    "        setup_val_real_node_label = cv0_lis[2].copy()\n",
    "        setup_val_CA_index_list = cv0_lis[3].copy()\n",
    "        setup_val_total_atoms_length = cv0_lis[4].copy()\n",
    "\n",
    "\n",
    "        # The test set\n",
    "        setup_test_data = cv1_lis[0].copy()\n",
    "        setup_test_label = cv1_lis[1].copy()\n",
    "        setup_test_real_node_label = cv1_lis[2].copy()\n",
    "        setup_test_CA_index_list = cv1_lis[3].copy()\n",
    "        setup_test_total_atoms_length = cv1_lis[4].copy()\n",
    "\n",
    "\n",
    "\n",
    "\n",
    "\n",
    "\n",
    "\n",
    "    # for setup 4: cv3, cv4, cv0 for train, cv1 for validation, cv2 for test\n",
    "    elif setup == \"setup 4\":\n",
    "        setup_train_data = cv3_lis[0].copy()\n",
    "        setup_train_label = cv3_lis[1].copy()\n",
    "        setup_train_real_node_label = cv3_lis[2].copy()\n",
    "        setup_train_CA_index_list = cv3_lis[3].copy()\n",
    "        setup_train_total_atoms_length = cv3_lis[4].copy()\n",
    "\n",
    "\n",
    "\n",
    "\n",
    "        for i in range(0, len(cv4_lis[0])):\n",
    "            setup_train_data.append(cv4_lis[0][i])\n",
    "            setup_train_label.append(cv4_lis[1][i])\n",
    "            setup_train_real_node_label.append(cv4_lis[2][i])\n",
    "            setup_train_CA_index_list.append(cv4_lis[3][i])\n",
    "            setup_train_total_atoms_length.append(cv4_lis[4][i])\n",
    "\n",
    "\n",
    "        for i in range(0, len(cv0_lis[0])):\n",
    "            setup_train_data.append(cv0_lis[0][i])\n",
    "            setup_train_label.append(cv0_lis[1][i])\n",
    "            setup_train_real_node_label.append(cv0_lis[2][i])\n",
    "            setup_train_CA_index_list.append(cv0_lis[3][i])\n",
    "            setup_train_total_atoms_length.append(cv0_lis[4][i])\n",
    "\n",
    "\n",
    "        # The validation set\n",
    "        setup_val_data = cv1_lis[0].copy()\n",
    "        setup_val_label = cv1_lis[1].copy()\n",
    "        setup_val_real_node_label = cv1_lis[5].copy()\n",
    "        setup_val_CA_index_list = cv1_CA_index_list.copy()\n",
    "        setup_val_total_atoms_length = cv1_total_atoms_length.copy()\n",
    "\n",
    "\n",
    "        # The test set\n",
    "        setup_test_data = cv2_lis[0].copy()\n",
    "        setup_test_label = cv2_lis[1].copy()\n",
    "        setup_test_real_node_label = cv2_lis[2].copy()\n",
    "        setup_test_CA_index_list = cv2_lis[3].copy()\n",
    "        setup_test_total_atoms_length = cv2_lis[4].copy()\n",
    "\n",
    "\n",
    "\n",
    "\n",
    "\n",
    "\n",
    "    # for setup 5: cv4, cv0, cv1 for train, cv2 for validation, cv3 for test\n",
    "    elif setup == \"setup 5\":\n",
    "        setup_train_data = cv4_lis[0].copy()\n",
    "        setup_train_label = cv4_lis[1].copy()\n",
    "        setup_train_real_node_label = cv4_lis[2].copy()\n",
    "        setup_train_CA_index_list = cv4_lis[3].copy()\n",
    "        setup_train_total_atoms_length = cv4_lis[4].copy()\n",
    "\n",
    "\n",
    "\n",
    "\n",
    "        for i in range(0, len(cv0_lis[0])):\n",
    "            setup_train_data.append(cv0_lis[0][i])\n",
    "            setup_train_label.append(cv0_lis[1][i])\n",
    "            setup_train_real_node_label.append(cv0_lis[2][i])\n",
    "            setup_train_CA_index_list.append(cv0_lis[3][i])\n",
    "            setup_train_total_atoms_length.append(cv0_lis[4][i])\n",
    "\n",
    "\n",
    "        for i in range(0, len(cv1_lis[0])):\n",
    "            setup_train_data.append(cv1_lis[0][i])\n",
    "            setup_train_label.append(cv1_lis[1][i])\n",
    "            setup_train_real_node_label.append(cv1_lis[2][i])\n",
    "            setup_train_CA_index_list.append(cv1_lis[3][i])\n",
    "            setup_train_total_atoms_length.append(cv1_lis[4][i])\n",
    "\n",
    "\n",
    "        # The validation set\n",
    "        setup_val_data = cv2_lis[0].copy()\n",
    "        setup_val_label = cv2_lis[1].copy()\n",
    "        setup_val_real_node_label = cv2_lis[5].copy()\n",
    "        setup_val_CA_index_list = cv2_CA_index_list.copy()\n",
    "        setup_val_total_atoms_length = cv2_total_atoms_length.copy()\n",
    "\n",
    "\n",
    "        # The test set\n",
    "        setup_test_data = cv3_lis[0].copy()\n",
    "        setup_test_label = cv3_lis[1].copy()\n",
    "        setup_test_real_node_label = cv3_lis[2].copy()\n",
    "        setup_test_CA_index_list = cv3_lis[3].copy()\n",
    "        setup_test_total_atoms_length = cv3_lis[4].copy()\n",
    "\n",
    "\n",
    "\n",
    "    return setup_train_data, setup_train_label, setup_train_real_node_label, setup_train_CA_index_list, setup_train_total_atoms_length, \\\n",
    "setup_val_data, setup_val_label, setup_val_real_node_label, setup_val_CA_index_list, setup_val_total_atoms_length, \\\n",
    "setup_test_data, setup_test_label, setup_test_real_node_label, setup_test_CA_index_list, setup_test_total_atoms_length\n",
    "\n"
   ]
  },
  {
   "cell_type": "code",
   "execution_count": 33,
   "id": "7a083a62",
   "metadata": {},
   "outputs": [
    {
     "name": "stdout",
     "output_type": "stream",
     "text": [
      "Error in callback <bound method _WandbInit._resume_backend of <wandb.sdk.wandb_init._WandbInit object at 0x7f0392f3d700>> (for pre_run_cell), with arguments args (<ExecutionInfo object at 7f035a777c40, raw_cell=\"# start a new wandb run to track this script\n",
      "wandb..\" store_history=True silent=False shell_futures=True cell_id=None>,),kwargs {}:\n"
     ]
    },
    {
     "ename": "TypeError",
     "evalue": "_resume_backend() takes 1 positional argument but 2 were given",
     "output_type": "error",
     "traceback": [
      "\u001b[0;31m---------------------------------------------------------------------------\u001b[0m",
      "\u001b[0;31mTypeError\u001b[0m                                 Traceback (most recent call last)",
      "\u001b[0;31mTypeError\u001b[0m: _resume_backend() takes 1 positional argument but 2 were given"
     ]
    },
    {
     "data": {
      "text/html": [
       "Finishing last run (ID:xgvwkbky) before initializing another..."
      ],
      "text/plain": [
       "<IPython.core.display.HTML object>"
      ]
     },
     "metadata": {},
     "output_type": "display_data"
    },
    {
     "data": {
      "text/html": [
       "Waiting for W&B process to finish... <strong style=\"color:green\">(success).</strong>"
      ],
      "text/plain": [
       "<IPython.core.display.HTML object>"
      ]
     },
     "metadata": {},
     "output_type": "display_data"
    },
    {
     "data": {
      "application/vnd.jupyter.widget-view+json": {
       "model_id": "11e0c327a9f04a14ab8b30917cd97c1d",
       "version_major": 2,
       "version_minor": 0
      },
      "text/plain": [
       "VBox(children=(Label(value='0.004 MB of 0.004 MB uploaded (0.000 MB deduped)\\r'), FloatProgress(value=1.0, max…"
      ]
     },
     "metadata": {},
     "output_type": "display_data"
    },
    {
     "data": {
      "text/html": [
       " View run <strong style=\"color:#cdcd00\">batchsize=1, final </strong> at: <a href='https://wandb.ai/transmembrane-topology/DL_tmp/runs/xgvwkbky' target=\"_blank\">https://wandb.ai/transmembrane-topology/DL_tmp/runs/xgvwkbky</a><br/>Synced 6 W&B file(s), 0 media file(s), 0 artifact file(s) and 0 other file(s)"
      ],
      "text/plain": [
       "<IPython.core.display.HTML object>"
      ]
     },
     "metadata": {},
     "output_type": "display_data"
    },
    {
     "data": {
      "text/html": [
       "Find logs at: <code>./wandb/run-20231219_085321-xgvwkbky/logs</code>"
      ],
      "text/plain": [
       "<IPython.core.display.HTML object>"
      ]
     },
     "metadata": {},
     "output_type": "display_data"
    },
    {
     "data": {
      "text/html": [
       "Successfully finished last run (ID:xgvwkbky). Initializing new run:<br/>"
      ],
      "text/plain": [
       "<IPython.core.display.HTML object>"
      ]
     },
     "metadata": {},
     "output_type": "display_data"
    },
    {
     "data": {
      "application/vnd.jupyter.widget-view+json": {
       "model_id": "63715a9abe50444ca45f7270ec197fc6",
       "version_major": 2,
       "version_minor": 0
      },
      "text/plain": [
       "VBox(children=(Label(value='Waiting for wandb.init()...\\r'), FloatProgress(value=0.011112938397046593, max=1.0…"
      ]
     },
     "metadata": {},
     "output_type": "display_data"
    },
    {
     "data": {
      "text/html": [
       "wandb version 0.16.1 is available!  To upgrade, please run:\n",
       " $ pip install wandb --upgrade"
      ],
      "text/plain": [
       "<IPython.core.display.HTML object>"
      ]
     },
     "metadata": {},
     "output_type": "display_data"
    },
    {
     "data": {
      "text/html": [
       "Tracking run with wandb version 0.15.12"
      ],
      "text/plain": [
       "<IPython.core.display.HTML object>"
      ]
     },
     "metadata": {},
     "output_type": "display_data"
    },
    {
     "data": {
      "text/html": [
       "Run data is saved locally in <code>/work3/s194408/Project/schnet_CAcarbon/wandb/run-20231219_085339-93t5ync8</code>"
      ],
      "text/plain": [
       "<IPython.core.display.HTML object>"
      ]
     },
     "metadata": {},
     "output_type": "display_data"
    },
    {
     "data": {
      "text/html": [
       "Syncing run <strong><a href='https://wandb.ai/transmembrane-topology/DL_tmp/runs/93t5ync8' target=\"_blank\">batchsize=1, final </a></strong> to <a href='https://wandb.ai/transmembrane-topology/DL_tmp' target=\"_blank\">Weights & Biases</a> (<a href='https://wandb.me/run' target=\"_blank\">docs</a>)<br/>"
      ],
      "text/plain": [
       "<IPython.core.display.HTML object>"
      ]
     },
     "metadata": {},
     "output_type": "display_data"
    },
    {
     "data": {
      "text/html": [
       " View project at <a href='https://wandb.ai/transmembrane-topology/DL_tmp' target=\"_blank\">https://wandb.ai/transmembrane-topology/DL_tmp</a>"
      ],
      "text/plain": [
       "<IPython.core.display.HTML object>"
      ]
     },
     "metadata": {},
     "output_type": "display_data"
    },
    {
     "data": {
      "text/html": [
       " View run at <a href='https://wandb.ai/transmembrane-topology/DL_tmp/runs/93t5ync8' target=\"_blank\">https://wandb.ai/transmembrane-topology/DL_tmp/runs/93t5ync8</a>"
      ],
      "text/plain": [
       "<IPython.core.display.HTML object>"
      ]
     },
     "metadata": {},
     "output_type": "display_data"
    }
   ],
   "source": [
    "# start a new wandb run to track this script\n",
    "wandb.init(\n",
    "    # set the wandb project where this run will be logged\n",
    "    project=\"DL_tmp\", #项目名称\n",
    "    entity=\"transmembrane-topology\", # 用户名\n",
    "    group=\"CA carbon, CV setup 1\", # 对比实验分组\n",
    "    name= \"batchsize=1, final \", #实验的名字\n",
    "    # track hyperparameters and run metadata\n",
    "    config={\n",
    "    \"learning_rate\": 0.001,\n",
    "    \"architecture\": \"schnet\",\n",
    "    \"dataset\": \"protein 3D structures \",\n",
    "    \"epochs\":100,\n",
    "    'batch_size':1,\n",
    "    'hidden_channels' :128,\n",
    "    'weight_decay': 1e-4\n",
    "    }\n",
    ")\n",
    "sns.set_style(\"whitegrid\")"
   ]
  },
  {
   "cell_type": "code",
   "execution_count": 34,
   "id": "e41b3a8e",
   "metadata": {},
   "outputs": [],
   "source": [
    "device = torch.device('cuda' if torch.cuda.is_available() else 'cpu')\n",
    "max_len=max(train_max_len,val_max_len,test_SP_TM_max_len,test_TM_max_len,test_BETA_max_len)+1 #StaticEmbedding need max_len\n",
    "# put model to GPU\n",
    "model = SchNetModel(hidden_channels=128, out_dim=6, max_len=30000).to(device)\n",
    "criterion = nn.CrossEntropyLoss()\n",
    "optimizer = optim.Adam(model.parameters(), lr=0.001,weight_decay=1e-4)\n",
    "scheduler = optim.lr_scheduler.ExponentialLR(optimizer, gamma=0.2) # Learning schedule added\n",
    "\n",
    "\n",
    "# implement EarlyStopping: https://stackoverflow.com/questions/71998978/early-stopping-in-pytorch\n",
    "class EarlyStopper:\n",
    "    def __init__(self, patience=1, min_delta=0):\n",
    "        self.patience = patience\n",
    "        self.min_delta = min_delta\n",
    "        self.counter = 0\n",
    "        self.min_validation_loss = float('inf')\n",
    "\n",
    "    def early_stop(self, validation_loss):\n",
    "        if validation_loss < self.min_validation_loss:\n",
    "            self.min_validation_loss = validation_loss\n",
    "            self.counter = 0\n",
    "        elif validation_loss > (self.min_validation_loss + self.min_delta):\n",
    "            self.counter += 1\n",
    "            if self.counter >= self.patience:\n",
    "                return True\n",
    "        elif validation_loss == self.min_validation_loss:\n",
    "            self.counter += 1\n",
    "            if self.counter >= self.patience:\n",
    "                return True\n",
    "                \n",
    "        return False"
   ]
  },
  {
   "cell_type": "code",
   "execution_count": 35,
   "id": "e8d3bedf",
   "metadata": {},
   "outputs": [],
   "source": [
    "# Try a torch implementation of Gaussian smoothing\n",
    "# from: https://discuss.pytorch.org/t/is-there-anyway-to-do-gaussian-filtering-for-an-image-2d-3d-in-pytorch/12351/10\n",
    "import math\n",
    "import numbers\n",
    "import torch\n",
    "from torch import nn\n",
    "from torch.nn import functional as F\n",
    "\n",
    "class GaussianSmoothing(nn.Module):\n",
    "    \"\"\"\n",
    "    Apply gaussian smoothing on a\n",
    "    1d, 2d or 3d tensor. Filtering is performed seperately for each channel\n",
    "    in the input using a depthwise convolution.\n",
    "    Arguments:\n",
    "        channels (int, sequence): Number of channels of the input tensors. Output will\n",
    "            have this number of channels as well.\n",
    "        kernel_size (int, sequence): Size of the gaussian kernel.\n",
    "        sigma (float, sequence): Standard deviation of the gaussian kernel.\n",
    "        dim (int, optional): The number of dimensions of the data.\n",
    "            Default value is 2 (spatial).\n",
    "    \"\"\"\n",
    "    def __init__(self, channels, kernel_size, sigma, dim=2):\n",
    "        super(GaussianSmoothing, self).__init__()\n",
    "        if isinstance(kernel_size, numbers.Number):\n",
    "            kernel_size = [kernel_size] * dim\n",
    "        if isinstance(sigma, numbers.Number):\n",
    "            sigma = [sigma] * dim\n",
    "\n",
    "        # The gaussian kernel is the product of the\n",
    "        # gaussian function of each dimension.\n",
    "        kernel = 1\n",
    "        meshgrids = torch.meshgrid(\n",
    "            [\n",
    "                torch.arange(size, dtype=torch.float32)\n",
    "                for size in kernel_size\n",
    "            ]\n",
    "        )\n",
    "        for size, std, mgrid in zip(kernel_size, sigma, meshgrids):\n",
    "            mean = (size - 1) / 2\n",
    "            kernel *= 1 / (std * math.sqrt(2 * math.pi)) * \\\n",
    "                      torch.exp(-((mgrid - mean) / std) ** 2 / 2)\n",
    "\n",
    "        # Make sure sum of values in gaussian kernel equals 1.\n",
    "        kernel = kernel / torch.sum(kernel)\n",
    "\n",
    "        # Reshape to depthwise convolutional weight\n",
    "        kernel = kernel.view(1, 1, *kernel.size())\n",
    "        kernel = kernel.repeat(channels, *[1] * (kernel.dim() - 1))\n",
    "\n",
    "        self.register_buffer('weight', kernel)\n",
    "        self.groups = channels\n",
    "\n",
    "        if dim == 1:\n",
    "            self.conv = F.conv1d\n",
    "        elif dim == 2:\n",
    "            self.conv = F.conv2d\n",
    "        elif dim == 3:\n",
    "            self.conv = F.conv3d\n",
    "        else:\n",
    "            raise RuntimeError(\n",
    "                'Only 1, 2 and 3 dimensions are supported. Received {}.'.format(dim)\n",
    "            )\n",
    "\n",
    "    def forward(self, input):\n",
    "        \"\"\"\n",
    "        Apply gaussian filter to input.\n",
    "        Arguments:\n",
    "            input (torch.Tensor): Input to apply gaussian filter on.\n",
    "        Returns:\n",
    "            filtered (torch.Tensor): Filtered output.\n",
    "        \"\"\"\n",
    "        return self.conv(input, weight=self.weight, groups=self.groups)\n",
    "\n",
    "\n",
    "# smoothing = GaussianSmoothing(3, 5, 1)\n",
    "# input = torch.rand(1, 3, 100, 100)\n",
    "# input = F.pad(input, (2, 2, 2, 2), mode='reflect')\n",
    "# output = smoothing(input)\n",
    "\n",
    "\n",
    "#smoothing = GaussianSmoothing(1, 7, 1)\n",
    "# predicted = torch.reshape(prediction.to('cpu'), (1, 1, prediction.shape[1], prediction.shape[0]))\n",
    "# predicted = F.pad(predicted, (3, 3, 3, 3), mode='reflect')\n",
    "# predicted = smoothing(predicted)\n",
    "# output = torch.reshape(predicted, (prediction.shape[0], prediction.shape[1]))\n",
    "\n",
    "\n",
    "# >>> t4d = torch.empty(3, 3, 4, 2)\n",
    "# >>> p1d = (1, 1) # pad last dim by 1 on each side\n",
    "# >>> out = F.pad(t4d, p1d, \"reflect\", 0)\n",
    "#print(input.shape)"
   ]
  },
  {
   "cell_type": "code",
   "execution_count": 36,
   "id": "4b469860",
   "metadata": {},
   "outputs": [],
   "source": [
    "setup_train_data, setup_train_label, setup_train_real_node_label, setup_train_CA_index_list, setup_train_total_atoms_length, \\\n",
    "setup_val_data, setup_val_label, setup_val_real_node_label, setup_val_CA_index_list, setup_val_total_atoms_length, \\\n",
    "setup_test_data, setup_test_label, setup_test_real_node_label, setup_test_CA_index_list, setup_test_total_atoms_length = make_splits(cv0_lis, cv1_lis, cv2_lis, cv3_lis, cv4_lis, \"setup 1\")\n"
   ]
  },
  {
   "cell_type": "code",
   "execution_count": 37,
   "id": "dc2eaf53-7d2e-43fb-9081-a0c731608cde",
   "metadata": {},
   "outputs": [
    {
     "name": "stdout",
     "output_type": "stream",
     "text": [
      "EPOCH:0:Train Loss:0.903601235057677 Train Atom Level Accuracy:0.6265429060127933 Train Node Level Accuracy:0.6266947950766494\n",
      "EPOCH:0:Val Loss:0.8557807619429447 Val Atom Level Accuracy:0.6272673549601155 Val Node Level Accuracy:0.6269223954745543\n",
      "EPOCH:1:Train Loss:0.8371212714761986 Train Atom Level Accuracy:0.6310799857964062 Train Node Level Accuracy:0.6306793892077948\n",
      "EPOCH:1:Val Loss:0.831290632867339 Val Atom Level Accuracy:0.6335279668421813 Val Node Level Accuracy:0.6334522929356236\n",
      "EPOCH:2:Train Loss:0.8145043028104344 Train Atom Level Accuracy:0.6336785653762507 Train Node Level Accuracy:0.6331101283818757\n",
      "EPOCH:2:Val Loss:0.8109321802939203 Val Atom Level Accuracy:0.6345779199683595 Val Node Level Accuracy:0.6346411643756547\n",
      "EPOCH:3:Train Loss:0.8007440353412274 Train Atom Level Accuracy:0.6355241823558436 Train Node Level Accuracy:0.6348288479912596\n",
      "EPOCH:3:Val Loss:0.7887811107899655 Val Atom Level Accuracy:0.6370929715537428 Val Node Level Accuracy:0.6369196697595819\n",
      "EPOCH:4:Train Loss:0.7919547688732642 Train Atom Level Accuracy:0.6371121947018467 Train Node Level Accuracy:0.6361756258841846\n",
      "EPOCH:4:Val Loss:0.7805254510603845 Val Atom Level Accuracy:0.6379162819831912 Val Node Level Accuracy:0.6376946777335252\n",
      "EPOCH:5:Train Loss:0.7853180166521316 Train Atom Level Accuracy:0.6381505608490275 Train Node Level Accuracy:0.6371491227314354\n",
      "EPOCH:5:Val Loss:0.7771260339174081 Val Atom Level Accuracy:0.6379570691519578 Val Node Level Accuracy:0.6378468144451466\n",
      "EPOCH:6:Train Loss:0.779303544688292 Train Atom Level Accuracy:0.6392789289664981 Train Node Level Accuracy:0.6381209262029205\n",
      "EPOCH:6:Val Loss:0.7679140030787411 Val Atom Level Accuracy:0.6383633676899053 Val Node Level Accuracy:0.6381861968713577\n",
      "EPOCH:7:Train Loss:0.7740855002009538 Train Atom Level Accuracy:0.6404762400782773 Train Node Level Accuracy:0.6392195366900911\n",
      "EPOCH:7:Val Loss:0.7634903986260972 Val Atom Level Accuracy:0.6385955971716311 Val Node Level Accuracy:0.638273066462789\n",
      "EPOCH:8:Train Loss:0.7695566159482568 Train Atom Level Accuracy:0.6414519361626221 Train Node Level Accuracy:0.6399692798515585\n",
      "EPOCH:8:Val Loss:0.7579490431711416 Val Atom Level Accuracy:0.6389123941796103 Val Node Level Accuracy:0.638591256496778\n",
      "EPOCH:9:Train Loss:0.7652020203391879 Train Atom Level Accuracy:0.6423779824389091 Train Node Level Accuracy:0.6407562680755645\n",
      "EPOCH:9:Val Loss:0.7548984826796434 Val Atom Level Accuracy:0.6388135359655684 Val Node Level Accuracy:0.6383997265595341\n",
      "EPOCH:10:Train Loss:0.7615637175973503 Train Atom Level Accuracy:0.6434067532340829 Train Node Level Accuracy:0.6415993891651542\n",
      "EPOCH:10:Val Loss:0.7516565648203885 Val Atom Level Accuracy:0.6392991594756192 Val Node Level Accuracy:0.6387693350211997\n",
      "EPOCH:11:Train Loss:0.7581276415825787 Train Atom Level Accuracy:0.6447593945414195 Train Node Level Accuracy:0.6430388951371582\n",
      "EPOCH:11:Val Loss:0.7495757544794205 Val Atom Level Accuracy:0.6395513107531077 Val Node Level Accuracy:0.6387823819011821\n",
      "EPOCH:12:Train Loss:0.7550693673353606 Train Atom Level Accuracy:0.6458755439944681 Train Node Level Accuracy:0.6442748151517026\n",
      "EPOCH:12:Val Loss:0.745567644840445 Val Atom Level Accuracy:0.639878682789521 Val Node Level Accuracy:0.6390206103905013\n",
      "EPOCH:13:Train Loss:0.7517378224339293 Train Atom Level Accuracy:0.6471957847307682 Train Node Level Accuracy:0.6452090120701317\n",
      "EPOCH:13:Val Loss:0.743498005142266 Val Atom Level Accuracy:0.6403903782287684 Val Node Level Accuracy:0.6396110085321741\n",
      "EPOCH:14:Train Loss:0.7489786990368709 Train Atom Level Accuracy:0.6482276661522092 Train Node Level Accuracy:0.6458345147565268\n",
      "EPOCH:14:Val Loss:0.7406579719602384 Val Atom Level Accuracy:0.6404878593492281 Val Node Level Accuracy:0.6395077301065268\n",
      "EPOCH:15:Train Loss:0.7464134898903676 Train Atom Level Accuracy:0.6496889081013029 Train Node Level Accuracy:0.6473859761750647\n",
      "EPOCH:15:Val Loss:0.7386170182250101 Val Atom Level Accuracy:0.6409263211162333 Val Node Level Accuracy:0.6400862381074698\n",
      "EPOCH:16:Train Loss:0.7435061384463568 Train Atom Level Accuracy:0.6508782460527006 Train Node Level Accuracy:0.6484471851466217\n",
      "EPOCH:16:Val Loss:0.737165423639288 Val Atom Level Accuracy:0.6410082119101422 Val Node Level Accuracy:0.6401875332907834\n",
      "EPOCH:17:Train Loss:0.7402466925296304 Train Atom Level Accuracy:0.6533052465608504 Train Node Level Accuracy:0.6509170573499264\n",
      "EPOCH:17:Val Loss:0.732379762603986 Val Atom Level Accuracy:0.6429180922973928 Val Node Level Accuracy:0.6416617809396975\n",
      "EPOCH:18:Train Loss:0.7353714479594988 Train Atom Level Accuracy:0.6608932636999489 Train Node Level Accuracy:0.6588870684713052\n",
      "EPOCH:18:Val Loss:0.7264917058954862 Val Atom Level Accuracy:0.6690842241133557 Val Node Level Accuracy:0.6678310123025142\n",
      "EPOCH:19:Train Loss:0.7223004309130376 Train Atom Level Accuracy:0.6737920053930814 Train Node Level Accuracy:0.6717135194974325\n",
      "EPOCH:19:Val Loss:0.7064544516827234 Val Atom Level Accuracy:0.6732116229540742 Val Node Level Accuracy:0.6719013509435748\n",
      "EPOCH:20:Train Loss:0.7176117633478598 Train Atom Level Accuracy:0.6771055816938261 Train Node Level Accuracy:0.6750087600808147\n",
      "EPOCH:20:Val Loss:0.712312865134498 Val Atom Level Accuracy:0.6759648740090429 Val Node Level Accuracy:0.6750486941100443\n",
      "EPOCH:21:Train Loss:0.7127448577533656 Train Atom Level Accuracy:0.6814333641473571 Train Node Level Accuracy:0.6790443786524\n",
      "EPOCH:21:Val Loss:0.6982094736515798 Val Atom Level Accuracy:0.6876013592839836 Val Node Level Accuracy:0.6864230492193477\n",
      "EPOCH:22:Train Loss:0.7098884621471321 Train Atom Level Accuracy:0.6838398084961962 Train Node Level Accuracy:0.6814239203784533\n",
      "EPOCH:22:Val Loss:0.6971357808956369 Val Atom Level Accuracy:0.6949271312273969 Val Node Level Accuracy:0.6938640012778883\n",
      "EPOCH:23:Train Loss:0.7073410641897661 Train Atom Level Accuracy:0.6858097075644891 Train Node Level Accuracy:0.6829687077272795\n",
      "EPOCH:23:Val Loss:0.693615201797167 Val Atom Level Accuracy:0.6967403450234326 Val Node Level Accuracy:0.6949984761973291\n",
      "EPOCH:24:Train Loss:0.7047036668547566 Train Atom Level Accuracy:0.6885180216136882 Train Node Level Accuracy:0.6858304673570265\n",
      "EPOCH:24:Val Loss:0.6935644343664701 Val Atom Level Accuracy:0.697010696073393 Val Node Level Accuracy:0.695304403281062\n",
      "EPOCH:25:Train Loss:0.7035286363527761 Train Atom Level Accuracy:0.688767259866487 Train Node Level Accuracy:0.6860597083852757\n",
      "EPOCH:25:Val Loss:0.6932900372299958 Val Atom Level Accuracy:0.6934230385396801 Val Node Level Accuracy:0.6912499388497264\n"
     ]
    },
    {
     "name": "stderr",
     "output_type": "stream",
     "text": [
      "wandb: Network error (ReadTimeout), entering retry loop.\n"
     ]
    },
    {
     "name": "stdout",
     "output_type": "stream",
     "text": [
      "EPOCH:26:Train Loss:0.6998031620736631 Train Atom Level Accuracy:0.6914823926914709 Train Node Level Accuracy:0.6884467447761281\n",
      "EPOCH:26:Val Loss:0.6852148930034176 Val Atom Level Accuracy:0.6986496288127196 Val Node Level Accuracy:0.6976597255046421\n",
      "EPOCH:27:Train Loss:0.6981098412991018 Train Atom Level Accuracy:0.6933694744190119 Train Node Level Accuracy:0.6901969525311146\n",
      "EPOCH:27:Val Loss:0.6888064720286903 Val Atom Level Accuracy:0.6963573954113219 Val Node Level Accuracy:0.6946596307197944\n",
      "EPOCH:28:Train Loss:0.6957268174483735 Train Atom Level Accuracy:0.6952393554755054 Train Node Level Accuracy:0.6919201915619639\n",
      "EPOCH:28:Val Loss:0.6836303860287775 Val Atom Level Accuracy:0.7009382466610987 Val Node Level Accuracy:0.699075218545074\n",
      "EPOCH:29:Train Loss:0.6921553469118962 Train Atom Level Accuracy:0.6980986310954198 Train Node Level Accuracy:0.694819484828585\n",
      "EPOCH:29:Val Loss:0.6823673702099107 Val Atom Level Accuracy:0.702300488957258 Val Node Level Accuracy:0.6996099352337781\n",
      "EPOCH:30:Train Loss:0.6899806330279111 Train Atom Level Accuracy:0.7001340331118965 Train Node Level Accuracy:0.6969440080780838\n",
      "EPOCH:30:Val Loss:0.6777776122220199 Val Atom Level Accuracy:0.7073939618674139 Val Node Level Accuracy:0.7042157196740404\n",
      "EPOCH:31:Train Loss:0.6863525000518624 Train Atom Level Accuracy:0.7030879033749884 Train Node Level Accuracy:0.6998305472793026\n",
      "EPOCH:31:Val Loss:0.6673146052370694 Val Atom Level Accuracy:0.7165446843224331 Val Node Level Accuracy:0.7125747397794973\n",
      "EPOCH:32:Train Loss:0.6845463315015339 Train Atom Level Accuracy:0.704640676872221 Train Node Level Accuracy:0.7014296796868799\n",
      "EPOCH:32:Val Loss:0.6645985799841583 Val Atom Level Accuracy:0.7176639593431666 Val Node Level Accuracy:0.714218324916637\n",
      "EPOCH:33:Train Loss:0.682715619102884 Train Atom Level Accuracy:0.7064116821065116 Train Node Level Accuracy:0.7031129413674386\n",
      "EPOCH:33:Val Loss:0.6610451858194376 Val Atom Level Accuracy:0.7199944170339502 Val Node Level Accuracy:0.7159146560595396\n",
      "EPOCH:34:Train Loss:0.6810329101198594 Train Atom Level Accuracy:0.7079287744608169 Train Node Level Accuracy:0.7046004878682621\n",
      "EPOCH:34:Val Loss:0.6577497713733464 Val Atom Level Accuracy:0.7239045164734956 Val Node Level Accuracy:0.7199756174642179\n",
      "EPOCH:35:Train Loss:0.6783064691762326 Train Atom Level Accuracy:0.7097290136028752 Train Node Level Accuracy:0.7064371487584893\n",
      "EPOCH:35:Val Loss:0.6574476362968033 Val Atom Level Accuracy:0.7238536777786706 Val Node Level Accuracy:0.7205804008213191\n",
      "EPOCH:36:Train Loss:0.6768363680100296 Train Atom Level Accuracy:0.7109530724757852 Train Node Level Accuracy:0.7077276454591223\n",
      "EPOCH:36:Val Loss:0.6544990316456691 Val Atom Level Accuracy:0.7260400725139454 Val Node Level Accuracy:0.7218761818429997\n",
      "EPOCH:37:Train Loss:0.6747193820371726 Train Atom Level Accuracy:0.712565815921775 Train Node Level Accuracy:0.7093182126516793\n",
      "EPOCH:37:Val Loss:0.6514407803135162 Val Atom Level Accuracy:0.729348903932659 Val Node Level Accuracy:0.7250025532986214\n",
      "EPOCH:38:Train Loss:0.6733144119164728 Train Atom Level Accuracy:0.7135579530471299 Train Node Level Accuracy:0.7099943779789645\n",
      "EPOCH:38:Val Loss:0.6498770438219336 Val Atom Level Accuracy:0.73192397740963 Val Node Level Accuracy:0.7275250676714127\n",
      "EPOCH:39:Train Loss:0.6713007017304542 Train Atom Level Accuracy:0.7145320779739998 Train Node Level Accuracy:0.7110843354705024\n",
      "EPOCH:39:Val Loss:0.6482179777442731 Val Atom Level Accuracy:0.7318282363335844 Val Node Level Accuracy:0.7280276432423324\n",
      "EPOCH:40:Train Loss:0.6702453954557774 Train Atom Level Accuracy:0.7150352570875699 Train Node Level Accuracy:0.7115476104081774\n",
      "EPOCH:40:Val Loss:0.6463929764630104 Val Atom Level Accuracy:0.7338711617851875 Val Node Level Accuracy:0.7300210445470259\n",
      "EPOCH:41:Train Loss:0.6685666446190908 Train Atom Level Accuracy:0.7161520962114686 Train Node Level Accuracy:0.7125942919605253\n",
      "EPOCH:41:Val Loss:0.6449523292354901 Val Atom Level Accuracy:0.7346833134146784 Val Node Level Accuracy:0.730518668657513\n",
      "EPOCH:42:Train Loss:0.6665050181904812 Train Atom Level Accuracy:0.7174016041861337 Train Node Level Accuracy:0.7138864920665509\n",
      "EPOCH:42:Val Loss:0.642796950774606 Val Atom Level Accuracy:0.735715166266838 Val Node Level Accuracy:0.7316572460623818\n",
      "EPOCH:43:Train Loss:0.6653878743176624 Train Atom Level Accuracy:0.7181251108867722 Train Node Level Accuracy:0.7146044800129665\n",
      "EPOCH:43:Val Loss:0.6418279935605824 Val Atom Level Accuracy:0.7360034962809643 Val Node Level Accuracy:0.7313851361631157\n",
      "EPOCH:44:Train Loss:0.6636251557108713 Train Atom Level Accuracy:0.7186646250841573 Train Node Level Accuracy:0.7153336191779328\n",
      "EPOCH:44:Val Loss:0.6410128109749745 Val Atom Level Accuracy:0.7366803882423671 Val Node Level Accuracy:0.7317923492017947\n",
      "EPOCH:45:Train Loss:0.6626100487373051 Train Atom Level Accuracy:0.7193582943409141 Train Node Level Accuracy:0.7159117660790085\n",
      "EPOCH:45:Val Loss:0.640806719258597 Val Atom Level Accuracy:0.7363509698671212 Val Node Level Accuracy:0.7311936122897542\n",
      "EPOCH:46:Train Loss:0.6618791152199894 Train Atom Level Accuracy:0.7198506689820862 Train Node Level Accuracy:0.7164770701836599\n",
      "EPOCH:46:Val Loss:0.6389266495508227 Val Atom Level Accuracy:0.7373885114543474 Val Node Level Accuracy:0.732098755668573\n",
      "EPOCH:47:Train Loss:0.621837291332355 Train Atom Level Accuracy:0.7394846075404912 Train Node Level Accuracy:0.7356069067857365\n",
      "EPOCH:47:Val Loss:0.6311626480680637 Val Atom Level Accuracy:0.74279864396183 Val Node Level Accuracy:0.7382532677047545\n",
      "EPOCH:48:Train Loss:0.608657523057917 Train Atom Level Accuracy:0.7464775237208033 Train Node Level Accuracy:0.742812661959379\n",
      "EPOCH:48:Val Loss:0.6258970826906576 Val Atom Level Accuracy:0.7448939443773774 Val Node Level Accuracy:0.7406171259628678\n",
      "EPOCH:49:Train Loss:0.6046900215195724 Train Atom Level Accuracy:0.7485140579104842 Train Node Level Accuracy:0.7449377681219504\n",
      "EPOCH:49:Val Loss:0.6236580444118854 Val Atom Level Accuracy:0.7452084841249195 Val Node Level Accuracy:0.7402392760505858\n",
      "EPOCH:50:Train Loss:0.6035434766258776 Train Atom Level Accuracy:0.7491316131161654 Train Node Level Accuracy:0.7455113449853887\n",
      "EPOCH:50:Val Loss:0.6236062124371529 Val Atom Level Accuracy:0.7452276711260789 Val Node Level Accuracy:0.74044986742848\n",
      "EPOCH:51:Train Loss:0.6033247813834626 Train Atom Level Accuracy:0.7492360992941073 Train Node Level Accuracy:0.7456071170305842\n",
      "EPOCH:51:Val Loss:0.6236011333001609 Val Atom Level Accuracy:0.7452486937187159 Val Node Level Accuracy:0.7404749006325123\n",
      "EPOCH:52:Train Loss:0.6032805543587305 Train Atom Level Accuracy:0.7492559523730825 Train Node Level Accuracy:0.7456182928129348\n",
      "EPOCH:52:Val Loss:0.6236002108674835 Val Atom Level Accuracy:0.7452533386682237 Val Node Level Accuracy:0.7404849323788864\n",
      "EPOCH:53:Train Loss:0.6032715746927104 Train Atom Level Accuracy:0.7492579866376212 Train Node Level Accuracy:0.7456238898752143\n",
      "EPOCH:53:Val Loss:0.6236002536871555 Val Atom Level Accuracy:0.7452523561887365 Val Node Level Accuracy:0.7404795477496798\n",
      "EPOCH:54:Train Loss:0.6032704817412267 Train Atom Level Accuracy:0.7492584381053471 Train Node Level Accuracy:0.7456236543779181\n",
      "EPOCH:54:Val Loss:0.6236002438659356 Val Atom Level Accuracy:0.7452523561887365 Val Node Level Accuracy:0.7404795477496798\n",
      "EPOCH:55:Train Loss:0.6032703912869046 Train Atom Level Accuracy:0.7492582231088819 Train Node Level Accuracy:0.7456236543779181\n",
      "EPOCH:55:Val Loss:0.6236002402464774 Val Atom Level Accuracy:0.7452523561887365 Val Node Level Accuracy:0.7404795477496798\n",
      "EPOCH:56:Train Loss:0.6032703852935133 Train Atom Level Accuracy:0.7492583979959107 Train Node Level Accuracy:0.7456242312438631\n",
      "EPOCH:56:Val Loss:0.6236002428076145 Val Atom Level Accuracy:0.7452523561887365 Val Node Level Accuracy:0.7404795477496798\n",
      "EPOCH:57:Train Loss:0.6032703853705762 Train Atom Level Accuracy:0.7492581377829753 Train Node Level Accuracy:0.7456236543779181\n",
      "EPOCH:57:Val Loss:0.6236002420032905 Val Atom Level Accuracy:0.7452523561887365 Val Node Level Accuracy:0.7404795477496798\n",
      "EPOCH:58:Train Loss:0.6032703848416445 Train Atom Level Accuracy:0.7492581377829753 Train Node Level Accuracy:0.7456236543779181\n",
      "EPOCH:58:Val Loss:0.6236002421091226 Val Atom Level Accuracy:0.7452523561887365 Val Node Level Accuracy:0.7404795477496798\n"
     ]
    },
    {
     "name": "stdout",
     "output_type": "stream",
     "text": [
      "EPOCH:59:Train Loss:0.6032703836716897 Train Atom Level Accuracy:0.7492582107303368 Train Node Level Accuracy:0.7456242312438631\n",
      "EPOCH:59:Val Loss:0.6236002407121387 Val Atom Level Accuracy:0.7452523561887365 Val Node Level Accuracy:0.7404795477496798\n",
      "EPOCH:60:Train Loss:0.6032703862077594 Train Atom Level Accuracy:0.7492582960562435 Train Node Level Accuracy:0.7456242312438631\n",
      "EPOCH:60:Val Loss:0.6236002442469313 Val Atom Level Accuracy:0.7452523561887365 Val Node Level Accuracy:0.7404795477496798\n",
      "EPOCH:61:Train Loss:0.603270385300519 Train Atom Level Accuracy:0.7492583250485492 Train Node Level Accuracy:0.7456236543779181\n",
      "EPOCH:61:Val Loss:0.6236002408814701 Val Atom Level Accuracy:0.7452523561887365 Val Node Level Accuracy:0.7404795477496798\n",
      "EPOCH:62:Train Loss:0.6032703835490897 Train Atom Level Accuracy:0.7492581377829753 Train Node Level Accuracy:0.7456236543779181\n",
      "EPOCH:62:Val Loss:0.6236002423207868 Val Atom Level Accuracy:0.7452523561887365 Val Node Level Accuracy:0.7404795477496798\n",
      "EPOCH:63:Train Loss:0.6032703857348736 Train Atom Level Accuracy:0.7492582397226426 Train Node Level Accuracy:0.7456236543779181\n",
      "EPOCH:63:Val Loss:0.62360024348494 Val Atom Level Accuracy:0.7452523561887365 Val Node Level Accuracy:0.7404795477496798\n",
      "EPOCH:64:Train Loss:0.6032703854441362 Train Atom Level Accuracy:0.7492581377829753 Train Node Level Accuracy:0.7456236543779181\n",
      "EPOCH:64:Val Loss:0.6236002446279268 Val Atom Level Accuracy:0.7452523561887365 Val Node Level Accuracy:0.7404795477496798\n",
      "EPOCH:65:Train Loss:0.6032703847435645 Train Atom Level Accuracy:0.7492583250485492 Train Node Level Accuracy:0.7456236543779181\n",
      "EPOCH:65:Val Loss:0.6236002426382832 Val Atom Level Accuracy:0.7452523561887365 Val Node Level Accuracy:0.7404795477496798\n",
      "EPOCH:66:Train Loss:0.6032703855912563 Train Atom Level Accuracy:0.7492583979959107 Train Node Level Accuracy:0.7456242312438631\n",
      "EPOCH:66:Val Loss:0.6236002420667898 Val Atom Level Accuracy:0.7452523561887365 Val Node Level Accuracy:0.7404795477496798\n",
      "EPOCH:67:Train Loss:0.6032703838468326 Train Atom Level Accuracy:0.7492583979959107 Train Node Level Accuracy:0.7456242312438631\n",
      "EPOCH:67:Val Loss:0.6236002422149547 Val Atom Level Accuracy:0.7452523561887365 Val Node Level Accuracy:0.7404795477496798\n",
      "EPOCH:68:Train Loss:0.6032703853530619 Train Atom Level Accuracy:0.7492582397226426 Train Node Level Accuracy:0.7456236543779181\n",
      "EPOCH:68:Val Loss:0.623600242934613 Val Atom Level Accuracy:0.7452523561887365 Val Node Level Accuracy:0.7404795477496798\n",
      "EPOCH:69:Train Loss:0.6032703856858335 Train Atom Level Accuracy:0.7492583250485492 Train Node Level Accuracy:0.7456236543779181\n",
      "EPOCH:69:Val Loss:0.623600243633105 Val Atom Level Accuracy:0.7452523561887365 Val Node Level Accuracy:0.7404795477496798\n",
      "EPOCH:70:Train Loss:0.6032703852970162 Train Atom Level Accuracy:0.7492583250485492 Train Node Level Accuracy:0.7456236543779181\n",
      "EPOCH:70:Val Loss:0.6236002437389371 Val Atom Level Accuracy:0.7452523561887365 Val Node Level Accuracy:0.7404795477496798\n",
      "EPOCH:71:Train Loss:0.6032703854826676 Train Atom Level Accuracy:0.7492583250485492 Train Node Level Accuracy:0.7456236543779181\n",
      "EPOCH:71:Val Loss:0.623600241325965 Val Atom Level Accuracy:0.7452523561887365 Val Node Level Accuracy:0.7404795477496798\n",
      "EPOCH:72:Train Loss:0.6032703837977926 Train Atom Level Accuracy:0.7492583979959107 Train Node Level Accuracy:0.7456242312438631\n",
      "EPOCH:72:Val Loss:0.6236002436754379 Val Atom Level Accuracy:0.7452523561887365 Val Node Level Accuracy:0.7404795477496798\n",
      "EPOCH:73:Train Loss:0.6032703843652557 Train Atom Level Accuracy:0.7492583250485492 Train Node Level Accuracy:0.7456236543779181\n",
      "EPOCH:73:Val Loss:0.6236002438447692 Val Atom Level Accuracy:0.7452523561887365 Val Node Level Accuracy:0.7404795477496798\n",
      "EPOCH:74:Train Loss:0.6032703852199532 Train Atom Level Accuracy:0.7492582231088819 Train Node Level Accuracy:0.7456236543779181\n",
      "EPOCH:74:Val Loss:0.6236002439294349 Val Atom Level Accuracy:0.7452523561887365 Val Node Level Accuracy:0.7404795477496798\n",
      "EPOCH:75:Train Loss:0.603270384631473 Train Atom Level Accuracy:0.7492583250485492 Train Node Level Accuracy:0.7456236543779181\n",
      "EPOCH:75:Val Loss:0.6236002421091226 Val Atom Level Accuracy:0.7452523561887365 Val Node Level Accuracy:0.7404795477496798\n",
      "EPOCH:76:Train Loss:0.6032703841445757 Train Atom Level Accuracy:0.7492583250485492 Train Node Level Accuracy:0.7456236543779181\n",
      "EPOCH:76:Val Loss:0.6236002419186248 Val Atom Level Accuracy:0.7452523561887365 Val Node Level Accuracy:0.7404795477496798\n",
      "EPOCH:77:Train Loss:0.6032703854231191 Train Atom Level Accuracy:0.7492583250485492 Train Node Level Accuracy:0.7456236543779181\n",
      "EPOCH:77:Val Loss:0.623600242278454 Val Atom Level Accuracy:0.7452523561887365 Val Node Level Accuracy:0.7404795477496798\n",
      "EPOCH:78:Train Loss:0.6032703845053701 Train Atom Level Accuracy:0.7492583250485492 Train Node Level Accuracy:0.7456236543779181\n",
      "EPOCH:78:Val Loss:0.6236002407544716 Val Atom Level Accuracy:0.7452523561887365 Val Node Level Accuracy:0.7404795477496798\n",
      "EPOCH:79:Train Loss:0.6032703859730679 Train Atom Level Accuracy:0.7492582397226426 Train Node Level Accuracy:0.7456236543779181\n",
      "EPOCH:79:Val Loss:0.623600240225311 Val Atom Level Accuracy:0.7452523561887365 Val Node Level Accuracy:0.7404795477496798\n",
      "EPOCH:80:Train Loss:0.6032703841690956 Train Atom Level Accuracy:0.7492581377829753 Train Node Level Accuracy:0.7456236543779181\n",
      "EPOCH:80:Val Loss:0.6236002434214408 Val Atom Level Accuracy:0.7452523561887365 Val Node Level Accuracy:0.7404795477496798\n",
      "EPOCH:81:Train Loss:0.6032703846875188 Train Atom Level Accuracy:0.7492583250485492 Train Node Level Accuracy:0.7456236543779181\n",
      "EPOCH:81:Val Loss:0.6236002424477853 Val Atom Level Accuracy:0.7452523561887365 Val Node Level Accuracy:0.7404795477496798\n",
      "EPOCH:82:Train Loss:0.6032703840815242 Train Atom Level Accuracy:0.7492582397226426 Train Node Level Accuracy:0.7456236543779181\n",
      "EPOCH:82:Val Loss:0.6236002413471314 Val Atom Level Accuracy:0.7452523561887365 Val Node Level Accuracy:0.7404795477496798\n",
      "EPOCH:83:Train Loss:0.6032703860571366 Train Atom Level Accuracy:0.7492582231088819 Train Node Level Accuracy:0.7456236543779181\n",
      "EPOCH:83:Val Loss:0.6236002426382832 Val Atom Level Accuracy:0.7452523561887365 Val Node Level Accuracy:0.7404795477496798\n",
      "EPOCH:84:Train Loss:0.6032703856858335 Train Atom Level Accuracy:0.7492583250485492 Train Node Level Accuracy:0.7456236543779181\n",
      "EPOCH:84:Val Loss:0.6236002416857942 Val Atom Level Accuracy:0.7452523561887365 Val Node Level Accuracy:0.7404795477496798\n",
      "EPOCH:85:Train Loss:0.6032703847085359 Train Atom Level Accuracy:0.7492583250485492 Train Node Level Accuracy:0.7456236543779181\n",
      "EPOCH:85:Val Loss:0.6236002401406453 Val Atom Level Accuracy:0.7452523561887365 Val Node Level Accuracy:0.7404795477496798\n",
      "EPOCH:86:Train Loss:0.6032703858644793 Train Atom Level Accuracy:0.749258312670004 Train Node Level Accuracy:0.7456242312438631\n",
      "EPOCH:86:Val Loss:0.6236002429134466 Val Atom Level Accuracy:0.7452523561887365 Val Node Level Accuracy:0.7404795477496798\n",
      "EPOCH:87:Train Loss:0.6032703853670733 Train Atom Level Accuracy:0.7492581377829753 Train Node Level Accuracy:0.7456236543779181\n",
      "EPOCH:87:Val Loss:0.6236002395056527 Val Atom Level Accuracy:0.7452523561887365 Val Node Level Accuracy:0.7404795477496798\n",
      "EPOCH:88:Train Loss:0.6032703849572388 Train Atom Level Accuracy:0.7492583250485492 Train Node Level Accuracy:0.7456236543779181\n",
      "EPOCH:88:Val Loss:0.6236002408814701 Val Atom Level Accuracy:0.7452523561887365 Val Node Level Accuracy:0.7404795477496798\n",
      "EPOCH:89:Train Loss:0.6032703846524902 Train Atom Level Accuracy:0.7492583250485492 Train Node Level Accuracy:0.7456236543779181\n",
      "EPOCH:89:Val Loss:0.6236002450724217 Val Atom Level Accuracy:0.7452523561887365 Val Node Level Accuracy:0.7404795477496798\n",
      "EPOCH:90:Train Loss:0.603270384035987 Train Atom Level Accuracy:0.7492582231088819 Train Node Level Accuracy:0.7456236543779181\n",
      "EPOCH:90:Val Loss:0.6236002429134466 Val Atom Level Accuracy:0.7452523561887365 Val Node Level Accuracy:0.7404795477496798\n",
      "EPOCH:91:Train Loss:0.6032703847295531 Train Atom Level Accuracy:0.7492582231088819 Train Node Level Accuracy:0.7456236543779181\n",
      "EPOCH:91:Val Loss:0.623600241325965 Val Atom Level Accuracy:0.7452523561887365 Val Node Level Accuracy:0.7404795477496798\n"
     ]
    },
    {
     "name": "stdout",
     "output_type": "stream",
     "text": [
      "EPOCH:92:Train Loss:0.6032703844563301 Train Atom Level Accuracy:0.7492582397226426 Train Node Level Accuracy:0.7456236543779181\n",
      "EPOCH:92:Val Loss:0.6236002425959503 Val Atom Level Accuracy:0.7452523561887365 Val Node Level Accuracy:0.7404795477496798\n",
      "EPOCH:93:Train Loss:0.6032703848311359 Train Atom Level Accuracy:0.7492583250485492 Train Node Level Accuracy:0.7456236543779181\n",
      "EPOCH:93:Val Loss:0.6236002445220947 Val Atom Level Accuracy:0.7452523561887365 Val Node Level Accuracy:0.7404795477496798\n",
      "EPOCH:94:Train Loss:0.6032703863548795 Train Atom Level Accuracy:0.7492583250485492 Train Node Level Accuracy:0.7456236543779181\n",
      "EPOCH:94:Val Loss:0.6236002431674437 Val Atom Level Accuracy:0.7452523561887365 Val Node Level Accuracy:0.7404795477496798\n",
      "EPOCH:95:Train Loss:0.6032703851989362 Train Atom Level Accuracy:0.7492583250485492 Train Node Level Accuracy:0.7456236543779181\n",
      "EPOCH:95:Val Loss:0.6236002434002743 Val Atom Level Accuracy:0.7452523561887365 Val Node Level Accuracy:0.7404795477496798\n",
      "EPOCH:96:Train Loss:0.6032703853810848 Train Atom Level Accuracy:0.7492582397226426 Train Node Level Accuracy:0.7456236543779181\n",
      "EPOCH:96:Val Loss:0.6236002432944422 Val Atom Level Accuracy:0.7452523561887365 Val Node Level Accuracy:0.7404795477496798\n",
      "EPOCH:97:Train Loss:0.6032703830411751 Train Atom Level Accuracy:0.7492583250485492 Train Node Level Accuracy:0.7456236543779181\n",
      "EPOCH:97:Val Loss:0.6236002410719679 Val Atom Level Accuracy:0.7452523561887365 Val Node Level Accuracy:0.7404795477496798\n",
      "EPOCH:98:Train Loss:0.6032703858119364 Train Atom Level Accuracy:0.7492582397226426 Train Node Level Accuracy:0.7456236543779181\n",
      "EPOCH:98:Val Loss:0.6236002452205867 Val Atom Level Accuracy:0.7452523561887365 Val Node Level Accuracy:0.7404795477496798\n",
      "EPOCH:99:Train Loss:0.6032703851008561 Train Atom Level Accuracy:0.7492583250485492 Train Node Level Accuracy:0.7456236543779181\n",
      "EPOCH:99:Val Loss:0.6236002429557795 Val Atom Level Accuracy:0.7452523561887365 Val Node Level Accuracy:0.7404795477496798\n"
     ]
    },
    {
     "data": {
      "text/html": [
       "Waiting for W&B process to finish... <strong style=\"color:green\">(success).</strong>"
      ],
      "text/plain": [
       "<IPython.core.display.HTML object>"
      ]
     },
     "metadata": {},
     "output_type": "display_data"
    },
    {
     "data": {
      "text/html": [
       "<style>\n",
       "    table.wandb td:nth-child(1) { padding: 0 10px; text-align: left ; width: auto;} td:nth-child(2) {text-align: left ; width: 100%}\n",
       "    .wandb-row { display: flex; flex-direction: row; flex-wrap: wrap; justify-content: flex-start; width: 100% }\n",
       "    .wandb-col { display: flex; flex-direction: column; flex-basis: 100%; flex: 1; padding: 10px; }\n",
       "    </style>\n",
       "<div class=\"wandb-row\"><div class=\"wandb-col\"><h3>Run history:</h3><br/><table class=\"wandb\"><tr><td>global_step</td><td>▁▁▁▁▂▂▂▂▂▃▃▃▃▃▃▄▄▄▄▄▅▅▅▅▅▅▆▆▆▆▆▇▇▇▇▇▇███</td></tr><tr><td>train_atom_level_accuracy_epoch</td><td>▁▁▂▂▂▂▂▃▄▄▅▅▅▆▆▆▆▆▆█████████████████████</td></tr><tr><td>train_atom_level_accuracy_step</td><td>█▁▆█▃▅▇▁▇█▅█▁██▆███▇▇█▇▂▆█▂█▂▇▇▇▇▄█▅▇▅▅█</td></tr><tr><td>train_loss_epoch</td><td>█▆▅▅▅▅▄▄▄▃▃▃▃▃▃▃▃▂▂▁▁▁▁▁▁▁▁▁▁▁▁▁▁▁▁▁▁▁▁▁</td></tr><tr><td>train_loss_step</td><td>▂▇▃▃▄▄▂▆▂▂▆▂▆▂▂▄▁▂▁▂▂▁▂▇▂▂█▁█▃▁▂▃▅▁▄▂▅▄▁</td></tr><tr><td>train_node_level_accuracy_epoch</td><td>▁▁▂▂▂▂▂▂▄▄▄▅▅▅▆▆▆▆▆█████████████████████</td></tr><tr><td>train_node_level_accuracy_step</td><td>█▁▆█▂▅▇▁▇█▅█▁█▇▆█▇█▇▇█▇▂▆█▂█▂▇▇▇▇▅█▅▇▅▅▇</td></tr><tr><td>val_atom_level_accuracy_epoch</td><td>▁▁▂▂▂▂▂▂▄▅▅▅▆▇▇▇▇▇▇█████████████████████</td></tr><tr><td>val_atom_level_accuracy_step</td><td>▂█▃██▇▁█▁███▁▃▂▂██▇▄█▂██▇▂▂▂███▂▅█▂██▇▅█</td></tr><tr><td>val_loss_epoch</td><td>█▇▆▅▅▅▄▄▄▃▃▃▃▂▂▂▂▂▂▁▁▁▁▁▁▁▁▁▁▁▁▁▁▁▁▁▁▁▁▁</td></tr><tr><td>val_loss_step</td><td>▃▁▄▁▁▁▃▁▃▁▁▁█▃▃▄▁▁▁▃▁▄▁▁▁█▃▃▁▁▁█▂▁▄▁▁▁▂▁</td></tr><tr><td>val_node_level_accuracy_epoch</td><td>▁▁▂▂▂▂▂▂▄▅▅▅▆▆▇▇▇▇▇█████████████████████</td></tr><tr><td>val_node_level_accuracy_step</td><td>▂█▃██▇▁█▁███▁▂▁▂██▇▄█▂█▇▇▂▂▂███▂▅█▂█▇▇▅█</td></tr></table><br/></div><div class=\"wandb-col\"><h3>Run summary:</h3><br/><table class=\"wandb\"><tr><td>global_step</td><td>212700</td></tr><tr><td>train_atom_level_accuracy_epoch</td><td>0.74926</td></tr><tr><td>train_atom_level_accuracy_step</td><td>0.91162</td></tr><tr><td>train_loss_epoch</td><td>0.60327</td></tr><tr><td>train_loss_step</td><td>0.34291</td></tr><tr><td>train_node_level_accuracy_epoch</td><td>0.74562</td></tr><tr><td>train_node_level_accuracy_step</td><td>0.90747</td></tr><tr><td>val_atom_level_accuracy_epoch</td><td>0.74525</td></tr><tr><td>val_atom_level_accuracy_step</td><td>0.53601</td></tr><tr><td>val_loss_epoch</td><td>0.6236</td></tr><tr><td>val_loss_step</td><td>1.16725</td></tr><tr><td>val_node_level_accuracy_epoch</td><td>0.74048</td></tr><tr><td>val_node_level_accuracy_step</td><td>0.56279</td></tr></table><br/></div></div>"
      ],
      "text/plain": [
       "<IPython.core.display.HTML object>"
      ]
     },
     "metadata": {},
     "output_type": "display_data"
    },
    {
     "data": {
      "text/html": [
       " View run <strong style=\"color:#cdcd00\">batchsize=1, final </strong> at: <a href='https://wandb.ai/transmembrane-topology/DL_tmp/runs/93t5ync8' target=\"_blank\">https://wandb.ai/transmembrane-topology/DL_tmp/runs/93t5ync8</a><br/>Synced 6 W&B file(s), 0 media file(s), 0 artifact file(s) and 0 other file(s)"
      ],
      "text/plain": [
       "<IPython.core.display.HTML object>"
      ]
     },
     "metadata": {},
     "output_type": "display_data"
    },
    {
     "data": {
      "text/html": [
       "Find logs at: <code>./wandb/run-20231219_085339-93t5ync8/logs</code>"
      ],
      "text/plain": [
       "<IPython.core.display.HTML object>"
      ]
     },
     "metadata": {},
     "output_type": "display_data"
    },
    {
     "name": "stdout",
     "output_type": "stream",
     "text": [
      "Finished training.\n"
     ]
    }
   ],
   "source": [
    "total_epochs=100\n",
    "draw_num = 1\n",
    "global_step = 0\n",
    "\n",
    "\n",
    "\n",
    "early_stopper = EarlyStopper(patience=3, min_delta=0.001) # se min uprise\n",
    "epoch_atom_level_accuracy_record_train = []\n",
    "epoch_loss_record_train=[]\n",
    "epoch_node_level_accuracy_record_train = []\n",
    "epoch_atom_level_accuracy_record_val = []\n",
    "epoch_loss_record_val = []\n",
    "epoch_node_level_accuracy_record_val = []\n",
    "epochs = []\n",
    "\n",
    "smoothing = GaussianSmoothing(6, 5, 0.7, 1)\n",
    "for epoch in range(total_epochs):\n",
    "    epochs.append(epoch)\n",
    "    epoch_atom_level_accuracy_train = []\n",
    "    epoch_loss_train=[]\n",
    "    epoch_node_level_accuracy_train = []\n",
    "    # train\n",
    "    for i, data in enumerate(setup_train_data):  \n",
    "        global_step += 1 \n",
    "        optimizer.zero_grad()  \n",
    "        outputs = model(data.to(device))   # put batch data in GPU get logits\n",
    "        prediction = outputs[\"node_embedding\"]  \n",
    "        real_label = torch.argmax(torch.tensor(setup_train_label[i]), dim=1).to(device) # put label in GPU\n",
    "        \n",
    "        predicted = torch.reshape(prediction.to('cpu'), (1,prediction.shape[1], prediction.shape[0]))\n",
    "        predicted = F.pad(predicted, (2, 2), mode='reflect')\n",
    "        predicted = smoothing(predicted)\n",
    "        prediction_Gauss = torch.reshape(predicted, (prediction.shape[0], prediction.shape[1]))\n",
    "\n",
    "        loss = criterion(prediction_Gauss.to(device), real_label)\n",
    "        \n",
    "        #loss = criterion(prediction, real_label)  # operate in the same device\n",
    "        loss.backward()     \n",
    "        optimizer.step()    \n",
    "\n",
    "        #calulate atom-level accuracy and \n",
    "        _, predicted = torch.max(prediction_Gauss.to(device), 1) \n",
    "        correct = (predicted == real_label).sum().item()\n",
    "        total = real_label.size(0)\n",
    "        atom_level_accuracy =  correct / total\n",
    "\n",
    "        #node-level accuracy\n",
    "        j=0\n",
    "        CA_pred_all=[]\n",
    "        for k in range(len(setup_train_total_atoms_length[i])):\n",
    "            index_last = int(setup_train_total_atoms_length[i][k]) + int(j)\n",
    "            part_pred = predicted[j:index_last]\n",
    "            CA_pred = [part_pred[index] for index in setup_train_CA_index_list[i][k]]\n",
    "            CA_pred_all.extend(CA_pred)\n",
    "            j = setup_train_total_atoms_length[i][k]\n",
    "\n",
    "        tensor_label = torch.tensor(setup_train_real_node_label[i], dtype=torch.float32).to(device)\n",
    "        CA_pred_all= [t.unsqueeze(0) for t in CA_pred_all]\n",
    "        CA_pred_all = torch.cat(CA_pred_all, dim=0)\n",
    "        node_correct = (CA_pred_all == tensor_label).sum().item()\n",
    "        node_total = CA_pred_all.size(0)\n",
    "        node_level_accuracy =  node_correct / node_total\n",
    "\n",
    "        wandb.log({'train_loss_step':loss.item(), 'global_step':global_step})\n",
    "        wandb.log({'train_atom_level_accuracy_step':atom_level_accuracy,  'global_step':global_step})\n",
    "        wandb.log({'train_node_level_accuracy_step':node_level_accuracy, 'global_step':global_step})\n",
    "\n",
    "        epoch_loss_train.append(loss.item())\n",
    "        epoch_atom_level_accuracy_train.append(atom_level_accuracy)\n",
    "        epoch_node_level_accuracy_train.append(node_level_accuracy)\n",
    "        \n",
    "    epoch_loss_record_train.append(np.mean(epoch_loss_train))\n",
    "    epoch_atom_level_accuracy_record_train.append(np.mean(epoch_atom_level_accuracy_train))\n",
    "    epoch_node_level_accuracy_record_train.append(np.mean(epoch_node_level_accuracy_train))\n",
    "\n",
    "    wandb.log({'train_loss_epoch':np.mean(epoch_loss_train), 'global_step':global_step})\n",
    "    wandb.log({'train_atom_level_accuracy_epoch':np.mean(epoch_atom_level_accuracy_train),  'global_step':global_step})\n",
    "    wandb.log({'train_node_level_accuracy_epoch':np.mean(epoch_node_level_accuracy_train), 'global_step':global_step})\n",
    "    \n",
    "    # val\n",
    "    model.eval()  \n",
    "    with torch.no_grad():  \n",
    "\n",
    "        epoch_atom_level_accuracy_val = []\n",
    "        epoch_loss_val = []\n",
    "        epoch_node_level_accuracy_val = []\n",
    "        \n",
    "        for i, data in enumerate(setup_val_data):  \n",
    "            outputs = model(data.to(device))\n",
    "            prediction = outputs[\"node_embedding\"]\n",
    "            real_label = torch.argmax(torch.tensor(setup_val_label[i]), dim=1).to(device)\n",
    "            \n",
    "            predicted = torch.reshape(prediction.to('cpu'), (1,prediction.shape[1], prediction.shape[0]))\n",
    "            predicted = F.pad(predicted, (2, 2), mode='reflect')\n",
    "            predicted = smoothing(predicted)\n",
    "            prediction_Gauss = torch.reshape(predicted, (prediction.shape[0], prediction.shape[1]))\n",
    "            \n",
    "            loss = criterion(prediction_Gauss.to(device), real_label)\n",
    "            \n",
    "            _, predicted = torch.max(prediction_Gauss.to(device), 1)\n",
    "            correct = (predicted == real_label).sum().item()\n",
    "            total = real_label.size(0)\n",
    "            atom_level_accuracy = correct / total\n",
    "\n",
    "            #node-level accuracy\n",
    "            j=0\n",
    "            CA_pred_all=[]\n",
    "            for k in range(len(setup_val_total_atoms_length[i])):\n",
    "                index_last = int(setup_val_total_atoms_length[i][k]) + int(j)\n",
    "                part_pred = predicted[j:index_last]\n",
    "                CA_pred = [part_pred[index] for index in setup_val_CA_index_list[i][k]]\n",
    "                CA_pred_all.extend(CA_pred)\n",
    "                j = setup_val_total_atoms_length[i][k]\n",
    "\n",
    "            tensor_label = torch.tensor(setup_val_real_node_label[i], dtype=torch.float32).to(device)\n",
    "            CA_pred_all= [t.unsqueeze(0) for t in CA_pred_all]\n",
    "            CA_pred_all = torch.cat(CA_pred_all, dim=0)\n",
    "            node_correct = (CA_pred_all == tensor_label).sum().item()\n",
    "            node_total = CA_pred_all.size(0)\n",
    "            node_level_accuracy =  node_correct / node_total\n",
    "            \n",
    "            wandb.log({'val_loss_step':loss.item(), 'global_step':global_step})\n",
    "            wandb.log({'val_atom_level_accuracy_step':atom_level_accuracy,  'global_step':global_step})\n",
    "            wandb.log({'val_node_level_accuracy_step':node_level_accuracy, 'global_step':global_step})\n",
    "\n",
    "\n",
    "            epoch_loss_val.append(loss.item())\n",
    "            epoch_atom_level_accuracy_val.append(atom_level_accuracy)\n",
    "            epoch_node_level_accuracy_val.append(node_level_accuracy)\n",
    "            \n",
    "        epoch_loss_record_val.append(np.mean(epoch_loss_val))\n",
    "        epoch_atom_level_accuracy_record_val.append(np.mean(epoch_atom_level_accuracy_val))\n",
    "        epoch_node_level_accuracy_record_val.append(np.mean(epoch_node_level_accuracy_val))\n",
    "\n",
    "        wandb.log({'val_loss_epoch':np.mean(epoch_loss_val), 'global_step':global_step})\n",
    "        wandb.log({'val_atom_level_accuracy_epoch':np.mean(epoch_atom_level_accuracy_val), 'global_step':global_step})\n",
    "        wandb.log({'val_node_level_accuracy_epoch':np.mean(epoch_node_level_accuracy_val), 'global_step':global_step})\n",
    "\n",
    "        # early_stopping needs the validation loss to check if it has decresed, \n",
    "        # and if it has, it will make a checkpoint of the current model\n",
    "        if early_stopper.early_stop(np.mean(epoch_loss_val)):             \n",
    "            break\n",
    "            \n",
    "    if epoch >= 46:\n",
    "        scheduler.step() # apply learning schedule\n",
    "        \n",
    "        \n",
    "    if epoch % draw_num == 0:\n",
    "        print(f\"EPOCH:{epoch}:Train Loss:{np.mean(epoch_loss_train)} Train Atom Level Accuracy:{np.mean(epoch_atom_level_accuracy_train)} Train Node Level Accuracy:{np.mean(epoch_node_level_accuracy_train)}\")\n",
    "        print(f\"EPOCH:{epoch}:Val Loss:{np.mean(epoch_loss_val)} Val Atom Level Accuracy:{np.mean(epoch_atom_level_accuracy_val)} Val Node Level Accuracy:{np.mean(epoch_node_level_accuracy_val)}\")\n",
    "\n",
    "\n",
    "wandb.finish()\n",
    "\n",
    "\n",
    "print(\"Finished training.\")\n",
    "\n",
    "torch.save(model.state_dict(), '/work3/s194408/Project/result/schnet/CVsetup1_CA_size1.pth')\n",
    "\n",
    "\n",
    "# Save the validation and training acc\n",
    "node_acc_results = np.concatenate([ [np.array(epochs)], [np.array(epoch_node_level_accuracy_record_train)], [np.array(epoch_node_level_accuracy_record_val)] ])\n",
    "np.savetxt(\"/work3/s194408/Project/result/schnet/CA_CVsetup1_node_acc_results_Gauss.csv\", node_acc_results, delimiter=',', comments=\"\", fmt='%s')\n",
    "\n",
    "loss_results = np.concatenate([ [np.array(epochs)], [np.array(epoch_loss_record_train)], [np.array(epoch_loss_record_val)] ])\n",
    "np.savetxt(\"/work3/s194408/Project/result/schnet/CA_CVsetup1_loss_results_Gauss.csv\", loss_results, delimiter=',', comments=\"\", fmt='%s')\n",
    "\n",
    "\n"
   ]
  },
  {
   "cell_type": "code",
   "execution_count": null,
   "id": "f839a384",
   "metadata": {},
   "outputs": [],
   "source": []
  },
  {
   "cell_type": "code",
   "execution_count": 54,
   "id": "3bd71c05",
   "metadata": {},
   "outputs": [
    {
     "name": "stdout",
     "output_type": "stream",
     "text": [
      "test_atom_level_accuracy: 0.7343361471106192\n",
      "test_node_level_accuracy: 0.7307416821891809\n"
     ]
    }
   ],
   "source": [
    "# Test CA \n",
    "\n",
    "# setup_test_data, setup_test_label, setup_test_real_node_label, setup_test_CA_index_list, setup_test_total_atoms_length = make_splits(cv0_lis, cv1_lis, cv2_lis, cv3_lis, cv4_lis, \"setup 1\")\n",
    "\n",
    "test_atom_level_accuracy = []\n",
    "test_node_level_accuracy  = []\n",
    "test_predict_node_label_lis = []\n",
    "model.eval()\n",
    "with torch.no_grad():\n",
    "\n",
    "  for i, data in enumerate(setup_test_data):\n",
    "      outputs = model(data.to(device))\n",
    "      prediction = outputs[\"node_embedding\"]\n",
    "      real_label = torch.argmax(torch.tensor(setup_test_label[i]), dim=1).to(device)\n",
    "\n",
    "      predicted = torch.reshape(prediction.to('cpu'), (1,prediction.shape[1], prediction.shape[0]))\n",
    "      predicted = F.pad(predicted, (2, 2), mode='reflect')\n",
    "      predicted = smoothing(predicted)\n",
    "      prediction_Gauss = torch.reshape(predicted, (prediction.shape[0], prediction.shape[1]))\n",
    "\n",
    "      loss = criterion(prediction_Gauss.to(device), real_label)\n",
    "\n",
    "      _, predicted = torch.max(prediction_Gauss.to(device), 1)\n",
    "\n",
    "      #_, predicted = torch.max(prediction, 1)\n",
    "      correct = (predicted == real_label).sum().item()\n",
    "      total = real_label.size(0)\n",
    "      atom_level_accuracy = correct / total\n",
    "      test_atom_level_accuracy.append(atom_level_accuracy)\n",
    "      #node-level accuracy\n",
    "      j=0\n",
    "      CA_pred_all=[]\n",
    "      for k in range(len(setup_test_total_atoms_length[i])):\n",
    "          index_last = int(setup_test_total_atoms_length[i][k]) + int(j)\n",
    "          part_pred = predicted[j:index_last].to('cpu')\n",
    "          CA_pred = [part_pred[index] for index in setup_test_CA_index_list[i][k]]\n",
    "          CA_pred_all.extend(CA_pred)\n",
    "          j = setup_test_total_atoms_length[i][k]\n",
    "          test_predict_node_label_lis.append(CA_pred)\n",
    "\n",
    "      tensor_label = torch.tensor(setup_test_real_node_label[i], dtype=torch.float32).to(device)\n",
    "      CA_pred_all= [t.unsqueeze(0) for t in CA_pred_all]\n",
    "      CA_pred_all = torch.cat(CA_pred_all, dim=0)\n",
    "      node_correct = (CA_pred_all == tensor_label.to('cpu')).sum().item()\n",
    "\n",
    "      #print(\"pred:\",CA_pred_all.tolist())\n",
    "      #print(\"real:\", tensor_label.tolist(),\"\\n\")\n",
    "      #test_BETA_predict_node_label_lis.append(CA_pred_all.tolist())\n",
    "\n",
    "      node_total = CA_pred_all.size(0)\n",
    "      node_level_accuracy =  node_correct / node_total\n",
    "\n",
    "      test_node_level_accuracy.append(node_level_accuracy)\n",
    "\n",
    "  print('test_atom_level_accuracy:',np.mean(test_atom_level_accuracy))\n",
    "  print('test_node_level_accuracy:',np.mean(test_node_level_accuracy))"
   ]
  },
  {
   "cell_type": "code",
   "execution_count": 55,
   "id": "16278cbe",
   "metadata": {},
   "outputs": [],
   "source": [
    "# Topology\n",
    "\n",
    "# Try Felix' code\n",
    "'''\n",
    "metric_utils.py\n",
    "===============\n",
    "\n",
    "Code provided by Jeppe Hallgren.\n",
    "\n",
    "All functions were written in pytorch 1.5 - best if you check whether\n",
    "there are any changes/warnings that you should consider for pytorch 2.0+.\n",
    "'''\n",
    "import torch\n",
    "from typing import List, Union, Dict\n",
    "\n",
    "# The following are the label mapping is used in the metrics.\n",
    "#LABELS: Dict[str,int] = {'I': 0, 'O':1, 'B': 2, 'S': 3, 'M':4, 'B': 5}\n",
    "LABELS: Dict[str,int] = {'I': 0, 'O':1, 'P': 2, 'S': 3, 'M':4, 'B': 5}\n",
    "\n",
    "def label_list_to_topology(labels: Union[List[int], torch.Tensor]) -> List[torch.Tensor]:\n",
    "    \"\"\"\n",
    "    Converts a list of per-position labels to a topology representation.\n",
    "    This maps every sequence to list of where each new symbol start (the topology), e.g. AAABBBBCCC -> [(0,A),(3, B)(7,C)]\n",
    "\n",
    "    Parameters\n",
    "    ----------\n",
    "    labels : list or torch.Tensor of ints\n",
    "        List of labels.\n",
    "\n",
    "    Returns\n",
    "    -------\n",
    "    list of torch.Tensor\n",
    "        List of tensors that represents the topology.\n",
    "    \"\"\"\n",
    "\n",
    "    if isinstance(labels, list):\n",
    "        labels = torch.LongTensor(labels)\n",
    "\n",
    "    if isinstance(labels, torch.Tensor):\n",
    "        zero_tensor = torch.LongTensor([0])\n",
    "        if labels.is_cuda:\n",
    "            zero_tensor = zero_tensor.cuda()\n",
    "\n",
    "        unique, count = torch.unique_consecutive(labels, return_counts=True)\n",
    "        top_list = [torch.cat((zero_tensor, labels[0:1]))]\n",
    "        prev_count = 0\n",
    "        i = 0\n",
    "        for _ in unique.split(1):\n",
    "            if i == 0:\n",
    "                i += 1\n",
    "                continue\n",
    "            prev_count += count[i - 1]\n",
    "            top_list.append(torch.cat((prev_count.view(1), unique[i].view(1))))\n",
    "            i += 1\n",
    "        return top_list\n",
    "\n",
    "\n",
    "def is_topologies_equal(topology_a, topology_b, minimum_seqment_overlap=5):\n",
    "    \"\"\"\n",
    "    Checks whether two topologies are equal.\n",
    "    E.g. [(0,A),(3, B)(7,C)]  is the same as [(0,A),(4, B)(7,C)]\n",
    "    But not the same as [(0,A),(3, C)(7,B)]\n",
    "\n",
    "    Parameters\n",
    "    ----------\n",
    "    topology_a : list of torch.Tensor\n",
    "        First topology. See label_list_to_topology.\n",
    "    topology_b : list of torch.Tensor\n",
    "        Second topology. See label_list_to_topology.\n",
    "    minimum_seqment_overlap : int\n",
    "        Minimum overlap between two segments to be considered equal.\n",
    "\n",
    "    Returns\n",
    "    -------\n",
    "    bool\n",
    "        True if topologies are equal, False otherwise.\n",
    "    \"\"\"\n",
    "\n",
    "    if isinstance(topology_a[0], torch.Tensor):\n",
    "        topology_a = list([a.cpu().numpy() for a in topology_a])\n",
    "    if isinstance(topology_b[0], torch.Tensor):\n",
    "        topology_b = list([b.cpu().numpy() for b in topology_b])\n",
    "    if len(topology_a) != len(topology_b):\n",
    "        return False\n",
    "    for idx, (_position_a, label_a) in enumerate(topology_a):\n",
    "        if label_a != topology_b[idx][1]:\n",
    "            if (label_a in (1,2) and topology_b[idx][1] in (1,2)): # assume O == P\n",
    "                continue\n",
    "            else:\n",
    "                return False\n",
    "        if label_a in (3, 4, 5):\n",
    "            overlap_segment_start = max(topology_a[idx][0], topology_b[idx][0])\n",
    "            overlap_segment_end = min(topology_a[idx + 1][0], topology_b[idx + 1][0])\n",
    "            if label_a == 5:\n",
    "                # Set minimum segment overlap to 3 for Beta regions\n",
    "                minimum_seqment_overlap = minimum_seqment_overlap\n",
    "             #   print(minimum_seqment_overlap)\n",
    "            if overlap_segment_end - overlap_segment_start < minimum_seqment_overlap:\n",
    "                return False\n",
    "    return True\n"
   ]
  },
  {
   "cell_type": "code",
   "execution_count": 57,
   "id": "71fda9ad",
   "metadata": {},
   "outputs": [
    {
     "name": "stdout",
     "output_type": "stream",
     "text": [
      "Node acc before smoothing: 0.7307416821891798\n",
      "Before smoothing correct topology: 0.0379746835443038 \n",
      "\n",
      "Node acc after Gaussian smoothing: 0.6410536897947575\n",
      "After Gaussian smoothing correct topology: 0.21237693389592124 \n",
      "\n"
     ]
    }
   ],
   "source": [
    "from scipy.ndimage import gaussian_filter1d\n",
    "\n",
    "\n",
    "resul = []\n",
    "acc_lis = []\n",
    "for i in range(0, len(test_predict_node_label_lis)):\n",
    "\n",
    "  #for j in range(0, len(test_BETA_predict_node_label_lis[i])):\n",
    "  topo_A = label_list_to_topology(test_predict_node_label_lis[i])\n",
    "  topo_B = label_list_to_topology(setup_test_real_node_label[i])\n",
    "\n",
    "  #print(topo_A)\n",
    "  #print(topo_B)\n",
    "\n",
    "  resul.append(is_topologies_equal(topo_A, topo_B, 5))\n",
    "  #print(SP_TM_resul.append(is_topologies_equal(topo_A, topo_B, 5)))\n",
    "  node_level_accuracy = node_accuracy(test_predict_node_label_lis[i], setup_test_real_node_label[i])\n",
    "  acc_lis.append(node_level_accuracy)\n",
    "\n",
    "final_node_acc = sum(acc_lis)/len(acc_lis)\n",
    "print(\"Node acc before smoothing:\", final_node_acc)\n",
    "print(\"Before smoothing correct topology:\", sum(resul)/len(resul), \"\\n\")\n",
    "\n",
    "\n",
    "resul_2 = []\n",
    "acc_lis = []\n",
    "for i in range(0, len(test_predict_node_label_lis)):\n",
    "  smoothened = gaussian_filter1d(test_predict_node_label_lis[i], 1, radius=3)  # using same Gaussian filter setup as TMBED article\n",
    "\n",
    "  topo_A = label_list_to_topology(smoothened.tolist())\n",
    "  topo_B = label_list_to_topology(setup_test_real_node_label[i])\n",
    "\n",
    "\n",
    "  resul_2.append(is_topologies_equal(topo_A, topo_B, 5))\n",
    "  node_level_accuracy = node_accuracy(smoothened.tolist(), setup_test_real_node_label[i])\n",
    "  acc_lis.append(node_level_accuracy)\n",
    "\n",
    "\n",
    "final_node_acc = sum(acc_lis)/len(acc_lis)\n",
    "print(\"Node acc after Gaussian smoothing:\", final_node_acc)\n",
    "\n",
    "print(\"After Gaussian smoothing correct topology:\", sum(resul_2)/len(resul_2), \"\\n\")"
   ]
  },
  {
   "cell_type": "code",
   "execution_count": 60,
   "id": "ac09ca90",
   "metadata": {},
   "outputs": [
    {
     "name": "stdout",
     "output_type": "stream",
     "text": [
      "Node acc for SP + TM: 0.18852829717885938\n",
      "Node acc for TM: 0.4458417435874175\n",
      "Node acc for BETA: 0.0\n"
     ]
    }
   ],
   "source": [
    "# find baseline residue acc\n",
    "#test_SP_TM_data,test_SP_TM_lable, test_SP_TM_max_len,test_SP_TM_real_node_label,test_SP_TM_CA_index_list,test_SP_TM_atoms_length = processor.datalabelgenerator('test_SP_TM')\n",
    "\n",
    "#test_TM_data,test_TM_lable,test_TM_max_len,test_TM_real_node_label,test_TM_CA_index_list,test_TM_atoms_length = processor.datalabelgenerator('test_TM')\n",
    "\n",
    "#test_BETA_data,test_BETA_lable,test_BETA_max_len,test_BETA_real_node_label,test_BETA_CA_index_list,test_BETA_atoms_length = processor.datalabelgenerator('test_BETA')\n",
    "\n",
    "SP_TM_node_acc = []\n",
    "for i in range(0, len(test_SP_TM_real_node_label)):\n",
    "    baseline = np.zeros_like(np.array(test_SP_TM_real_node_label[i]))\n",
    "\n",
    "    SP_TM_node_acc += (np.array(test_SP_TM_real_node_label[i]) == np.array(baseline)).tolist()\n",
    "\n",
    "\n",
    "\n",
    "print(\"Node acc for SP + TM:\", sum(SP_TM_node_acc)/len(SP_TM_node_acc) )\n",
    "    \n",
    "    \n",
    "    \n",
    "TM_node_acc = []\n",
    "for i in range(0, len(test_TM_real_node_label)):\n",
    "    baseline = np.zeros_like(np.array(test_TM_real_node_label[i]))\n",
    "\n",
    "    TM_node_acc += (np.array(test_TM_real_node_label[i]) == np.array(baseline)).tolist()\n",
    "\n",
    "\n",
    "\n",
    "print(\"Node acc for TM:\", sum(TM_node_acc)/len(TM_node_acc) )\n",
    "\n",
    "\n",
    "\n",
    "\n",
    "BETA_node_acc = []\n",
    "for i in range(0, len(test_BETA_real_node_label)):\n",
    "    baseline = np.zeros_like(np.array(test_BETA_real_node_label[i]))\n",
    "\n",
    "    BETA_node_acc += (np.array(test_BETA_real_node_label[i]) == np.array(baseline)).tolist()\n",
    "\n",
    "\n",
    "\n",
    "print(\"Node acc for BETA:\", sum(BETA_node_acc)/len(BETA_node_acc) )"
   ]
  },
  {
   "cell_type": "code",
   "execution_count": null,
   "id": "bc65ef54",
   "metadata": {},
   "outputs": [],
   "source": []
  }
 ],
 "metadata": {
  "kernelspec": {
   "display_name": "Python 3",
   "language": "python",
   "name": "python3"
  },
  "language_info": {
   "codemirror_mode": {
    "name": "ipython",
    "version": 3
   },
   "file_extension": ".py",
   "mimetype": "text/x-python",
   "name": "python",
   "nbconvert_exporter": "python",
   "pygments_lexer": "ipython3",
   "version": "3.9.18"
  }
 },
 "nbformat": 4,
 "nbformat_minor": 5
}
